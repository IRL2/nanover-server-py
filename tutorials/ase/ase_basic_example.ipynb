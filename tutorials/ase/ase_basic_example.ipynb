{
 "cells": [
  {
   "cell_type": "markdown",
   "metadata": {},
   "source": [
    "# NanoVer ASE Client / Server Example"
   ]
  },
  {
   "cell_type": "markdown",
   "metadata": {},
   "source": [
    "This notebook demonstrates how to set up a molecular simulation with ASE and combine it with NanoVer to run an interactive molecular dynamics (iMD) simulation. \n",
    "We then connect to the simulation from a client, so we can look at the data being produced and visualize it.\n",
    "\n",
    "\n",
    "**Note**: This example demonstrates running iMD simulations using ASE via NanoVer. For tutorials that demonstrate the different ways to interface ASE with OpenMM via NanoVer, check out the tutorials in this directory prefixed with `ase_openmm`."
   ]
  },
  {
   "cell_type": "markdown",
   "metadata": {},
   "source": [
    "## Set up an ASE simulation"
   ]
  },
  {
   "cell_type": "markdown",
   "metadata": {},
   "source": [
    "First, we set up an ASE simulation. We're going to do a simple lattice of copper particles under an EMT potential, but you can use [any supported calculator](https://wiki.fysik.dtu.dk/ase/ase/calculators/calculators.html#module-ase.calculators)!"
   ]
  },
  {
   "cell_type": "code",
   "execution_count": 1,
   "metadata": {
    "ExecuteTime": {
     "end_time": "2024-10-22T14:18:07.749267Z",
     "start_time": "2024-10-22T14:18:07.638160Z"
    },
    "pycharm": {
     "is_executing": false
    }
   },
   "outputs": [],
   "source": [
    "from ase import units\n",
    "from ase.calculators.emt import EMT\n",
    "from ase.lattice.cubic import FaceCenteredCubic\n",
    "from ase.md import Langevin\n",
    "from ase.md.velocitydistribution import MaxwellBoltzmannDistribution"
   ]
  },
  {
   "cell_type": "code",
   "execution_count": 2,
   "metadata": {
    "ExecuteTime": {
     "end_time": "2024-10-22T14:18:07.754630Z",
     "start_time": "2024-10-22T14:18:07.751558Z"
    },
    "pycharm": {
     "is_executing": false
    }
   },
   "outputs": [],
   "source": [
    "size = 2\n",
    "# Set up a crystal\n",
    "atoms = FaceCenteredCubic(directions=[[1, 0, 0], [0, 1, 0], [0, 0, 1]],\n",
    "                          symbol=\"Cu\",\n",
    "                          size=(size, size, size),\n",
    "                          pbc=True)\n",
    "# Describe the interatomic interactions with Effective Medium Theory\n",
    "atoms.calc = EMT()\n",
    "# Set the atomic momenta to 300 Kelvin. \n",
    "MaxwellBoltzmannDistribution(atoms, temperature_K=300)"
   ]
  },
  {
   "cell_type": "markdown",
   "metadata": {},
   "source": [
    "Next we need to define the component of the molecular dynamics simulation that performs the numerical integration of the equations of motion. We're going to run Langevin dynamics at room temperature:"
   ]
  },
  {
   "cell_type": "code",
   "execution_count": 3,
   "metadata": {
    "ExecuteTime": {
     "end_time": "2024-10-22T14:18:09.633559Z",
     "start_time": "2024-10-22T14:18:09.630717Z"
    },
    "pycharm": {
     "is_executing": false
    }
   },
   "outputs": [],
   "source": [
    "dyn = Langevin(atoms, timestep=1 * units.fs, temperature_K=300, friction=0.5)"
   ]
  },
  {
   "cell_type": "markdown",
   "metadata": {},
   "source": [
    "Let's check the dynamics are working by running one simulation step and checking the potential energy.\n",
    "\n",
    "**WARNING**: when accessing data via the `dyn` object, the values we retrieve are in the *units used internally by ASE*. *These units **differ** from those of NanoVer*, so bear this in mind when examining data this way!"
   ]
  },
  {
   "cell_type": "code",
   "execution_count": 4,
   "metadata": {
    "ExecuteTime": {
     "end_time": "2024-10-22T14:18:11.188884Z",
     "start_time": "2024-10-22T14:18:11.136433Z"
    },
    "pycharm": {
     "is_executing": false
    }
   },
   "outputs": [
    {
     "data": {
      "text/plain": [
       "1"
      ]
     },
     "execution_count": 4,
     "metadata": {},
     "output_type": "execute_result"
    }
   ],
   "source": [
    "dyn.run(steps = 1)\n",
    "dyn.get_number_of_steps()"
   ]
  },
  {
   "cell_type": "code",
   "execution_count": 5,
   "metadata": {
    "ExecuteTime": {
     "end_time": "2024-10-22T14:18:12.642111Z",
     "start_time": "2024-10-22T14:18:12.638275Z"
    },
    "pycharm": {
     "is_executing": false
    }
   },
   "outputs": [
    {
     "data": {
      "text/plain": [
       "-0.18038666809408888"
      ]
     },
     "execution_count": 5,
     "metadata": {},
     "output_type": "execute_result"
    }
   ],
   "source": [
    "# Note that this is the energy in eV, not kJ mol-1 (the standard units of ASE are different to those of OpenMM and NanoVer)\n",
    "dyn.atoms.get_potential_energy()"
   ]
  },
  {
   "cell_type": "markdown",
   "metadata": {},
   "source": [
    "Now let's import the `ASESimulation` class: this allows us to pass our ASE molecular dynamics simulation to NanoVer to run an iMD simulation. We can define our `ASESimulation` from the dynamics object we created above, as follows:"
   ]
  },
  {
   "cell_type": "code",
   "execution_count": 6,
   "metadata": {
    "ExecuteTime": {
     "end_time": "2024-10-22T14:18:17.564561Z",
     "start_time": "2024-10-22T14:18:17.483100Z"
    }
   },
   "outputs": [],
   "source": [
    "from nanover.omni.ase import ASESimulation\n",
    "\n",
    "ase_sim = ASESimulation.from_ase_dynamics(dyn)\n",
    "ase_sim.frame_interval = 1  # report every simulation step to clients"
   ]
  },
  {
   "cell_type": "markdown",
   "metadata": {},
   "source": [
    "Let's run a couple of steps to check that everything is still working. \n",
    "\n",
    "**NOTE**: the commands below still run the ASE MD simulation directly, (i.e. *NOT* using NanoVer and thus not running an iMD simulation), and the data is still being accessed via the dynamics object defined previously (i.e. `ase_sim.dynamics = dyn`, see above). "
   ]
  },
  {
   "cell_type": "code",
   "execution_count": 7,
   "metadata": {
    "ExecuteTime": {
     "end_time": "2024-10-22T14:18:20.395932Z",
     "start_time": "2024-10-22T14:18:20.226273Z"
    },
    "pycharm": {
     "is_executing": false
    }
   },
   "outputs": [
    {
     "data": {
      "text/plain": [
       "11"
      ]
     },
     "execution_count": 7,
     "metadata": {},
     "output_type": "execute_result"
    }
   ],
   "source": [
    "ase_sim.dynamics.run(10)\n",
    "ase_sim.dynamics.nsteps"
   ]
  },
  {
   "cell_type": "code",
   "execution_count": 8,
   "metadata": {
    "ExecuteTime": {
     "end_time": "2024-10-22T14:18:21.498100Z",
     "start_time": "2024-10-22T14:18:21.494489Z"
    }
   },
   "outputs": [
    {
     "data": {
      "text/plain": [
       "-0.037373258563237144"
      ]
     },
     "execution_count": 8,
     "metadata": {},
     "output_type": "execute_result"
    }
   ],
   "source": [
    "ase_sim.dynamics.atoms.get_potential_energy()"
   ]
  },
  {
   "cell_type": "markdown",
   "metadata": {},
   "source": [
    "Great! Everything's working with the `ASESimulation`. Let's turn our attention to setting up the server and running an iMD simulation."
   ]
  },
  {
   "cell_type": "markdown",
   "metadata": {},
   "source": [
    "## Set up the NanoVer iMD server"
   ]
  },
  {
   "cell_type": "markdown",
   "metadata": {},
   "source": [
    "In NanoVer we use the `OmniRunner` class to serve iMD simulations."
   ]
  },
  {
   "cell_type": "code",
   "execution_count": 9,
   "metadata": {
    "ExecuteTime": {
     "end_time": "2024-10-22T14:18:23.776446Z",
     "start_time": "2024-10-22T14:18:23.774064Z"
    },
    "pycharm": {
     "is_executing": false
    }
   },
   "outputs": [],
   "source": [
    "from nanover.omni import OmniRunner"
   ]
  },
  {
   "cell_type": "markdown",
   "metadata": {},
   "source": [
    "We set up an iMD simulation by passing the `ASESimulation` defined above to an `OmniRunner`: we set `port=0` to let the operating system pick a free port for us."
   ]
  },
  {
   "cell_type": "code",
   "execution_count": 10,
   "metadata": {
    "ExecuteTime": {
     "end_time": "2024-10-22T14:18:48.401896Z",
     "start_time": "2024-10-22T14:18:48.388448Z"
    },
    "pycharm": {
     "is_executing": false
    }
   },
   "outputs": [],
   "source": [
    "imd_runner = OmniRunner.with_basic_server(ase_sim, port=0, name=\"ase_nanover_server\") #Try using Shift+TAB+TAB to see what you can set up here."
   ]
  },
  {
   "cell_type": "markdown",
   "metadata": {},
   "source": [
    "**Note**: Be careful if you run the above cell multiple times without running `imd_runner.close()` (see below), as you will start multiple servers, which may be discovered if you use autoconnect. You can guard against this by swapping the cell above with:\n",
    "\n",
    "```python\n",
    "try:\n",
    "    imd_runner.close()\n",
    "except NameError: # If the server hasn't been defined yet, there will be an error\n",
    "    pass\n",
    "imd_runner = OmniRunner.with_basic_server(ase_sim, port=0)\n",
    "```"
   ]
  },
  {
   "cell_type": "markdown",
   "metadata": {},
   "source": [
    "Our server is now running and discoverable! We can see where it's running by running the following cell:"
   ]
  },
  {
   "cell_type": "code",
   "execution_count": 11,
   "metadata": {
    "ExecuteTime": {
     "end_time": "2024-10-22T14:18:50.333783Z",
     "start_time": "2024-10-22T14:18:50.330949Z"
    },
    "pycharm": {
     "is_executing": false
    }
   },
   "outputs": [
    {
     "name": "stdout",
     "output_type": "stream",
     "text": [
      "ase_nanover_server: Running at [::]:62976\n"
     ]
    }
   ],
   "source": [
    "print(f'{imd_runner.app_server.name}: Running at {imd_runner.app_server.address}:{imd_runner.app_server.port}')"
   ]
  },
  {
   "cell_type": "markdown",
   "metadata": {},
   "source": [
    "The `[::]` means it is running on all available addresses, e.g. your WiFi and cabled access, and it's found an available port"
   ]
  },
  {
   "cell_type": "markdown",
   "metadata": {},
   "source": [
    "Now, let's start the ASE simulation"
   ]
  },
  {
   "cell_type": "code",
   "execution_count": 12,
   "metadata": {
    "ExecuteTime": {
     "end_time": "2024-10-22T14:18:51.914283Z",
     "start_time": "2024-10-22T14:18:51.900741Z"
    }
   },
   "outputs": [],
   "source": [
    "imd_runner.load(0)"
   ]
  },
  {
   "cell_type": "code",
   "execution_count": 13,
   "metadata": {
    "ExecuteTime": {
     "end_time": "2024-10-22T14:18:53.443405Z",
     "start_time": "2024-10-22T14:18:53.440292Z"
    },
    "pycharm": {
     "is_executing": false
    }
   },
   "outputs": [
    {
     "name": "stdout",
     "output_type": "stream",
     "text": [
      "Simulation time: 1.080496426731047, (11 steps)\n"
     ]
    }
   ],
   "source": [
    "# print the time to check dynamics is running\n",
    "print(f'Simulation time: {ase_sim.dynamics.get_time()}, ({ase_sim.dynamics.nsteps} steps)')"
   ]
  },
  {
   "cell_type": "markdown",
   "metadata": {},
   "source": [
    "Ok, it's working, so let's leave it running dynamics in a background thread. This is what happens by default when you call `.next()`"
   ]
  },
  {
   "cell_type": "markdown",
   "metadata": {},
   "source": [
    "That's it, your simulation is running and interactive! If you connect to it from iMD-VR, you'll see something like:\n",
    "\n",
    "![NanoVer ASE EMT](./images/nanover_ase_emt.png)"
   ]
  },
  {
   "cell_type": "markdown",
   "metadata": {},
   "source": [
    "You can also visualize it live from within a Jupyter notebook, (check out this [example with NGLView](../basics/nanover_nglview.ipynb))."
   ]
  },
  {
   "cell_type": "markdown",
   "metadata": {},
   "source": [
    "## Start an IMD client"
   ]
  },
  {
   "cell_type": "markdown",
   "metadata": {},
   "source": [
    "Let's have a look at the data that's being produced here, by connecting a python client to the server running the simulation."
   ]
  },
  {
   "cell_type": "code",
   "execution_count": 14,
   "metadata": {
    "ExecuteTime": {
     "end_time": "2024-10-22T14:18:57.005418Z",
     "start_time": "2024-10-22T14:18:56.943096Z"
    },
    "pycharm": {
     "is_executing": false
    }
   },
   "outputs": [],
   "source": [
    "from nanover.app import NanoverImdClient\n",
    "client = NanoverImdClient.connect_to_single_server(port=imd_runner.app_server.port)"
   ]
  },
  {
   "cell_type": "markdown",
   "metadata": {},
   "source": [
    "Subscribe to the stream of frames. By default the server will try to send 30 frames per seconds—if it produces more frames, some frames will be skipped to maintain the cadence."
   ]
  },
  {
   "cell_type": "code",
   "execution_count": 15,
   "metadata": {
    "ExecuteTime": {
     "end_time": "2024-10-22T14:18:59.055698Z",
     "start_time": "2024-10-22T14:18:59.030294Z"
    }
   },
   "outputs": [],
   "source": [
    "client.subscribe_to_frames()"
   ]
  },
  {
   "cell_type": "markdown",
   "metadata": {},
   "source": [
    "Let's grab one of the frames and examine some of its values"
   ]
  },
  {
   "cell_type": "code",
   "execution_count": 19,
   "metadata": {
    "ExecuteTime": {
     "end_time": "2024-10-22T14:19:01.004068Z",
     "start_time": "2024-10-22T14:19:00.996126Z"
    },
    "pycharm": {
     "is_executing": false
    }
   },
   "outputs": [],
   "source": [
    "client.wait_until_first_frame()\n",
    "frame = client.current_frame"
   ]
  },
  {
   "cell_type": "code",
   "execution_count": 17,
   "metadata": {
    "ExecuteTime": {
     "end_time": "2024-10-22T14:19:02.021105Z",
     "start_time": "2024-10-22T14:19:02.011673Z"
    }
   },
   "outputs": [
    {
     "data": {
      "text/plain": [
       "32"
      ]
     },
     "execution_count": 17,
     "metadata": {},
     "output_type": "execute_result"
    }
   ],
   "source": [
    "frame.particle_count"
   ]
  },
  {
   "cell_type": "code",
   "execution_count": 20,
   "metadata": {
    "ExecuteTime": {
     "end_time": "2024-10-22T14:19:03.694727Z",
     "start_time": "2024-10-22T14:19:03.689968Z"
    },
    "pycharm": {
     "is_executing": false
    }
   },
   "outputs": [
    {
     "data": {
      "text/plain": [
       "86.01823346118756"
      ]
     },
     "execution_count": 20,
     "metadata": {},
     "output_type": "execute_result"
    }
   ],
   "source": [
    "# NBVAL_SKIP\n",
    "# Print the potential energy, here in kJ mol-1 as we are accessing it via NanoVer\n",
    "frame.potential_energy # use TAB to see what's available!"
   ]
  },
  {
   "cell_type": "markdown",
   "metadata": {},
   "source": [
    "See here that as we have accessed the potential energy via the frame output by NanoVer, so it is given in NanoVer's standard unit of energy, kJ/mol.\n",
    "\n",
    "We can also print out the raw underlying data that is sent from the server to a client, and see all the simulation data that is being transmitted:"
   ]
  },
  {
   "cell_type": "code",
   "execution_count": 21,
   "metadata": {
    "ExecuteTime": {
     "end_time": "2024-10-22T14:19:05.100928Z",
     "start_time": "2024-10-22T14:19:05.079493Z"
    },
    "pycharm": {
     "is_executing": false
    },
    "scrolled": true
   },
   "outputs": [
    {
     "data": {
      "text/plain": [
       "values {\n",
       "  key: \"system.simulation.counter\"\n",
       "  value {\n",
       "    number_value: 0\n",
       "  }\n",
       "}\n",
       "values {\n",
       "  key: \"server.timestamp\"\n",
       "  value {\n",
       "    number_value: 159361.89\n",
       "  }\n",
       "}\n",
       "values {\n",
       "  key: \"residue.count\"\n",
       "  value {\n",
       "    number_value: 1\n",
       "  }\n",
       "}\n",
       "values {\n",
       "  key: \"particle.count\"\n",
       "  value {\n",
       "    number_value: 32\n",
       "  }\n",
       "}\n",
       "values {\n",
       "  key: \"energy.potential\"\n",
       "  value {\n",
       "    number_value: 101.4708851473297\n",
       "  }\n",
       "}\n",
       "values {\n",
       "  key: \"energy.kinetic\"\n",
       "  value {\n",
       "    number_value: 112.52305509552831\n",
       "  }\n",
       "}\n",
       "values {\n",
       "  key: \"chain.count\"\n",
       "  value {\n",
       "    number_value: 1\n",
       "  }\n",
       "}\n",
       "arrays {\n",
       "  key: \"system.box.vectors\"\n",
       "  value {\n",
       "    float_values {\n",
       "      values: 0.722\n",
       "      values: 0\n",
       "      values: 0\n",
       "      values: 0\n",
       "      values: 0.722\n",
       "      values: 0\n",
       "      values: 0\n",
       "      values: 0\n",
       "      values: 0.722\n",
       "    }\n",
       "  }\n",
       "}\n",
       "arrays {\n",
       "  key: \"residue.names\"\n",
       "  value {\n",
       "    string_values {\n",
       "      values: \"ASE\"\n",
       "    }\n",
       "  }\n",
       "}\n",
       "arrays {\n",
       "  key: \"residue.ids\"\n",
       "  value {\n",
       "    string_values {\n",
       "      values: \"1\"\n",
       "    }\n",
       "  }\n",
       "}\n",
       "arrays {\n",
       "  key: \"residue.chains\"\n",
       "  value {\n",
       "    index_values {\n",
       "      values: 0\n",
       "    }\n",
       "  }\n",
       "}\n",
       "arrays {\n",
       "  key: \"particle.residues\"\n",
       "  value {\n",
       "    index_values {\n",
       "      values: 0\n",
       "      values: 0\n",
       "      values: 0\n",
       "      values: 0\n",
       "      values: 0\n",
       "      values: 0\n",
       "      values: 0\n",
       "      values: 0\n",
       "      values: 0\n",
       "      values: 0\n",
       "      values: 0\n",
       "      values: 0\n",
       "      values: 0\n",
       "      values: 0\n",
       "      values: 0\n",
       "      values: 0\n",
       "      values: 0\n",
       "      values: 0\n",
       "      values: 0\n",
       "      values: 0\n",
       "      values: 0\n",
       "      values: 0\n",
       "      values: 0\n",
       "      values: 0\n",
       "      values: 0\n",
       "      values: 0\n",
       "      values: 0\n",
       "      values: 0\n",
       "      values: 0\n",
       "      values: 0\n",
       "      values: 0\n",
       "      values: 0\n",
       "    }\n",
       "  }\n",
       "}\n",
       "arrays {\n",
       "  key: \"particle.positions\"\n",
       "  value {\n",
       "    float_values {\n",
       "      values: -0.00759304\n",
       "      values: 0.00972383656\n",
       "      values: -0.0108290985\n",
       "      values: 0.197368041\n",
       "      values: 0.180130258\n",
       "      values: 0.00883418\n",
       "      values: 0.170087665\n",
       "      values: 0.00278812321\n",
       "      values: 0.182628229\n",
       "      values: -0.00116375438\n",
       "      values: 0.184374\n",
       "      values: 0.17531009\n",
       "      values: 0.373243809\n",
       "      values: 0.0104443971\n",
       "      values: -0.0101531697\n",
       "      values: 0.544223726\n",
       "      values: 0.195054412\n",
       "      values: 0.00313868723\n",
       "      values: 0.548452199\n",
       "      values: -0.00217647897\n",
       "      values: 0.187446162\n",
       "      values: 0.35841006\n",
       "      values: 0.177044317\n",
       "      values: 0.186596617\n",
       "      values: 0.0142228408\n",
       "      values: 0.357260972\n",
       "      values: 0.0105382511\n",
       "      values: 0.178797126\n",
       "      values: 0.554154277\n",
       "      values: -0.00972318836\n",
       "      values: 0.177721187\n",
       "      values: 0.361445844\n",
       "      values: 0.189236298\n",
       "      values: -0.0112853078\n",
       "      values: 0.539905488\n",
       "      values: 0.182282895\n",
       "      values: 0.364150017\n",
       "      values: 0.3640441\n",
       "      values: 0.0128618637\n",
       "      values: 0.545499504\n",
       "      values: 0.539073646\n",
       "      values: -0.00719624199\n",
       "      values: 0.535571396\n",
       "      values: 0.364153206\n",
       "      values: 0.190269217\n",
       "      values: 0.360670269\n",
       "      values: 0.557437301\n",
       "      values: 0.170332357\n",
       "      values: 0.00150310772\n",
       "      values: 0.00521806767\n",
       "      values: 0.356761813\n",
       "      values: 0.173574\n",
       "      values: 0.179415509\n",
       "      values: 0.370649\n",
       "      values: 0.185407802\n",
       "      values: 0.00171295065\n",
       "      values: 0.544968247\n",
       "      values: -0.000279996777\n",
       "      values: 0.183284879\n",
       "      values: 0.538648188\n",
       "      values: 0.350041389\n",
       "      values: -0.00995239895\n",
       "      values: 0.364245683\n",
       "      values: 0.542010844\n",
       "      values: 0.168135673\n",
       "      values: 0.356926978\n",
       "      values: 0.549341083\n",
       "      values: 0.00606270833\n",
       "      values: 0.538318157\n",
       "      values: 0.373749703\n",
       "      values: 0.173262626\n",
       "      values: 0.532693624\n",
       "      values: -0.00831211917\n",
       "      values: 0.363405257\n",
       "      values: 0.353627741\n",
       "      values: 0.175674826\n",
       "      values: 0.525628328\n",
       "      values: 0.36735633\n",
       "      values: 0.179106861\n",
       "      values: 0.352845669\n",
       "      values: 0.544243753\n",
       "      values: -0.00179382425\n",
       "      values: 0.539036214\n",
       "      values: 0.544337153\n",
       "      values: 0.364518911\n",
       "      values: 0.357134521\n",
       "      values: 0.3631154\n",
       "      values: 0.539529383\n",
       "      values: 0.548268557\n",
       "      values: 0.369329661\n",
       "      values: 0.543083131\n",
       "      values: 0.364552855\n",
       "      values: 0.53693223\n",
       "      values: 0.366974503\n",
       "      values: 0.548716843\n",
       "      values: 0.542134702\n",
       "    }\n",
       "  }\n",
       "}\n",
       "arrays {\n",
       "  key: \"particle.names\"\n",
       "  value {\n",
       "    string_values {\n",
       "      values: \"0\"\n",
       "      values: \"1\"\n",
       "      values: \"2\"\n",
       "      values: \"3\"\n",
       "      values: \"4\"\n",
       "      values: \"5\"\n",
       "      values: \"6\"\n",
       "      values: \"7\"\n",
       "      values: \"8\"\n",
       "      values: \"9\"\n",
       "      values: \"10\"\n",
       "      values: \"11\"\n",
       "      values: \"12\"\n",
       "      values: \"13\"\n",
       "      values: \"14\"\n",
       "      values: \"15\"\n",
       "      values: \"16\"\n",
       "      values: \"17\"\n",
       "      values: \"18\"\n",
       "      values: \"19\"\n",
       "      values: \"20\"\n",
       "      values: \"21\"\n",
       "      values: \"22\"\n",
       "      values: \"23\"\n",
       "      values: \"24\"\n",
       "      values: \"25\"\n",
       "      values: \"26\"\n",
       "      values: \"27\"\n",
       "      values: \"28\"\n",
       "      values: \"29\"\n",
       "      values: \"30\"\n",
       "      values: \"31\"\n",
       "    }\n",
       "  }\n",
       "}\n",
       "arrays {\n",
       "  key: \"particle.elements\"\n",
       "  value {\n",
       "    index_values {\n",
       "      values: 29\n",
       "      values: 29\n",
       "      values: 29\n",
       "      values: 29\n",
       "      values: 29\n",
       "      values: 29\n",
       "      values: 29\n",
       "      values: 29\n",
       "      values: 29\n",
       "      values: 29\n",
       "      values: 29\n",
       "      values: 29\n",
       "      values: 29\n",
       "      values: 29\n",
       "      values: 29\n",
       "      values: 29\n",
       "      values: 29\n",
       "      values: 29\n",
       "      values: 29\n",
       "      values: 29\n",
       "      values: 29\n",
       "      values: 29\n",
       "      values: 29\n",
       "      values: 29\n",
       "      values: 29\n",
       "      values: 29\n",
       "      values: 29\n",
       "      values: 29\n",
       "      values: 29\n",
       "      values: 29\n",
       "      values: 29\n",
       "      values: 29\n",
       "    }\n",
       "  }\n",
       "}\n",
       "arrays {\n",
       "  key: \"chain.names\"\n",
       "  value {\n",
       "    string_values {\n",
       "      values: \"A\"\n",
       "    }\n",
       "  }\n",
       "}\n",
       "arrays {\n",
       "  key: \"bond.pairs\"\n",
       "  value {\n",
       "    index_values {\n",
       "    }\n",
       "  }\n",
       "}"
      ]
     },
     "execution_count": 21,
     "metadata": {},
     "output_type": "execute_result"
    }
   ],
   "source": [
    "# view the latest frame\n",
    "client.current_frame.raw"
   ]
  },
  {
   "cell_type": "markdown",
   "metadata": {},
   "source": [
    "Now, let's visualize the frame directly with ASE. First we convert the frame back into ASE atoms, and view it. The first frame received by a client always has the topology information"
   ]
  },
  {
   "cell_type": "code",
   "execution_count": 22,
   "metadata": {
    "ExecuteTime": {
     "end_time": "2024-10-22T14:19:07.633832Z",
     "start_time": "2024-10-22T14:19:07.615895Z"
    },
    "pycharm": {
     "is_executing": false
    }
   },
   "outputs": [],
   "source": [
    "from nanover.ase.converter import frame_data_to_ase\n",
    "atoms = frame_data_to_ase(client.first_frame, topology=True, positions=False)"
   ]
  },
  {
   "cell_type": "markdown",
   "metadata": {},
   "source": [
    "We can run this to update the latest positions from the frame (note that NanoVer uses **nanometers** for positions ([the same as OpenMM](http://docs.openmm.org/6.2.0/userguide/theory.html#units)), so we need to convert back to Angstrom to visualise the system using ASE.)"
   ]
  },
  {
   "cell_type": "code",
   "execution_count": 23,
   "metadata": {
    "ExecuteTime": {
     "end_time": "2024-10-22T14:19:09.050569Z",
     "start_time": "2024-10-22T14:19:09.036881Z"
    },
    "pycharm": {
     "is_executing": false
    }
   },
   "outputs": [],
   "source": [
    "import numpy as np\n",
    "# set the positions to match the latest frame data\n",
    "atoms.set_positions(np.array(client.latest_frame.particle_positions) * 10)"
   ]
  },
  {
   "cell_type": "markdown",
   "metadata": {},
   "source": [
    "ASE has a cool little 2D visualizer"
   ]
  },
  {
   "cell_type": "code",
   "execution_count": 24,
   "metadata": {
    "ExecuteTime": {
     "end_time": "2024-10-22T14:19:10.300274Z",
     "start_time": "2024-10-22T14:19:10.268108Z"
    },
    "pycharm": {
     "is_executing": false
    }
   },
   "outputs": [
    {
     "data": {
      "text/plain": [
       "<Popen: returncode: None args: ['C:\\\\Users\\\\ragzo\\\\anaconda3\\\\envs\\\\nanover-...>"
      ]
     },
     "execution_count": 24,
     "metadata": {},
     "output_type": "execute_result"
    }
   ],
   "source": [
    "from ase.visualize import view\n",
    "view(atoms)"
   ]
  },
  {
   "cell_type": "markdown",
   "metadata": {},
   "source": [
    "And a 3D visualizer! (Check your browser)"
   ]
  },
  {
   "cell_type": "code",
   "execution_count": 25,
   "metadata": {
    "ExecuteTime": {
     "end_time": "2024-10-22T14:19:14.876880Z",
     "start_time": "2024-10-22T14:19:14.819077Z"
    },
    "pycharm": {
     "is_executing": false
    }
   },
   "outputs": [
    {
     "data": {
      "text/html": [
       "<html>\n",
       "    <head>\n",
       "        <title>ASE atomic visualization</title>\n",
       "        <link rel=\"stylesheet\" type=\"text/css\"             href=\"https://www.x3dom.org/release/x3dom.css\"></link>\n",
       "        <script type=\"text/javascript\"             src=\"https://www.x3dom.org/release/x3dom.js\"></script>\n",
       "    </head>\n",
       "    <body>\n",
       "        <X3D width=\"400px\"; height=\"300px\";>\n",
       "\n",
       "<!--Inserting Generated X3D Scene-->\n",
       "<scene>\n",
       "  <viewpoint position=\"0 0 11.349071525037289\">\n",
       "    <group/>\n",
       "  </viewpoint>\n",
       "  <transform translation=\"-0.0 -0.0 -0.0\">\n",
       "    <group>\n",
       "      <group>\n",
       "        <transform translation=\"0 0 0\">\n",
       "          <shape>\n",
       "            <appearance>\n",
       "              <material diffuseColor=\"0 0 0\"/>\n",
       "            </appearance>\n",
       "            <lineset vertexCount=\"5\">\n",
       "              <coordinate point=\"0 0 0 0.0 0.0 0.0 0.0 0.0 0.0 0.0 0.0 0.0 0 0 0\"/>\n",
       "            </lineset>\n",
       "          </shape>\n",
       "        </transform>\n",
       "        <transform translation=\"0.0 0.0 0.0\">\n",
       "          <shape>\n",
       "            <appearance>\n",
       "              <material diffuseColor=\"0 0 0\"/>\n",
       "            </appearance>\n",
       "            <lineset vertexCount=\"5\">\n",
       "              <coordinate point=\"0 0 0 0.0 0.0 0.0 0.0 0.0 0.0 0.0 0.0 0.0 0 0 0\"/>\n",
       "            </lineset>\n",
       "          </shape>\n",
       "        </transform>\n",
       "        <transform translation=\"0 0 0\">\n",
       "          <shape>\n",
       "            <appearance>\n",
       "              <material diffuseColor=\"0 0 0\"/>\n",
       "            </appearance>\n",
       "            <lineset vertexCount=\"5\">\n",
       "              <coordinate point=\"0 0 0 0.0 0.0 0.0 0.0 0.0 0.0 0.0 0.0 0.0 0 0 0\"/>\n",
       "            </lineset>\n",
       "          </shape>\n",
       "        </transform>\n",
       "        <transform translation=\"0.0 0.0 0.0\">\n",
       "          <shape>\n",
       "            <appearance>\n",
       "              <material diffuseColor=\"0 0 0\"/>\n",
       "            </appearance>\n",
       "            <lineset vertexCount=\"5\">\n",
       "              <coordinate point=\"0 0 0 0.0 0.0 0.0 0.0 0.0 0.0 0.0 0.0 0.0 0 0 0\"/>\n",
       "            </lineset>\n",
       "          </shape>\n",
       "        </transform>\n",
       "      </group>\n",
       "      <group>\n",
       "        <transform translation=\"-0.10155982337892056 0.09997191838920116 -0.03908393904566765\">\n",
       "          <shape>\n",
       "            <appearance>\n",
       "              <material diffuseColor=\"0.784 0.502 0.2\"/>\n",
       "            </appearance>\n",
       "            <sphere radius=\"1.32\"/>\n",
       "          </shape>\n",
       "        </transform>\n",
       "        <transform translation=\"1.8754859268665314 1.7266324162483215 0.12355362996459007\">\n",
       "          <shape>\n",
       "            <appearance>\n",
       "              <material diffuseColor=\"0.784 0.502 0.2\"/>\n",
       "            </appearance>\n",
       "            <sphere radius=\"1.32\"/>\n",
       "          </shape>\n",
       "        </transform>\n",
       "        <transform translation=\"1.8447142839431763 -0.042229462414979935 1.7679522931575775\">\n",
       "          <shape>\n",
       "            <appearance>\n",
       "              <material diffuseColor=\"0.784 0.502 0.2\"/>\n",
       "            </appearance>\n",
       "            <sphere radius=\"1.32\"/>\n",
       "          </shape>\n",
       "        </transform>\n",
       "        <transform translation=\"0.01422437489964068 1.8488623201847076 1.7561867833137512\">\n",
       "          <shape>\n",
       "            <appearance>\n",
       "              <material diffuseColor=\"0.784 0.502 0.2\"/>\n",
       "            </appearance>\n",
       "            <sphere radius=\"1.32\"/>\n",
       "          </shape>\n",
       "        </transform>\n",
       "        <transform translation=\"3.6476516723632812 0.06967272143810987 -0.09599036537110806\">\n",
       "          <shape>\n",
       "            <appearance>\n",
       "              <material diffuseColor=\"0.784 0.502 0.2\"/>\n",
       "            </appearance>\n",
       "            <sphere radius=\"1.32\"/>\n",
       "          </shape>\n",
       "        </transform>\n",
       "        <transform translation=\"5.3076595067977905 1.9189965724945068 0.13432304374873638\">\n",
       "          <shape>\n",
       "            <appearance>\n",
       "              <material diffuseColor=\"0.784 0.502 0.2\"/>\n",
       "            </appearance>\n",
       "            <sphere radius=\"1.32\"/>\n",
       "          </shape>\n",
       "        </transform>\n",
       "        <transform translation=\"5.533524751663208 -0.039213020354509354 1.7889024317264557\">\n",
       "          <shape>\n",
       "            <appearance>\n",
       "              <material diffuseColor=\"0.784 0.502 0.2\"/>\n",
       "            </appearance>\n",
       "            <sphere radius=\"1.32\"/>\n",
       "          </shape>\n",
       "        </transform>\n",
       "        <transform translation=\"3.669441044330597 1.8288391828536987 1.8880219757556915\">\n",
       "          <shape>\n",
       "            <appearance>\n",
       "              <material diffuseColor=\"0.784 0.502 0.2\"/>\n",
       "            </appearance>\n",
       "            <sphere radius=\"1.32\"/>\n",
       "          </shape>\n",
       "        </transform>\n",
       "        <transform translation=\"0.16582166776061058 3.6661744117736816 0.04495872184634209\">\n",
       "          <shape>\n",
       "            <appearance>\n",
       "              <material diffuseColor=\"0.784 0.502 0.2\"/>\n",
       "            </appearance>\n",
       "            <sphere radius=\"1.32\"/>\n",
       "          </shape>\n",
       "        </transform>\n",
       "        <transform translation=\"1.808081567287445 5.546967387199402 -0.05140190478414297\">\n",
       "          <shape>\n",
       "            <appearance>\n",
       "              <material diffuseColor=\"0.784 0.502 0.2\"/>\n",
       "            </appearance>\n",
       "            <sphere radius=\"1.32\"/>\n",
       "          </shape>\n",
       "        </transform>\n",
       "        <transform translation=\"1.8518529832363129 3.5695436596870422 1.8760702013969421\">\n",
       "          <shape>\n",
       "            <appearance>\n",
       "              <material diffuseColor=\"0.784 0.502 0.2\"/>\n",
       "            </appearance>\n",
       "            <sphere radius=\"1.32\"/>\n",
       "          </shape>\n",
       "        </transform>\n",
       "        <transform translation=\"-0.03692410420626402 5.439978241920471 1.7825429141521454\">\n",
       "          <shape>\n",
       "            <appearance>\n",
       "              <material diffuseColor=\"0.784 0.502 0.2\"/>\n",
       "            </appearance>\n",
       "            <sphere radius=\"1.32\"/>\n",
       "          </shape>\n",
       "        </transform>\n",
       "        <transform translation=\"3.6173364520072937 3.648229241371155 -0.004068279231432825\">\n",
       "          <shape>\n",
       "            <appearance>\n",
       "              <material diffuseColor=\"0.784 0.502 0.2\"/>\n",
       "            </appearance>\n",
       "            <sphere radius=\"1.32\"/>\n",
       "          </shape>\n",
       "        </transform>\n",
       "        <transform translation=\"5.477261543273926 5.4139310121536255 0.023499263916164637\">\n",
       "          <shape>\n",
       "            <appearance>\n",
       "              <material diffuseColor=\"0.784 0.502 0.2\"/>\n",
       "            </appearance>\n",
       "            <sphere radius=\"1.32\"/>\n",
       "          </shape>\n",
       "        </transform>\n",
       "        <transform translation=\"5.364364981651306 3.5780033469200134 1.8769942224025726\">\n",
       "          <shape>\n",
       "            <appearance>\n",
       "              <material diffuseColor=\"0.784 0.502 0.2\"/>\n",
       "            </appearance>\n",
       "            <sphere radius=\"1.32\"/>\n",
       "          </shape>\n",
       "        </transform>\n",
       "        <transform translation=\"3.6610931158065796 5.517295598983765 1.7274944484233856\">\n",
       "          <shape>\n",
       "            <appearance>\n",
       "              <material diffuseColor=\"0.784 0.502 0.2\"/>\n",
       "            </appearance>\n",
       "            <sphere radius=\"1.32\"/>\n",
       "          </shape>\n",
       "        </transform>\n",
       "        <transform translation=\"-0.015062137972563505 0.08141836151480675 3.559820055961609\">\n",
       "          <shape>\n",
       "            <appearance>\n",
       "              <material diffuseColor=\"0.784 0.502 0.2\"/>\n",
       "            </appearance>\n",
       "            <sphere radius=\"1.32\"/>\n",
       "          </shape>\n",
       "        </transform>\n",
       "        <transform translation=\"1.7850403487682343 1.8625889718532562 3.6157137155532837\">\n",
       "          <shape>\n",
       "            <appearance>\n",
       "              <material diffuseColor=\"0.784 0.502 0.2\"/>\n",
       "            </appearance>\n",
       "            <sphere radius=\"1.32\"/>\n",
       "          </shape>\n",
       "        </transform>\n",
       "        <transform translation=\"1.7574034631252289 0.0048246022197417915 5.470782518386841\">\n",
       "          <shape>\n",
       "            <appearance>\n",
       "              <material diffuseColor=\"0.784 0.502 0.2\"/>\n",
       "            </appearance>\n",
       "            <sphere radius=\"1.32\"/>\n",
       "          </shape>\n",
       "        </transform>\n",
       "        <transform translation=\"0.008480939432047307 1.800140142440796 5.463733077049255\">\n",
       "          <shape>\n",
       "            <appearance>\n",
       "              <material diffuseColor=\"0.784 0.502 0.2\"/>\n",
       "            </appearance>\n",
       "            <sphere radius=\"1.32\"/>\n",
       "          </shape>\n",
       "        </transform>\n",
       "        <transform translation=\"3.4919777512550354 -0.01562583027407527 3.6905255913734436\">\n",
       "          <shape>\n",
       "            <appearance>\n",
       "              <material diffuseColor=\"0.784 0.502 0.2\"/>\n",
       "            </appearance>\n",
       "            <sphere radius=\"1.32\"/>\n",
       "          </shape>\n",
       "        </transform>\n",
       "        <transform translation=\"5.411133766174316 1.732822060585022 3.5736429691314697\">\n",
       "          <shape>\n",
       "            <appearance>\n",
       "              <material diffuseColor=\"0.784 0.502 0.2\"/>\n",
       "            </appearance>\n",
       "            <sphere radius=\"1.32\"/>\n",
       "          </shape>\n",
       "        </transform>\n",
       "        <transform translation=\"5.470291376113892 0.04348617512732744 5.36049485206604\">\n",
       "          <shape>\n",
       "            <appearance>\n",
       "              <material diffuseColor=\"0.784 0.502 0.2\"/>\n",
       "            </appearance>\n",
       "            <sphere radius=\"1.32\"/>\n",
       "          </shape>\n",
       "        </transform>\n",
       "        <transform translation=\"3.631094992160797 1.7787596583366394 5.3967636823654175\">\n",
       "          <shape>\n",
       "            <appearance>\n",
       "              <material diffuseColor=\"0.784 0.502 0.2\"/>\n",
       "            </appearance>\n",
       "            <sphere radius=\"1.32\"/>\n",
       "          </shape>\n",
       "        </transform>\n",
       "        <transform translation=\"-0.14101101085543633 3.5797342658042908 3.5872945189476013\">\n",
       "          <shape>\n",
       "            <appearance>\n",
       "              <material diffuseColor=\"0.784 0.502 0.2\"/>\n",
       "            </appearance>\n",
       "            <sphere radius=\"1.32\"/>\n",
       "          </shape>\n",
       "        </transform>\n",
       "        <transform translation=\"1.8991675972938538 5.30411422252655 3.6460980772972107\">\n",
       "          <shape>\n",
       "            <appearance>\n",
       "              <material diffuseColor=\"0.784 0.502 0.2\"/>\n",
       "            </appearance>\n",
       "            <sphere radius=\"1.32\"/>\n",
       "          </shape>\n",
       "        </transform>\n",
       "        <transform translation=\"1.705622375011444 3.591829836368561 5.514560341835022\">\n",
       "          <shape>\n",
       "            <appearance>\n",
       "              <material diffuseColor=\"0.784 0.502 0.2\"/>\n",
       "            </appearance>\n",
       "            <sphere radius=\"1.32\"/>\n",
       "          </shape>\n",
       "        </transform>\n",
       "        <transform translation=\"0.0473462650552392 5.388199090957642 5.304580926895142\">\n",
       "          <shape>\n",
       "            <appearance>\n",
       "              <material diffuseColor=\"0.784 0.502 0.2\"/>\n",
       "            </appearance>\n",
       "            <sphere radius=\"1.32\"/>\n",
       "          </shape>\n",
       "        </transform>\n",
       "        <transform translation=\"3.6508938670158386 3.529563546180725 3.620685338973999\">\n",
       "          <shape>\n",
       "            <appearance>\n",
       "              <material diffuseColor=\"0.784 0.502 0.2\"/>\n",
       "            </appearance>\n",
       "            <sphere radius=\"1.32\"/>\n",
       "          </shape>\n",
       "        </transform>\n",
       "        <transform translation=\"5.446439981460571 5.516573190689087 3.618849515914917\">\n",
       "          <shape>\n",
       "            <appearance>\n",
       "              <material diffuseColor=\"0.784 0.502 0.2\"/>\n",
       "            </appearance>\n",
       "            <sphere radius=\"1.32\"/>\n",
       "          </shape>\n",
       "        </transform>\n",
       "        <transform translation=\"5.381360650062561 3.637169897556305 5.403923392295837\">\n",
       "          <shape>\n",
       "            <appearance>\n",
       "              <material diffuseColor=\"0.784 0.502 0.2\"/>\n",
       "            </appearance>\n",
       "            <sphere radius=\"1.32\"/>\n",
       "          </shape>\n",
       "        </transform>\n",
       "        <transform translation=\"3.5948440432548523 5.38860559463501 5.43119490146637\">\n",
       "          <shape>\n",
       "            <appearance>\n",
       "              <material diffuseColor=\"0.784 0.502 0.2\"/>\n",
       "            </appearance>\n",
       "            <sphere radius=\"1.32\"/>\n",
       "          </shape>\n",
       "        </transform>\n",
       "      </group>\n",
       "    </group>\n",
       "  </transform>\n",
       "</scene>\n",
       "<!--End of Inserted Scene-->\n",
       "\n",
       "        </X3D>\n",
       "    </body>\n",
       "</html>\n",
       "\n"
      ],
      "text/plain": [
       "<IPython.core.display.HTML object>"
      ]
     },
     "execution_count": 25,
     "metadata": {},
     "output_type": "execute_result"
    }
   ],
   "source": [
    "view(atoms, viewer='x3d')"
   ]
  },
  {
   "cell_type": "markdown",
   "metadata": {},
   "source": [
    "# Gracefully terminate!!"
   ]
  },
  {
   "cell_type": "markdown",
   "metadata": {},
   "source": [
    "It is very important to close your servers, otherwise they'll get in the way by blocking ports, and your clients may autoconnect to the wrong server! We close the server calling `.close()`"
   ]
  },
  {
   "cell_type": "code",
   "execution_count": 26,
   "metadata": {
    "ExecuteTime": {
     "end_time": "2024-10-22T14:19:18.469941Z",
     "start_time": "2024-10-22T14:19:18.228251Z"
    },
    "pycharm": {
     "is_executing": false
    }
   },
   "outputs": [],
   "source": [
    "imd_runner.close()"
   ]
  },
  {
   "cell_type": "markdown",
   "metadata": {
    "pycharm": {
     "is_executing": false
    }
   },
   "source": [
    "Note that outside of a notebook, you can use `with` statements to let NanoVer clean up after itself:"
   ]
  },
  {
   "cell_type": "code",
   "execution_count": 27,
   "metadata": {
    "ExecuteTime": {
     "end_time": "2024-10-22T14:19:20.571930Z",
     "start_time": "2024-10-22T14:19:19.923423Z"
    },
    "pycharm": {
     "is_executing": false
    }
   },
   "outputs": [],
   "source": [
    "with OmniRunner.with_basic_server(ASESimulation.from_ase_dynamics(dyn), port=0) as imd_runner:\n",
    "    imd_runner.next()"
   ]
  },
  {
   "cell_type": "markdown",
   "metadata": {
    "pycharm": {
     "is_executing": false
    }
   },
   "source": [
    "# Next Steps\n",
    "\n",
    "This notebook demonstrated how to use NanoVer to run iMD simulations using ASE for a toy system. There's plenty more that can be done!\n",
    "\n",
    "* Run bigger molecular mechanics simulations using OpenMM. The [nanotube](./ase_openmm_nanotube.ipynb) and [neuraminidase](./ase_openmm_neuraminidase.ipynb) examples show how to set up simulations that combine OpenMM with ASE.\n",
    "* Use the functionality of ASE change the parameters of an OpenMM simulation on the fly. See the [graphene](./ase_openmm_graphene.ipynb) example.\n",
    "* To understand what's going on under the hood, check out the [NanoVer frame explained](../fundamentals/frame.ipynb) example. "
   ]
  }
 ],
 "metadata": {
  "kernelspec": {
   "display_name": "Python 3 (ipykernel)",
   "language": "python",
   "name": "python3"
  },
  "language_info": {
   "codemirror_mode": {
    "name": "ipython",
    "version": 3
   },
   "file_extension": ".py",
   "mimetype": "text/x-python",
   "name": "python",
   "nbconvert_exporter": "python",
   "pygments_lexer": "ipython3",
   "version": "3.12.0"
  },
  "pycharm": {
   "stem_cell": {
    "cell_type": "raw",
    "metadata": {
     "collapsed": false
    },
    "source": []
   }
  }
 },
 "nbformat": 4,
 "nbformat_minor": 4
}
