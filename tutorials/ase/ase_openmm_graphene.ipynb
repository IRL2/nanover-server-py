{
 "cells": [
  {
   "cell_type": "markdown",
   "metadata": {},
   "source": [
    "# Graphene Sheet with Interactive Physics Parameters"
   ]
  },
  {
   "cell_type": "markdown",
   "metadata": {},
   "source": [
    "This notebook simulates a graphene sheet with OpenMM via ASE, and exposes parameters that can be controlled in real time.\n",
    "Along the way, we'll learn:\n",
    "\n",
    "* How to add restraints to OpenMM simulations \n",
    "* How to expose functions as **commands** that can be run remotely \n",
    "* How to add sliders and buttons to Jupyter notebooks"
   ]
  },
  {
   "cell_type": "markdown",
   "metadata": {},
   "source": [
    "## Setup the OpenMM Simulation "
   ]
  },
  {
   "cell_type": "markdown",
   "metadata": {},
   "source": [
    "First, we set up an OpenMM simulation of graphene. In this case, we've already generated an OpenMM XML file and have a PDB ready to use for the topology. See the [neuraminidase example](./ase_openmm_neuraminidase.ipynb) for a more detailed look at setting up OpenMM simulations. "
   ]
  },
  {
   "cell_type": "code",
   "execution_count": 1,
   "metadata": {
    "pycharm": {
     "is_executing": false,
     "name": "#%%\n"
    }
   },
   "outputs": [],
   "source": [
    "import openmm.app as app\n",
    "import openmm as mm \n",
    "import openmm.unit as unit\n",
    "pdb_file = app.PDBFile('openmm_files/graphene_with_bonds.pdb')\n",
    "system_xml = 'openmm_files/graphene_omm.xml'"
   ]
  },
  {
   "cell_type": "code",
   "execution_count": 2,
   "metadata": {
    "pycharm": {
     "is_executing": false,
     "name": "#%%\n"
    }
   },
   "outputs": [],
   "source": [
    "#read the system into OpenMM \n",
    "with open(system_xml, 'r') as f:\n",
    "    system_string = f.read()\n",
    "system: mm.System\n",
    "system = mm.XmlSerializer.deserialize(system_string)"
   ]
  },
  {
   "cell_type": "markdown",
   "metadata": {},
   "source": [
    "Great, we've got a PDB topology, and a definition of all of the OpenMM forces to use with it. "
   ]
  },
  {
   "cell_type": "code",
   "execution_count": 3,
   "metadata": {},
   "outputs": [
    {
     "data": {
      "text/plain": [
       "(3, 680)"
      ]
     },
     "execution_count": 3,
     "metadata": {},
     "output_type": "execute_result"
    }
   ],
   "source": [
    "system.getNumForces(), system.getNumParticles()"
   ]
  },
  {
   "cell_type": "code",
   "execution_count": 4,
   "metadata": {},
   "outputs": [
    {
     "data": {
      "text/plain": [
       "680"
      ]
     },
     "execution_count": 4,
     "metadata": {},
     "output_type": "execute_result"
    }
   ],
   "source": [
    "pdb_file.getTopology().getNumAtoms()"
   ]
  },
  {
   "cell_type": "markdown",
   "metadata": {},
   "source": [
    "For this simulation, we want to hold the corners of the graphene sheet in place. We do that with spring force restraints. \n",
    "NanoVer has some shortcuts for setting these up with OpenMM."
   ]
  },
  {
   "cell_type": "code",
   "execution_count": 5,
   "metadata": {},
   "outputs": [],
   "source": [
    "from nanover.openmm.potentials import restrain_particles"
   ]
  },
  {
   "cell_type": "code",
   "execution_count": 6,
   "metadata": {
    "pycharm": {
     "is_executing": false,
     "name": "#%%\n"
    }
   },
   "outputs": [
    {
     "name": "stdout",
     "output_type": "stream",
     "text": [
      "Added force with index 3. System now has 4 forces.\n"
     ]
    }
   ],
   "source": [
    "atoms_to_restrain = [0, 38, 641, 679] # the corner atoms. \n",
    "force = restrain_particles(pdb_file.positions, atoms_to_restrain, 10000 * unit.kilojoule_per_mole / unit.nanometer ** 2)\n",
    "force_index = system.addForce(force)\n",
    "print(f\"Added force with index {force_index}. System now has {system.getNumForces()} forces.\")"
   ]
  },
  {
   "cell_type": "markdown",
   "metadata": {},
   "source": [
    "Now we create an OpenMM simulation with it. "
   ]
  },
  {
   "cell_type": "code",
   "execution_count": 7,
   "metadata": {
    "pycharm": {
     "is_executing": false,
     "name": "#%%\n"
    }
   },
   "outputs": [],
   "source": [
    "simulation = app.Simulation(pdb_file.topology, system, mm.LangevinIntegrator(300 * unit.kelvin, 1.0/unit.picosecond, 1.0*unit.femtosecond))\n",
    "simulation.context.setPositions(pdb_file.positions)\n",
    "simulation.minimizeEnergy()"
   ]
  },
  {
   "cell_type": "markdown",
   "metadata": {},
   "source": [
    "Run a few steps to make sure it's working"
   ]
  },
  {
   "cell_type": "code",
   "execution_count": 8,
   "metadata": {},
   "outputs": [],
   "source": [
    "simulation.context.setVelocitiesToTemperature(300 * unit.kelvin)\n",
    "simulation.step(1000)"
   ]
  },
  {
   "cell_type": "markdown",
   "metadata": {},
   "source": [
    "## Run the NanoVer Server"
   ]
  },
  {
   "cell_type": "markdown",
   "metadata": {},
   "source": [
    "We'll use NanoVer's `OmniRunner` to simplify running the server, passing the simulation as an `ASESimulation`. For a more detailed walkthrough of this process, check out our [neuraminidase example](./ase_openmm_neuraminidase.ipynb)."
   ]
  },
  {
   "cell_type": "code",
   "execution_count": 9,
   "metadata": {},
   "outputs": [],
   "source": [
    "# Import ASE integrator and units\n",
    "from ase.md import Langevin\n",
    "import ase.units as ase_units\n",
    "\n",
    "# Import the relevant NanoVer classes\n",
    "from nanover.omni import OmniRunner\n",
    "from nanover.omni.ase import ASESimulation\n",
    "from nanover.ase.omm_calculator import OpenMMCalculator\n",
    "\n",
    "# Define the calculator using the OpenMM simulation defined above\n",
    "calculator = OpenMMCalculator(simulation)\n",
    "\n",
    "# Define the atoms object and set it's calculator as the OpenMMCalculator\n",
    "atoms = calculator.generate_atoms()\n",
    "atoms.calc = calculator\n",
    "\n",
    "# Define the integrator for the simulation\n",
    "dynamics = Langevin(atoms, timestep=1.0 * ase_units.fs, temperature_K=300, friction=1.0e-03)\n",
    "\n",
    "# Define the ASESimulation\n",
    "graphene_ase_omm_sim = ASESimulation.from_ase_dynamics(dynamics, ase_atoms_to_frame_data=calculator.make_frame_converter())\n",
    "\n",
    "# Pass the simulation to the OmniRunner, load the simulation and pause it\n",
    "imd_runner = OmniRunner.with_basic_server(graphene_ase_omm_sim, name=\"graphene-ase-omm-server\", port=0)\n",
    "imd_runner.next()\n",
    "imd_runner.pause()"
   ]
  },
  {
   "cell_type": "markdown",
   "metadata": {},
   "source": [
    "Let's run a few steps and check that everything is working as expected."
   ]
  },
  {
   "cell_type": "code",
   "execution_count": 10,
   "metadata": {},
   "outputs": [
    {
     "data": {
      "text/plain": [
       "True"
      ]
     },
     "execution_count": 10,
     "metadata": {},
     "output_type": "execute_result"
    }
   ],
   "source": [
    "graphene_ase_omm_sim.dynamics.run(10)"
   ]
  },
  {
   "cell_type": "code",
   "execution_count": 11,
   "metadata": {},
   "outputs": [
    {
     "data": {
      "text/plain": [
       "10"
      ]
     },
     "execution_count": 11,
     "metadata": {},
     "output_type": "execute_result"
    }
   ],
   "source": [
    "graphene_ase_omm_sim.dynamics.get_number_of_steps()"
   ]
  },
  {
   "cell_type": "markdown",
   "metadata": {},
   "source": [
    "Let's check the potential energy too."
   ]
  },
  {
   "cell_type": "code",
   "execution_count": 12,
   "metadata": {},
   "outputs": [
    {
     "data": {
      "text/plain": [
       "22.529250941640626"
      ]
     },
     "execution_count": 12,
     "metadata": {},
     "output_type": "execute_result"
    }
   ],
   "source": [
    "graphene_ase_omm_sim.atoms.get_potential_energy()"
   ]
  },
  {
   "cell_type": "markdown",
   "metadata": {},
   "source": [
    "Now we're ready to go! Let's start the simulation and leave it to run in the background."
   ]
  },
  {
   "cell_type": "code",
   "execution_count": 13,
   "metadata": {
    "pycharm": {
     "is_executing": false,
     "name": "#%%\n"
    }
   },
   "outputs": [],
   "source": [
    "# Start running the simulation\n",
    "imd_runner.play()"
   ]
  },
  {
   "cell_type": "markdown",
   "metadata": {},
   "source": [
    "We can print the details of the server by running the following cell:"
   ]
  },
  {
   "cell_type": "code",
   "execution_count": 14,
   "metadata": {},
   "outputs": [
    {
     "name": "stdout",
     "output_type": "stream",
     "text": [
      "graphene-ase-omm-server: serving on [::]:50417\n"
     ]
    }
   ],
   "source": [
    "print(f'{imd_runner.app_server.name}: serving on {imd_runner.app_server.address}:{imd_runner.app_server.port}')"
   ]
  },
  {
   "cell_type": "markdown",
   "metadata": {},
   "source": [
    "## Controlling the Physics From the Notebook"
   ]
  },
  {
   "cell_type": "markdown",
   "metadata": {},
   "source": [
    "Since we're running the simulation with ASE, we can change the parameters while it's running. \n",
    "The cell below sets up some methods for changing the temperature, friction and timestep"
   ]
  },
  {
   "cell_type": "code",
   "execution_count": 15,
   "metadata": {
    "pycharm": {
     "is_executing": false,
     "name": "#%%\n"
    }
   },
   "outputs": [],
   "source": [
    "temp_min_val = 0\n",
    "temp_max_val = 10000\n",
    "friction_min_val = 0.01\n",
    "friction_max_val = 100\n",
    "timestep_min_val = 0.01\n",
    "timestep_max_val = 1.5\n",
    "import ase.units as units\n",
    "\n",
    "def set_temperature(temperature=300):\n",
    "    \"\"\"\n",
    "    Sets the temperature in the ASE simulation.\n",
    "\n",
    "    :param temperature: Temperature to set, in kelvin.\n",
    "    \"\"\"\n",
    "\n",
    "    if not temp_min_val <= temperature <= temp_max_val:\n",
    "        raise ValueError(f'Temperature must be in range {temp_min_val} - {temp_max_val} Kelvin.')\n",
    "    graphene_ase_omm_sim.dynamics.set_temperature(temperature_K=temperature)\n",
    "\n",
    "\n",
    "def set_friction(friction=1):\n",
    "    \"\"\"\n",
    "    Sets the friction in the ASE simulation.\n",
    "\n",
    "    :param friction: Friction, in ASE units * 1000, for visualisation purposes\n",
    "    \"\"\"\n",
    "\n",
    "    if not friction_min_val <= friction <= friction_max_val:\n",
    "        raise ValueError(f'Friction must be in range {friction_min_val} - {friction_max_val}.')\n",
    "    graphene_ase_omm_sim.dynamics.set_friction(friction / 1000.0)\n",
    "\n",
    "\n",
    "def set_timestep(timestep=0.5):\n",
    "    \"\"\"\n",
    "    Sets the timestep in the ASE simulation.\n",
    "\n",
    "    :param timestep: Timestep, in femtoseconds.\n",
    "    \"\"\"\n",
    "\n",
    "    if not timestep_min_val <= timestep <= timestep_max_val:\n",
    "        raise ValueError(f'Timestep must be in range {timestep_min_val} - {timestep_max_val}')\n",
    "    timestep = timestep * units.fs\n",
    "    graphene_ase_omm_sim.dynamics.set_timestep(timestep)"
   ]
  },
  {
   "cell_type": "markdown",
   "metadata": {},
   "source": [
    "Now we set up some sliders and buttons so we can adjust these on the fly in the notebook"
   ]
  },
  {
   "cell_type": "code",
   "execution_count": 16,
   "metadata": {
    "pycharm": {
     "is_executing": false
    }
   },
   "outputs": [],
   "source": [
    "# imports for sliders\n",
    "from ipywidgets import interact\n",
    "import ipywidgets as widgets\n",
    "from IPython.display import display"
   ]
  },
  {
   "cell_type": "code",
   "execution_count": 17,
   "metadata": {
    "pycharm": {
     "is_executing": false
    }
   },
   "outputs": [
    {
     "data": {
      "application/vnd.jupyter.widget-view+json": {
       "model_id": "80228cfea22a4b01a89209b7e838a68b",
       "version_major": 2,
       "version_minor": 0
      },
      "text/plain": [
       "interactive(children=(IntSlider(value=300, description='temperature', max=10000), Output()), _dom_classes=('wi…"
      ]
     },
     "metadata": {},
     "output_type": "display_data"
    },
    {
     "data": {
      "application/vnd.jupyter.widget-view+json": {
       "model_id": "717287cfd8194215b2c9e9ce2f2ea697",
       "version_major": 2,
       "version_minor": 0
      },
      "text/plain": [
       "interactive(children=(FloatSlider(value=1.0, description='friction', min=0.01, step=1.0), Output()), _dom_clas…"
      ]
     },
     "metadata": {},
     "output_type": "display_data"
    },
    {
     "data": {
      "application/vnd.jupyter.widget-view+json": {
       "model_id": "be9c004266834bd485ebb951f65559e2",
       "version_major": 2,
       "version_minor": 0
      },
      "text/plain": [
       "interactive(children=(FloatSlider(value=0.5, description='timestep', max=1.5, min=0.01, step=0.01), Output()),…"
      ]
     },
     "metadata": {},
     "output_type": "display_data"
    },
    {
     "data": {
      "application/vnd.jupyter.widget-view+json": {
       "model_id": "890798a7713a42468438636bab915809",
       "version_major": 2,
       "version_minor": 0
      },
      "text/plain": [
       "Button(description='Restart Simulation', style=ButtonStyle())"
      ]
     },
     "metadata": {},
     "output_type": "display_data"
    },
    {
     "data": {
      "application/vnd.jupyter.widget-view+json": {
       "model_id": "a3b1186b9c024640830992e2d2ca3ace",
       "version_major": 2,
       "version_minor": 0
      },
      "text/plain": [
       "Output()"
      ]
     },
     "metadata": {},
     "output_type": "display_data"
    },
    {
     "data": {
      "application/vnd.jupyter.widget-view+json": {
       "model_id": "cbe5b240534c4bcd8cf8453f0e5021b2",
       "version_major": 2,
       "version_minor": 0
      },
      "text/plain": [
       "ToggleButton(value=False, description='Playing')"
      ]
     },
     "metadata": {},
     "output_type": "display_data"
    },
    {
     "data": {
      "application/vnd.jupyter.widget-view+json": {
       "model_id": "a3b1186b9c024640830992e2d2ca3ace",
       "version_major": 2,
       "version_minor": 0
      },
      "text/plain": [
       "Output()"
      ]
     },
     "metadata": {},
     "output_type": "display_data"
    }
   ],
   "source": [
    "# Sliders for temperature, friction and timestep\n",
    "interact(set_temperature, temperature=(temp_min_val,temp_max_val));\n",
    "interact(set_friction, friction=(friction_min_val,friction_max_val, 1.0));\n",
    "interact(set_timestep, timestep=(timestep_min_val,timestep_max_val, 0.01));\n",
    "\n",
    "# buttons and toggles for playing and reset\n",
    "reset_button = widgets.Button(description=\"Restart Simulation\")\n",
    "play_button = widgets.ToggleButton(description=\"Playing\")\n",
    "output = widgets.Output()\n",
    "display(reset_button, output)\n",
    "display(play_button, output)\n",
    "\n",
    "def on_reset_clicked(b):\n",
    "    with output:\n",
    "        imd_runner.reset()\n",
    "\n",
    "def on_play_clicked(obj):\n",
    "    with output:\n",
    "        if obj['new']:  \n",
    "            imd_runner.play()\n",
    "        else:\n",
    "            imd_runner.pause()\n",
    "\n",
    "reset_button.on_click(on_reset_clicked)\n",
    "play_button.observe(on_play_clicked, 'value')"
   ]
  },
  {
   "cell_type": "markdown",
   "metadata": {},
   "source": [
    "Enter the server in VR and see how the dynamics change when you lower the temperature and and massively increase the friction!"
   ]
  },
  {
   "cell_type": "markdown",
   "metadata": {},
   "source": [
    "## Remote Control Commands"
   ]
  },
  {
   "cell_type": "markdown",
   "metadata": {},
   "source": [
    "While controlling these parameters from the notebook is pretty cool, doing it from VR or a dedicated application would be even better. \n",
    "\n",
    "NanoVer provides a mechanism for doing this via *commands*. A command consists of a command name and a handler function to call when the client requests to run a command by that name.\n",
    "\n",
    "Let's set up our timestep, friction and temperature methods as commands"
   ]
  },
  {
   "cell_type": "code",
   "execution_count": 18,
   "metadata": {
    "pycharm": {
     "is_executing": false,
     "name": "#%%\n"
    }
   },
   "outputs": [],
   "source": [
    "# Methods for interacting with the simulation.\n",
    "TIMESTEP_COMMAND = \"sim/timestep\"\n",
    "FRICTION_COMMAND = \"sim/friction\"\n",
    "TEMPERATURE_COMMAND = \"sim/temperature\"\n",
    "\n",
    "# the following line unregisters the commands if they've already been registered. \n",
    "for command in [TIMESTEP_COMMAND, FRICTION_COMMAND, TEMPERATURE_COMMAND]:\n",
    "    try:\n",
    "        imd_runner.app_server.server.unregister_command(command)\n",
    "    except:\n",
    "        pass\n",
    "\n",
    "imd_runner.app_server.server.register_command(TIMESTEP_COMMAND, set_timestep)\n",
    "imd_runner.app_server.server.register_command(TEMPERATURE_COMMAND, set_temperature)\n",
    "imd_runner.app_server.server.register_command(FRICTION_COMMAND, set_friction)"
   ]
  },
  {
   "cell_type": "markdown",
   "metadata": {},
   "source": [
    "Now, we can connect a client, and call the commands"
   ]
  },
  {
   "cell_type": "code",
   "execution_count": 19,
   "metadata": {},
   "outputs": [],
   "source": [
    "from nanover.app import NanoverImdClient\n",
    "client =  NanoverImdClient.connect_to_single_server(port=imd_runner.app_server.port)"
   ]
  },
  {
   "cell_type": "markdown",
   "metadata": {},
   "source": [
    "We can see all the available commands, note that play, pause, reset and step are already registered, as are the ones we've just added "
   ]
  },
  {
   "cell_type": "code",
   "execution_count": 20,
   "metadata": {},
   "outputs": [
    {
     "data": {
      "text/plain": [
       "dict_keys(['multiuser/radially-orient-origins', 'playback/load', 'playback/next', 'playback/list', 'playback/reset', 'playback/pause', 'playback/play', 'playback/step', 'sim/timestep', 'sim/temperature', 'sim/friction'])"
      ]
     },
     "execution_count": 20,
     "metadata": {},
     "output_type": "execute_result"
    }
   ],
   "source": [
    "commands = client.update_available_commands()\n",
    "dict(commands).keys()"
   ]
  },
  {
   "cell_type": "markdown",
   "metadata": {},
   "source": [
    "So now we can set the temperature remotely (try this on another computer!):"
   ]
  },
  {
   "cell_type": "code",
   "execution_count": 21,
   "metadata": {},
   "outputs": [
    {
     "data": {
      "text/plain": [
       "199.99999999999997"
      ]
     },
     "execution_count": 21,
     "metadata": {},
     "output_type": "execute_result"
    }
   ],
   "source": [
    "client.run_command('sim/temperature', temperature=200)\n",
    "# print out the temperature to check it's worked, we have to convert from ASE units to Kelvin\n",
    "graphene_ase_omm_sim.dynamics.temp / units.kB"
   ]
  },
  {
   "cell_type": "markdown",
   "metadata": {},
   "source": [
    "With this functionality, you could write your own UI in Unity with our [libraries](https://github.com/IRL2/NarupaUnityPlugin/blob/2f5565608d9c0e1e9366a61d7c146b34eae84231/Grpc/GrpcClient.cs#L54), a python web app, or even C++."
   ]
  },
  {
   "cell_type": "markdown",
   "metadata": {},
   "source": [
    "## Gracefully Terminate"
   ]
  },
  {
   "cell_type": "code",
   "execution_count": 22,
   "metadata": {
    "pycharm": {
     "is_executing": false
    }
   },
   "outputs": [],
   "source": [
    "client.close()\n",
    "imd_runner.close()"
   ]
  },
  {
   "cell_type": "markdown",
   "metadata": {},
   "source": [
    "## Next Steps\n",
    "\n",
    "* Explore setting up [commands and synchronizing state](../fundamentals/commands_and_state.ipynb)"
   ]
  },
  {
   "cell_type": "code",
   "execution_count": null,
   "metadata": {},
   "outputs": [],
   "source": []
  }
 ],
 "metadata": {
  "kernelspec": {
   "display_name": "Python 3 (ipykernel)",
   "language": "python",
   "name": "python3"
  },
  "language_info": {
   "codemirror_mode": {
    "name": "ipython",
    "version": 3
   },
   "file_extension": ".py",
   "mimetype": "text/x-python",
   "name": "python",
   "nbconvert_exporter": "python",
   "pygments_lexer": "ipython3",
   "version": "3.12.0"
  },
  "pycharm": {
   "stem_cell": {
    "cell_type": "raw",
    "metadata": {
     "collapsed": false
    },
    "source": []
   }
  }
 },
 "nbformat": 4,
 "nbformat_minor": 4
}
