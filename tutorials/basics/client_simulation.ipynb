{
 "cells": [
  {
   "metadata": {
    "ExecuteTime": {
     "end_time": "2025-10-07T09:30:07.349037Z",
     "start_time": "2025-10-07T09:30:07.346579Z"
    }
   },
   "cell_type": "markdown",
   "source": "## Empty server",
   "id": "3a50e32d4acd099"
  },
  {
   "metadata": {
    "ExecuteTime": {
     "end_time": "2025-10-20T14:27:31.985817Z",
     "start_time": "2025-10-20T14:27:31.859998Z"
    }
   },
   "cell_type": "code",
   "source": [
    "from nanover.omni import OmniRunner\n",
    "\n",
    "runner = OmniRunner.with_basic_server()\n",
    "runner.print_basic_info()"
   ],
   "id": "6d059fe8b3645d9f",
   "outputs": [
    {
     "name": "stdout",
     "output_type": "stream",
     "text": [
      "Serving \"ragzo: NanoVer iMD Server\" (ws://localhost:38801), discoverable on all interfaces on port 54545\n",
      "Available simulations:\n",
      "\n"
     ]
    }
   ],
   "execution_count": 1
  },
  {
   "metadata": {},
   "cell_type": "markdown",
   "source": "## Client connected to empty server",
   "id": "82c215332281e439"
  },
  {
   "metadata": {
    "collapsed": true,
    "ExecuteTime": {
     "end_time": "2025-10-20T14:27:35.701622Z",
     "start_time": "2025-10-20T14:27:33.642194Z"
    }
   },
   "cell_type": "code",
   "source": [
    "from nanover.websocket import NanoverImdClient\n",
    "\n",
    "client = NanoverImdClient.from_runner(runner)"
   ],
   "id": "3f1b35c65ef5ff04",
   "outputs": [],
   "execution_count": 2
  },
  {
   "metadata": {},
   "cell_type": "markdown",
   "source": "## Simulation",
   "id": "75f6be6f59931aae"
  },
  {
   "metadata": {
    "ExecuteTime": {
     "end_time": "2025-10-20T14:27:36.674171Z",
     "start_time": "2025-10-20T14:27:36.459095Z"
    }
   },
   "cell_type": "code",
   "source": [
    "from nanover.openmm import OpenMMSimulation\n",
    "\n",
    "input_xml = \"openmm_files/nanotube.xml\"\n",
    "nanotube_simulation = OpenMMSimulation.from_xml_path(input_xml)"
   ],
   "id": "64aad07f787cf65",
   "outputs": [],
   "execution_count": 3
  },
  {
   "metadata": {},
   "cell_type": "markdown",
   "source": "## Publish simulation frames via client",
   "id": "9f66abcb6e3cf51d"
  },
  {
   "metadata": {
    "ExecuteTime": {
     "end_time": "2025-10-20T14:27:50.177472Z",
     "start_time": "2025-10-20T14:27:38.034327Z"
    }
   },
   "cell_type": "code",
   "source": [
    "# NBVAL_SKIP\n",
    "from contextlib import suppress\n",
    "from nanover.app import NanoverImdApplication\n",
    "from nanover.utilities.timing import yield_interval\n",
    "\n",
    "fake_app_server = NanoverImdApplication.null_server()\n",
    "fake_runner = OmniRunner(fake_app_server)\n",
    "fake_runner.add_simulation(nanotube_simulation)\n",
    "\n",
    "fake_runner.load(0)\n",
    "fake_runner.print_basic_info()\n",
    "\n",
    "def send_frame(frame_index, frame):\n",
    "    frame.frame_index = frame_index\n",
    "    message = {\n",
    "        \"frame\": frame.pack_to_dict(),\n",
    "    }\n",
    "    client.send_message(message)\n",
    "\n",
    "nanotube_simulation.load()\n",
    "nanotube_simulation.reset(fake_app_server)\n",
    "frame = nanotube_simulation.make_topology_frame()\n",
    "send_frame(0, frame)\n",
    "\n",
    "with suppress(KeyboardInterrupt):\n",
    "    for dt in yield_interval(1/30):\n",
    "        nanotube_simulation.advance_by_one_step()\n",
    "        frame = nanotube_simulation.make_regular_frame()\n",
    "        send_frame(1, frame)"
   ],
   "id": "314a874e63adf604",
   "outputs": [
    {
     "name": "stdout",
     "output_type": "stream",
     "text": [
      "Serving \"ragzo: NanoVer iMD Server\" (), without discovery\n",
      "Available simulations:\n",
      "0: \"nanotube\"\n"
     ]
    }
   ],
   "execution_count": 4
  }
 ],
 "metadata": {
  "kernelspec": {
   "display_name": "Python 3",
   "language": "python",
   "name": "python3"
  },
  "language_info": {
   "codemirror_mode": {
    "name": "ipython",
    "version": 2
   },
   "file_extension": ".py",
   "mimetype": "text/x-python",
   "name": "python",
   "nbconvert_exporter": "python",
   "pygments_lexer": "ipython2",
   "version": "2.7.6"
  }
 },
 "nbformat": 4,
 "nbformat_minor": 5
}
