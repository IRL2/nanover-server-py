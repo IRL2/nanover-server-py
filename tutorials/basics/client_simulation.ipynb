{
 "cells": [
  {
   "metadata": {
    "ExecuteTime": {
     "end_time": "2025-10-07T09:30:07.349037Z",
     "start_time": "2025-10-07T09:30:07.346579Z"
    }
   },
   "cell_type": "markdown",
   "source": "## Empty server",
   "id": "3a50e32d4acd099"
  },
  {
   "metadata": {
    "ExecuteTime": {
     "end_time": "2025-10-07T09:31:14.782334Z",
     "start_time": "2025-10-07T09:31:14.754745Z"
    }
   },
   "cell_type": "code",
   "source": [
    "from nanover.omni import OmniRunner\n",
    "\n",
    "runner = OmniRunner.with_basic_server()"
   ],
   "id": "6d059fe8b3645d9f",
   "outputs": [],
   "execution_count": 4
  },
  {
   "metadata": {},
   "cell_type": "markdown",
   "source": "## Client connected to empty server",
   "id": "82c215332281e439"
  },
  {
   "metadata": {
    "collapsed": true,
    "ExecuteTime": {
     "end_time": "2025-10-07T09:31:24.799246Z",
     "start_time": "2025-10-07T09:31:22.746697Z"
    }
   },
   "cell_type": "code",
   "source": [
    "from nanover.websocket import NanoverImdClient\n",
    "\n",
    "client = NanoverImdClient.from_runner(runner)"
   ],
   "id": "3f1b35c65ef5ff04",
   "outputs": [],
   "execution_count": 6
  },
  {
   "metadata": {},
   "cell_type": "markdown",
   "source": "## Simulation",
   "id": "75f6be6f59931aae"
  },
  {
   "metadata": {
    "ExecuteTime": {
     "end_time": "2025-10-07T09:31:03.215450Z",
     "start_time": "2025-10-07T09:31:02.658089Z"
    }
   },
   "cell_type": "code",
   "outputs": [],
   "execution_count": 2,
   "source": [
    "from nanover.omni.openmm import OpenMMSimulation\n",
    "\n",
    "input_xml = \"openmm_files/nanotube.xml\"\n",
    "nanotube_simulation = OpenMMSimulation.from_xml_path(input_xml)"
   ],
   "id": "64aad07f787cf65"
  },
  {
   "metadata": {},
   "cell_type": "markdown",
   "source": "## Publish simulation frames via client",
   "id": "9f66abcb6e3cf51d"
  },
  {
   "metadata": {
    "ExecuteTime": {
     "end_time": "2025-10-07T09:40:41.170423Z",
     "start_time": "2025-10-07T09:40:39.523285Z"
    }
   },
   "cell_type": "code",
   "source": [
    "from contextlib import suppress\n",
    "from nanover.app import NanoverImdApplication\n",
    "from nanover.utilities.timing import yield_interval\n",
    "from nanover.trajectory.convert import pack_dict_frame\n",
    "\n",
    "fake_app_server = NanoverImdApplication.null_server()\n",
    "\n",
    "def send_frame(frame_index, frame):\n",
    "    frame.frame_index = frame_index\n",
    "    message = {\n",
    "        \"frame\": pack_dict_frame(frame.frame_dict),\n",
    "    }\n",
    "    client.send_message(message)\n",
    "\n",
    "nanotube_simulation.load()\n",
    "nanotube_simulation.reset(fake_app_server)\n",
    "frame = nanotube_simulation.make_topology_frame()\n",
    "send_frame(0, frame)\n",
    "\n",
    "with suppress(KeyboardInterrupt):\n",
    "    for dt in yield_interval(1/30):\n",
    "        nanotube_simulation.advance_by_one_step()\n",
    "        frame = nanotube_simulation.make_regular_frame()\n",
    "        send_frame(1, frame)"
   ],
   "id": "314a874e63adf604",
   "outputs": [],
   "execution_count": 9
  }
 ],
 "metadata": {
  "kernelspec": {
   "display_name": "Python 3",
   "language": "python",
   "name": "python3"
  },
  "language_info": {
   "codemirror_mode": {
    "name": "ipython",
    "version": 2
   },
   "file_extension": ".py",
   "mimetype": "text/x-python",
   "name": "python",
   "nbconvert_exporter": "python",
   "pygments_lexer": "ipython2",
   "version": "2.7.6"
  }
 },
 "nbformat": 4,
 "nbformat_minor": 5
}
