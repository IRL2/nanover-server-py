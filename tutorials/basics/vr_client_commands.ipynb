{
 "cells": [
  {
   "cell_type": "markdown",
   "id": "8e4816096d007822",
   "metadata": {},
   "source": [
    "# Custom commands in the VR client"
   ]
  },
  {
   "cell_type": "markdown",
   "id": "b8b7785995d4d8cc",
   "metadata": {},
   "source": [
    "## Setup the server"
   ]
  },
  {
   "cell_type": "markdown",
   "id": "eaa0bf2506239843",
   "metadata": {},
   "source": [
    "We will follow a similar setup to our [getting started](getting_started.ipynb) tutorial notebook, using a pre-prepared methane & nanotube input file to run an iMD simulation using OpenMM as the physics engine. Let's start by importing the classes necessary to run the simulation."
   ]
  },
  {
   "cell_type": "code",
   "execution_count": null,
   "id": "bc1b08db6f08ac78",
   "metadata": {},
   "outputs": [],
   "source": [
    "from nanover.omni import OmniRunner\n",
    "from nanover.omni.openmm import OpenMMSimulation"
   ]
  },
  {
   "cell_type": "markdown",
   "id": "db325a221cf5668f",
   "metadata": {},
   "source": [
    "Next, let's create an `OpenMMSimulation` object using our pre-prepared input file:"
   ]
  },
  {
   "cell_type": "code",
   "execution_count": null,
   "id": "dd6a60474ab161de",
   "metadata": {},
   "outputs": [],
   "source": [
    "# Create the simulation object\n",
    "nanotube_simulation = OpenMMSimulation.from_xml_path(\"openmm_files/nanotube.xml\")"
   ]
  },
  {
   "cell_type": "markdown",
   "id": "2458df2f22687915",
   "metadata": {},
   "source": [
    "Now we can set everything up to run the simulation, passing our `OpenMMSimulation` to an `OmniRunner` which will serve the simulation for iMD."
   ]
  },
  {
   "cell_type": "code",
   "execution_count": null,
   "id": "f616b5014a53713",
   "metadata": {},
   "outputs": [],
   "source": [
    "# Start the runner/server\n",
    "imd_runner = OmniRunner.with_basic_server(nanotube_simulation, name='vr-commands-server')\n",
    "\n",
    "# Load the first simulation\n",
    "imd_runner.load(0)"
   ]
  },
  {
   "cell_type": "markdown",
   "id": "158f38c0a38f0e14",
   "metadata": {},
   "source": [
    "## Defining a command"
   ]
  },
  {
   "cell_type": "markdown",
   "id": "20ad43a122b874f1",
   "metadata": {},
   "source": [
    "We'll define a command that, when triggered, saves the current state of the current simulation and adds to the list of simulations in simulation selection: "
   ]
  },
  {
   "cell_type": "code",
   "execution_count": null,
   "id": "5e24821192add69d",
   "metadata": {},
   "outputs": [],
   "source": [
    "def clone_omni_omm(omni_omm):\n",
    "    \"\"\"\n",
    "    Create an independent copy of a given NanoVer OpenMMSimulation.\n",
    "    \"\"\"\n",
    "    from nanover.openmm import serializer\n",
    "\n",
    "    # get the underlying openmm simulation object\n",
    "    omm = omni_omm.simulation\n",
    "\n",
    "    # clone it by serializing and then deserializing\n",
    "    data = serializer.serialize_simulation(omm)\n",
    "    omm_clone = serializer.deserialize_simulation(data)\n",
    "\n",
    "    # wrap the cloned openmm simulation in OpenMMSimulation\n",
    "    omni_omm_clone = OpenMMSimulation.from_simulation(omm_clone)\n",
    "    \n",
    "    # give it different name\n",
    "    omni_omm_clone.name = omni_omm.name + \"'\"\n",
    "    \n",
    "    return omni_omm_clone\n",
    "\n",
    "\n",
    "def add_checkpoint_simulation():\n",
    "    imd_runner.add_simulation(clone_omni_omm(imd_runner.simulation))\n",
    "\n",
    "\n",
    "# add the command to the server,\n",
    "# commands with names beginning with \"user/\" are displayed in the VR client\n",
    "imd_runner.app_server.register_command(\"user/checkpoint\", add_checkpoint_simulation)"
   ]
  },
  {
   "cell_type": "markdown",
   "id": "939e89459932b748",
   "metadata": {},
   "source": [
    "## Using the command"
   ]
  },
  {
   "cell_type": "markdown",
   "id": "e28df7b207431e9e",
   "metadata": {},
   "source": [
    "The command is now available in the VR client. You can try it yourself in [Nanover iMD-VR](https://irl2.github.io/nanover-docs/installation.html#installing-the-imd-vr-client). Connect to the server and use the \"User Commands\" menu to trigger the command; it will add a new listing to the simulations selection menu, just like in this video:\n",
    "\n",
    "<video controls src=\"images/imd-vr-checkpoint-command-small.mp4\" alt=\"video demonstrating the command in vr\" />"
   ]
  },
  {
   "cell_type": "markdown",
   "id": "f786f159a4f2f251",
   "metadata": {},
   "source": [
    "## Cleaning up"
   ]
  },
  {
   "cell_type": "code",
   "execution_count": null,
   "id": "1bac8515a1aac13a",
   "metadata": {},
   "outputs": [],
   "source": [
    "# Close the runner\n",
    "imd_runner.close()"
   ]
  }
 ],
 "metadata": {
  "kernelspec": {
   "display_name": "Python 3 (ipykernel)",
   "language": "python",
   "name": "python3"
  },
  "language_info": {
   "codemirror_mode": {
    "name": "ipython",
    "version": 3
   },
   "file_extension": ".py",
   "mimetype": "text/x-python",
   "name": "python",
   "nbconvert_exporter": "python",
   "pygments_lexer": "ipython3",
   "version": "3.12.0"
  }
 },
 "nbformat": 4,
 "nbformat_minor": 5
}
