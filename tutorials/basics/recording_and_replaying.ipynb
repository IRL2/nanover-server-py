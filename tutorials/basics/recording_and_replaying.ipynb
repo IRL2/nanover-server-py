{
 "cells": [
  {
   "cell_type": "markdown",
   "metadata": {},
   "source": [
    "# Recording and replaying iMD trajectories with NanoVer\n",
    "\n",
    "Although the primary benefit of iMD-VR is the ability to simultaneously visualise and interact with molecular systems, it is often useful to save the trajectory produced in order to run analyses after the simulation is complete. This tutorial demonstrates how to use the in-built functionality of NanoVer to record trajectories from iMD simulations, and how to subsequently replay them. For more information on recording and playback using NanoVer, please refer to the [Recording data](https://irl2.github.io/nanover-docs/concepts/recording.html#recording-data) page of the documentation.\n",
    "\n"
   ]
  },
  {
   "cell_type": "markdown",
   "metadata": {},
   "source": [
    "## Recording with NanoVer"
   ]
  },
  {
   "cell_type": "markdown",
   "metadata": {},
   "source": [
    "We will follow a similar setup to our [getting started](getting_started.ipynb) tutorial notebook, using a pre-prepared methane & nanotube input file to run an iMD simulation using OpenMM as the physics engine. Let's start by importing the classes necessary to run the simulation."
   ]
  },
  {
   "cell_type": "code",
   "execution_count": 1,
   "metadata": {},
   "outputs": [],
   "source": [
    "from nanover.omni import OmniRunner\n",
    "from nanover.omni.openmm import OpenMMSimulation"
   ]
  },
  {
   "cell_type": "markdown",
   "metadata": {},
   "source": [
    "Next, let's create an `OpenMMSimulation` object using our pre-prepared input file:"
   ]
  },
  {
   "cell_type": "code",
   "execution_count": 2,
   "metadata": {},
   "outputs": [],
   "source": [
    "# Create the simulation object\n",
    "nanotube_simulation = OpenMMSimulation.from_xml_path(\"openmm_files/nanotube.xml\")"
   ]
  },
  {
   "cell_type": "markdown",
   "metadata": {},
   "source": [
    "As we are recording the data from this simulation, let's set the simulation to deliver the forces and velocities of the system in addition to the default data sent in the frames to the client. This can be achieved by setting the `include_forces` and `include_velocities` flags to `True`, as follows:"
   ]
  },
  {
   "cell_type": "code",
   "execution_count": 3,
   "metadata": {},
   "outputs": [],
   "source": [
    "# [Optional] Include forces and velocities\n",
    "nanotube_simulation.include_forces = True\n",
    "nanotube_simulation.include_velocities = True"
   ]
  },
  {
   "cell_type": "markdown",
   "metadata": {},
   "source": [
    "Now we can set everything up to run the simulation, passing our `OpenMMSimulation` to an `OmniRunner` which will serve the simulation for iMD."
   ]
  },
  {
   "cell_type": "code",
   "execution_count": 4,
   "metadata": {},
   "outputs": [],
   "source": [
    "# Define the runner\n",
    "imd_runner = OmniRunner.with_basic_server(nanotube_simulation, name='recording-server')"
   ]
  },
  {
   "cell_type": "markdown",
   "metadata": {},
   "source": [
    "So far, the setup is no different from a normal iMD simulation. In order to record the trajectory using NanoVer's in-built recording functionality, we need to import the `nanover.omni.record.record_from_server` function:"
   ]
  },
  {
   "cell_type": "code",
   "execution_count": 5,
   "metadata": {},
   "outputs": [],
   "source": [
    "from nanover.omni.record import record_from_server"
   ]
  },
  {
   "cell_type": "markdown",
   "metadata": {},
   "source": [
    "When recording the simulation using NanoVer, we create two files: \n",
    "* a trajectory file (with the `.traj` extension) that contains the information from the simulation (i.e. the simulation [frames](../fundamentals/frame.ipynb))\n",
    "* a state file (with the `.state` extension) that contains the updates to the [shared state](../fundamentals/commands_and_state.ipynb)\n",
    "\n",
    "More information about the contents of these files can be found on the [Recording data](https://irl2.github.io/nanover-docs/concepts/recording.html) page of the NanoVer documentation, but at this stage these details are unimportant. The bottom line is that recording both of these data streams allows NanoVer to replay the recorded trajectory on a server. \n"
   ]
  },
  {
   "cell_type": "markdown",
   "metadata": {},
   "source": [
    "As the recording function generates files containing the recorded data, we need to define the paths of the trajectory and state files that we want to write to."
   ]
  },
  {
   "cell_type": "code",
   "execution_count": 6,
   "metadata": {},
   "outputs": [],
   "source": [
    "# Define the .traj and .state file names and paths\n",
    "traj_path = 'nanotube_recording.traj'\n",
    "state_path = 'nanotube_recording.state'"
   ]
  },
  {
   "cell_type": "markdown",
   "metadata": {},
   "source": [
    "We have already set up the server, so all that remains to do before we run the simulation is to pass the port address of the `OmniRunner` that serves the simulation to the `record_from_server` function **before** we start the simulation."
   ]
  },
  {
   "cell_type": "code",
   "execution_count": 7,
   "metadata": {},
   "outputs": [],
   "source": [
    "# Pass the runner to the recording function\n",
    "record_from_server(f\"localhost:{imd_runner.app_server.port}\", traj_path, state_path)\n",
    "\n",
    "# Start the simulation\n",
    "imd_runner.next()"
   ]
  },
  {
   "cell_type": "markdown",
   "metadata": {},
   "source": [
    "Great! We are now recording our methane & nanotube simulation that's running on a server! If you've [installed Nanover iMD-VR](https://irl2.github.io/nanover-docs/installation.html#installing-the-imd-vr-client), you can connect to the server and interact with the system in VR. Once you've opened the application, click `autoconnect` either from inside VR or at the top left of your on-screen menu, and you'll see something like this:\n",
    "\n",
    "![nanotube](images/nanover_nanotube.png)"
   ]
  },
  {
   "cell_type": "markdown",
   "metadata": {},
   "source": [
    "Have a play around and see if you can thread the methane through the nanotube!\n",
    "\n",
    "Once we're finished with the simulation, we terminate the runner as usual, which also stops the recording."
   ]
  },
  {
   "cell_type": "code",
   "execution_count": 8,
   "metadata": {},
   "outputs": [],
   "source": [
    "# Close the runner\n",
    "imd_runner.close()"
   ]
  },
  {
   "cell_type": "markdown",
   "metadata": {},
   "source": [
    "Now we have our recorded simulation! "
   ]
  },
  {
   "cell_type": "markdown",
   "metadata": {},
   "source": [
    "## Replaying with NanoVer"
   ]
  },
  {
   "cell_type": "markdown",
   "metadata": {},
   "source": [
    "The benefit of recording a simulation using NanoVer's in-build recording functionality is that it allows us to save the simulation output and load the simulation back into NanoVer directly to visualise the recorded trajectory, while simultaneously playing back the shared state (synchronised with the trajectory), enabling you to e.g. visualise the avatars interacting with the system in VR. If you interacted with the system in VR in the previous section, you'll be able to see yourself interacting with the recorded simulation in this section!\n",
    "\n",
    "\n",
    "Having recorded a simulation using NanoVer's in-built functionality for recording, the recording can be passed to an `OmniRunner`, which can serve the recorded simulation, enabling multiple clients to connect to the server to visualise it. In this section we'll load our simulation that we recorded above (see previous section!) back into NanoVer. \n",
    " \n",
    "**NOTE**: This section will not work unless you have _already recorded a simulation_ (see \"Recording with NanoVer\")\n",
    "\n",
    "In order to do this, we must first import the `PlaybackSimulation` class:"
   ]
  },
  {
   "cell_type": "code",
   "execution_count": 9,
   "metadata": {},
   "outputs": [],
   "source": [
    "from nanover.omni.playback import PlaybackSimulation"
   ]
  },
  {
   "cell_type": "markdown",
   "metadata": {},
   "source": [
    "Now we can create an instance of the `PlaybackSimulation` class from the trajectory and state files created in the previous section for our nanotube simulation, and serve it using an `OmniRunner`. The process is very similar to setting up a regular NanoVer OpenMM simulation from an XML file."
   ]
  },
  {
   "cell_type": "code",
   "execution_count": 10,
   "metadata": {},
   "outputs": [],
   "source": [
    "# Create the PlaybackSimulation object\n",
    "nanotube_recording = PlaybackSimulation(name=\"nanotube-recording\",\n",
    "                                        traj=traj_path,\n",
    "                                        state=state_path)\n",
    "\n",
    "# Pass the PlaybackSimulation to a runner and play the recording\n",
    "recording_runner = OmniRunner.with_basic_server(nanotube_recording, name=\"recording-server\")\n",
    "recording_runner.next()"
   ]
  },
  {
   "cell_type": "markdown",
   "metadata": {},
   "source": [
    "And that's it! Now the recording is up and running on a NanoVer server, and can be visualised by connecting a client to this server. If you've [installed Nanover iMD-VR](https://irl2.github.io/nanover-docs/installation.html#installing-the-imd-vr-client), you can connect to the server and interact with the system in VR. Alternatively, you can connect to the server using the `NGLClient` in our [example notebook](nanover_nglview.ipynb) to view the recorded simulation using and NGLView widget.\n",
    "\n",
    "As ever, once we are finished with the server playing the recording, we should terminate the runner in the usual fashion."
   ]
  },
  {
   "cell_type": "code",
   "execution_count": 11,
   "metadata": {},
   "outputs": [],
   "source": [
    "# Close the runner\n",
    "recording_runner.close()"
   ]
  },
  {
   "cell_type": "markdown",
   "metadata": {},
   "source": [
    "That's it! In this notebook we've learned:\n",
    "\n",
    "* How to record an iMD simulation using NanoVer\n",
    "* How to replay a recorded iMD simulation using NanoVer"
   ]
  },
  {
   "cell_type": "markdown",
   "metadata": {},
   "source": [
    "## Next steps"
   ]
  },
  {
   "cell_type": "markdown",
   "metadata": {},
   "source": [
    "* Check out our [nanotube tutorial](../openmm/openmm_nanotube.ipynb) to learn how to interact with an OpenMM simulation via a python client\n",
    "* Learn how to change the visual representation of a [protein-ligand system](../openmm/openmm_neuraminidase.ipynb)\n",
    "* Learn how trajectories recorded directly with NanoVer can be [analysed using MDAnalysis](../mdanalysis/mdanalysis_nanover_recording.ipynb)"
   ]
  }
 ],
 "metadata": {
  "extensions": {
   "jupyter_dashboards": {
    "activeView": "grid_default",
    "version": 1,
    "views": {
     "grid_default": {
      "cellMargin": 10,
      "defaultCellHeight": 20,
      "maxColumns": 12,
      "name": "grid",
      "type": "grid"
     },
     "report_default": {
      "name": "report",
      "type": "report"
     }
    }
   }
  },
  "hide_input": false,
  "kernelspec": {
   "display_name": "Python 3 (ipykernel)",
   "language": "python",
   "name": "python3"
  },
  "language_info": {
   "codemirror_mode": {
    "name": "ipython",
    "version": 3
   },
   "file_extension": ".py",
   "mimetype": "text/x-python",
   "name": "python",
   "nbconvert_exporter": "python",
   "pygments_lexer": "ipython3",
   "version": "3.12.5"
  },
  "pycharm": {
   "stem_cell": {
    "cell_type": "raw",
    "metadata": {
     "collapsed": false
    },
    "source": []
   }
  },
  "toc": {
   "nav_menu": {},
   "number_sections": true,
   "sideBar": true,
   "skip_h1_title": false,
   "toc_cell": false,
   "toc_position": {},
   "toc_section_display": "block",
   "toc_window_display": false
  }
 },
 "nbformat": 4,
 "nbformat_minor": 4
}
