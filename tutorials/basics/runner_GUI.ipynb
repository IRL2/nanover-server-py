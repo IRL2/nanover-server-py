{
 "cells": [
  {
   "cell_type": "markdown",
   "id": "beb56299f3b9906b",
   "metadata": {},
   "source": [
    "# Getting Started with usign the Nanover Python GUI"
   ]
  },
  {
   "cell_type": "markdown",
   "id": "857248a0412b141d",
   "metadata": {},
   "source": [
    "In this notebook, we will show you how to use the Nanover Python GUI to create a simple user interface for Nanover.\n",
    "\n",
    "We will assume that you have already installed the Nanover Python package. If you haven't, you can install it by following the instructions in the [documentation](https://irl2.github.io/nanover-docs/installation.html#user-installation-guide).\n",
    "\n",
    "Another package that needs to be installed is [Gradio](https://www.gradio.app/). You can install it by running the following command in the terminal:\n",
    "```bash\n",
    "pip install gradio\n",
    "```"
   ]
  },
  {
   "cell_type": "markdown",
   "id": "50d98309ad788518",
   "metadata": {},
   "source": [
    "First, we need to import the necessary module.\n",
    "\n",
    "**Note that this UI module can also be run as a script to create a web based user interface by running `gradio UI.py` in the terminal.**\n"
   ]
  },
  {
   "cell_type": "code",
   "execution_count": null,
   "id": "initial_id",
   "metadata": {
    "ExecuteTime": {
     "end_time": "2024-10-11T13:35:28.883101Z",
     "start_time": "2024-10-11T13:35:25.758411Z"
    }
   },
   "outputs": [],
   "source": [
    "import UI"
   ]
  },
  {
   "cell_type": "markdown",
   "id": "a2108d73ad2a1077",
   "metadata": {},
   "source": [
    "We used Gradio as a library for creating the user interface. The magic command `%load_ext` is used to load the extension."
   ]
  },
  {
   "cell_type": "code",
   "execution_count": null,
   "id": "15d478612a761c6",
   "metadata": {
    "ExecuteTime": {
     "end_time": "2024-10-11T13:35:39.085137Z",
     "start_time": "2024-10-11T13:35:39.081539Z"
    }
   },
   "outputs": [],
   "source": [
    "%load_ext gradio"
   ]
  },
  {
   "cell_type": "markdown",
   "id": "c17f7d44ec3beaf6",
   "metadata": {},
   "source": [
    "Next we can create the user interface using the `create_ui` function from the `UI` module. This will both create the user interface and display it in the notebook, as well as run a local server to host the user interface as a web page."
   ]
  },
  {
   "cell_type": "markdown",
   "id": "e20dd8c4301d41e0",
   "metadata": {},
   "source": [
    "\n",
    "\n",
    "## Using the Nanover Python GUI\n",
    "\n",
    "### Step 1: Select Simulation Type and upload files\n",
    "Select your preferred simulation mode using the radio buttons:\n",
    "* \"From xml\"\n",
    "* \"From recording\"\n",
    "\n",
    "Prepare and upload the required simulation files:\n",
    "* Input files\n",
    "* Trajectory files\n",
    "* State file\n",
    "\n",
    "### Step 2: Configure Simulation Parameters\n",
    "\n",
    "**Network Settings**\n",
    "* Server name\n",
    "* Port\n",
    "\n",
    "**Simulation Controls**\n",
    "* Simulation FPS\n",
    "* Frame interval\n",
    "* Start paused\n",
    "\n",
    "**Physics Parameters**\n",
    "* Include velocities\n",
    "* Include forces\n",
    "\n",
    "**Output Configuration**\n",
    "* Record trajectory\n",
    "* Trajectory output file\n",
    "* Shared state file\n",
    "\n",
    "### Step 3: Run the Simulation\n",
    "Execute the simulation by activating the \"Run\" button. Monitor the simulation parameters in the designated output area.\n",
    "\n",
    "### Step 4: Stop the Simulation\n",
    "Terminate the simulation process using the \"Stop\" button when desired."
   ]
  },
  {
   "cell_type": "code",
   "execution_count": null,
   "id": "bb921017722d2c94",
   "metadata": {
    "ExecuteTime": {
     "end_time": "2024-10-11T13:35:47.484682Z",
     "start_time": "2024-10-11T13:35:46.947312Z"
    }
   },
   "outputs": [],
   "source": [
    "%%blocks\n",
    "demo = UI.create_ui()\n",
    "demo"
   ]
  },
  {
   "cell_type": "markdown",
   "id": "4eae29298b7ae81e",
   "metadata": {},
   "source": [
    "Before exiting the notebook, make sure to close the web ui server by running the `close` method, otherwise the web ui will continue running in the background."
   ]
  },
  {
   "cell_type": "code",
   "execution_count": null,
   "id": "209f8c2fa6f4e002",
   "metadata": {
    "ExecuteTime": {
     "end_time": "2024-10-11T13:36:10.396516Z",
     "start_time": "2024-10-11T13:36:10.216379Z"
    }
   },
   "outputs": [],
   "source": [
    "demo.close()"
   ]
  }
 ],
 "metadata": {
  "kernelspec": {
   "display_name": "Python 3 (ipykernel)",
   "language": "python",
   "name": "python3"
  },
  "language_info": {
   "codemirror_mode": {
    "name": "ipython",
    "version": 3
   },
   "file_extension": ".py",
   "mimetype": "text/x-python",
   "name": "python",
   "nbconvert_exporter": "python",
   "pygments_lexer": "ipython3",
   "version": "3.12.0"
  }
 },
 "nbformat": 4,
 "nbformat_minor": 5
}
