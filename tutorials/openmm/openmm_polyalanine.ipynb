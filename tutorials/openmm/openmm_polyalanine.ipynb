{
 "cells": [
  {
   "cell_type": "markdown",
   "metadata": {},
   "source": [
    "# Run an OpenMM simulation with NanoVer \n",
    "\n",
    "NanoVer can run OpenMM simulations in two ways: either using [ASE as an interface](../ase/ase_openmm_nanotube.ipynb), or directly using [OpenMM mechanisms](./openmm_nanotube.ipynb). Using the ASE interface offers the most flexibility to customise a workflow; in the [ASE OpenMM graphene example](../ase/ase_openmm_graphene.ipynb) we control the physics parameters of a running simulation from a Jupyter notebook. The ASE interface misses some specific OpenMM features, though; one of the most significant being holonomic constraints. Using the OpenMM mechanisms without ASE as an interface gives access to all of OpenMM features, but may require more work for some customisation needs. Here, we demonstrate how to to use the OpenMM mechanisms with NanoVer."
   ]
  },
  {
   "cell_type": "markdown",
   "metadata": {},
   "source": [
    "## Preparing an OpenMM simulation\n",
    "\n",
    "Running an OpenMM simulation with NanoVer requires two elements: an OpenMM simulation and a NanoVer runner. The simulation is an ordinary OpenMM simulation that we will prepare as normal. We then use this to create an instance of the `OpenMMSimulation` class, which can be passed to NanoVer to run an interactive molecular dynamics (iMD) simulation. An important note is that removing the center of mass motion (as is the default in OpenMM) leads to unintuitive behaviours when you interact with the molecules, particularly for small systems. We recommend deactivating this default flag, i.e. with `removeCMMotion=False`.\n",
    "\n",
    "Here, we prepare a simulation of a polyalanine following instructions adapted from [the OpenMM documentation](http://docs.openmm.org/7.0.0/userguide/application.html#a-first-example)."
   ]
  },
  {
   "cell_type": "code",
   "execution_count": 1,
   "metadata": {},
   "outputs": [],
   "source": [
    "import openmm as mm\n",
    "from openmm import app\n",
    "from openmm import unit\n",
    "\n",
    "pdb = app.PDBFile('openmm_files/17-ala.pdb')\n",
    "forcefield = app.ForceField('amber99sb.xml', 'tip3p.xml')\n",
    "system = forcefield.createSystem(\n",
    "    pdb.topology,\n",
    "    nonbondedMethod=app.PME,\n",
    "    nonbondedCutoff=1 * unit.nanometer,\n",
    "    constraints=app.HBonds,\n",
    "    removeCMMotion=False,\n",
    ")\n",
    "\n",
    "integrator = mm.LangevinIntegrator(\n",
    "    300 * unit.kelvin,\n",
    "    1 / unit.picosecond,\n",
    "    0.002 * unit.picoseconds,\n",
    ")\n",
    "simulation = app.Simulation(pdb.topology, system, integrator)\n",
    "simulation.context.setPositions(pdb.positions)"
   ]
  },
  {
   "cell_type": "markdown",
   "metadata": {},
   "source": [
    "Thus far, the simulation is a normal OpenMM simulation and can be used as such. Let's minimize the energy and run a few steps to make sure everything is working."
   ]
  },
  {
   "cell_type": "code",
   "execution_count": 2,
   "metadata": {},
   "outputs": [],
   "source": [
    "simulation.minimizeEnergy()\n",
    "simulation.step(100)"
   ]
  },
  {
   "cell_type": "markdown",
   "metadata": {},
   "source": [
    "## Running the simulation with NanoVer\n",
    "\n",
    "NanoVer works using a client-server architecture. A NanoVer runner creates the server and makes a link between that server and the simulation. Here, we create an `OmniRunner` and pass an `OpenMMSimulation` to it. The `OpenMMSimulation` class is responsible for delivering data output by the OpenMM simulation to the client. An `OpenMMSimulation` delivers data in a similar way to a reporter in OpenMM: the data is delivered in frames, which are published at intervals of simulation steps specified by the `frame_interval` property (defaults to 5 steps)."
   ]
  },
  {
   "cell_type": "code",
   "execution_count": 3,
   "metadata": {},
   "outputs": [],
   "source": [
    "from nanover.omni import OmniRunner\n",
    "from nanover.omni.openmm import OpenMMSimulation\n",
    "\n",
    "# Create the OpenMMSimulation instance\n",
    "polyalanine_simulation = OpenMMSimulation.from_simulation(simulation)\n",
    "\n",
    "# Pass the simulation to the runner\n",
    "imd_runner = OmniRunner.with_basic_server(polyalanine_simulation, name=\"polyalanine-omm-server\")\n",
    "\n",
    "# Run the simulation\n",
    "imd_runner.next()"
   ]
  },
  {
   "cell_type": "markdown",
   "metadata": {},
   "source": [
    "Excellent! We now have the simulation running and a server waiting for clients to connect!\n",
    "\n",
    "&nbsp;  \n",
    "\n",
    "**Note**: Be careful if you run the above cell multiple times without closing the server by running `imd_runner.close()` (see below), as you will start multiple servers, which may be discovered if you use autoconnect. You can guard against this by swapping the final two lines (that define and start the runner, respectively) in the cell above with:\n",
    "\n",
    "\n",
    "```python\n",
    "try:\n",
    "    imd_runner.close()\n",
    "except NameError: # If the server hasn't been defined yet, there will be an error\n",
    "    pass\n",
    "imd_runner = OmniRunner.with_basic_server(polyalanine_simulation, name=\"polyalanine-omm-server\")\n",
    "imd_runner.next()\n",
    "```\n",
    "&nbsp;  \n",
    "\n",
    "Once you are done, you can close the server to free the network port."
   ]
  },
  {
   "cell_type": "code",
   "execution_count": 4,
   "metadata": {},
   "outputs": [],
   "source": [
    "# Close the runner\n",
    "imd_runner.close()"
   ]
  },
  {
   "cell_type": "markdown",
   "metadata": {},
   "source": [
    "## Saving a simulation to file\n",
    "\n",
    "Once you have a simulation ready, you may want to save this setup to a file. By doing so, it becomes simpler to reuse the simulation, including with the command line interface (by running the command `$ nanover-omi --omm my_input_file.xml`).\n",
    "\n",
    "This can be achieved using `nanover.openmm.serializer.serialize_simulation`, which creates an XML that describes the system, the initial structure, and the integrator."
   ]
  },
  {
   "cell_type": "code",
   "execution_count": 5,
   "metadata": {},
   "outputs": [],
   "source": [
    "from nanover.openmm import serializer\n",
    "with open('polyalanine-simulation.xml', 'w') as outfile:\n",
    "    outfile.write(serializer.serialize_simulation(simulation))"
   ]
  },
  {
   "cell_type": "markdown",
   "metadata": {},
   "source": [
    "Once created, the simulation can be retrieved from the file using `nanover.openmm.serializer.deserialize_simulation`, which reads the XML and creates the simulation object."
   ]
  },
  {
   "cell_type": "code",
   "execution_count": 6,
   "metadata": {},
   "outputs": [],
   "source": [
    "with open('polyalanine-simulation.xml') as infile:\n",
    "    simulation_2 = serializer.deserialize_simulation(infile.read())"
   ]
  },
  {
   "cell_type": "markdown",
   "metadata": {},
   "source": [
    "## Using a saved simulation\n",
    "\n",
    "With a simulation saved as an XML file, setting up a NanoVer runner becomes much simpler. Below we set up an `OpenMMSimulation` for polyalanine by retrieving the simulation directly from a pre-prepared NanoVer OpenMM XML file, but you could do the same with the file we created in this tutorial by commenting out the top line and uncommenting the second line:"
   ]
  },
  {
   "cell_type": "code",
   "execution_count": 7,
   "metadata": {},
   "outputs": [],
   "source": [
    "polyalanine_simulation = OpenMMSimulation.from_xml_path('openmm_files/17-ala.xml')\n",
    "# polyalanine_simulation = OpenMMSimulation.from_xml_path('polyalanine-simulation.xml')"
   ]
  },
  {
   "cell_type": "markdown",
   "metadata": {},
   "source": [
    "Now the simulation can be run in the same fashion as demonstrated previously."
   ]
  },
  {
   "cell_type": "code",
   "execution_count": 8,
   "metadata": {},
   "outputs": [],
   "source": [
    "imd_runner = OmniRunner.with_basic_server(polyalanine_simulation, name=\"polyalanine-omm-server\")\n",
    "imd_runner.next()"
   ]
  },
  {
   "cell_type": "markdown",
   "metadata": {},
   "source": [
    "Again, once we're finished we should be careful to clean up after ourselves properly by closing the runner as below."
   ]
  },
  {
   "cell_type": "code",
   "execution_count": 9,
   "metadata": {},
   "outputs": [],
   "source": [
    "imd_runner.close()"
   ]
  },
  {
   "cell_type": "markdown",
   "metadata": {},
   "source": [
    "## Saving the trajectory\n",
    "\n",
    "Although the primary benefit of iMD-VR is the ability to simultaneously visualise and interact with molecular systems, it is often useful to save the trajectory produced in order to run analyses after the simulation is complete."
   ]
  },
  {
   "cell_type": "markdown",
   "metadata": {},
   "source": [
    "### Via OpenMM"
   ]
  },
  {
   "cell_type": "markdown",
   "metadata": {},
   "source": [
    "Saving the trajectory can be done in the regular way for OpenMM simulations: by attaching a reporter. Here we attach a DCD reporter to save the trajectory in the DCD format every 50 frames.\n",
    "\n",
    "**Note**: It is essential to load the simulation _before_ attaching a DCD reporter, using the `.load()` function."
   ]
  },
  {
   "cell_type": "code",
   "execution_count": 10,
   "metadata": {},
   "outputs": [],
   "source": [
    "# Load the simulation\n",
    "polyalanine_simulation.load()\n",
    "\n",
    "# Attach the DCD reporter\n",
    "dcd_reporter = app.DCDReporter('output.dcd', 50)\n",
    "polyalanine_simulation.simulation.reporters.append(dcd_reporter)\n",
    "\n",
    "# Run the simulation\n",
    "imd_runner = OmniRunner.with_basic_server(polyalanine_simulation, name=\"polyalanine-omm-server\")\n",
    "imd_runner.next()"
   ]
  },
  {
   "cell_type": "markdown",
   "metadata": {},
   "source": [
    "As ever, let's make sure we close the runner once we're finished with our simulation by running the cell below."
   ]
  },
  {
   "cell_type": "code",
   "execution_count": 11,
   "metadata": {},
   "outputs": [],
   "source": [
    "imd_runner.close()"
   ]
  },
  {
   "cell_type": "markdown",
   "metadata": {},
   "source": [
    "The DCD reporter does not close the file when the simulation is finished. In some cases, this can prevent to open the trajectory with an other software as long as the jupyter kernel is running. This line closes the file. Note that this will break the reporter in case you want to continue running the simulation."
   ]
  },
  {
   "cell_type": "code",
   "execution_count": 13,
   "metadata": {},
   "outputs": [],
   "source": [
    "# Tell the DCDReporter to clean itself up (close the DCD file)\n",
    "dcd_reporter.__del__()"
   ]
  },
  {
   "cell_type": "markdown",
   "metadata": {},
   "source": [
    "### Via NanoVer"
   ]
  },
  {
   "cell_type": "markdown",
   "metadata": {},
   "source": [
    "Alternatively, the trajectory of the simulation can be saved using the in-built recording functionality of NanoVer. This allows us to save the simulation output and load the simulation back into NanoVer directly to visualise the recorded trajectory (note that this can also be done with a DCD trajectory using [MDAnalysis with NanoVer](../mdanalysis/mdanalysis_trajectory.ipynb)). In addition, this functionality allows you to play back the shared state (synchronised with the trajectory), enabling you to e.g. visualise the avatars interacting with the system in VR.\n",
    "\n",
    "When recording the trajectory this way, we create two files: \n",
    "* a trajectory file (with the `.traj` extension) that contains the information from the simulation (i.e. the simulation [frames](../fundamentals/frame.ipynb))\n",
    "* a state file (with the `.state` extension) that contains the updates to the [shared state](../fundamentals/commands_and_state.ipynb)\n",
    "\n",
    "More information about the contents of these files can be found on the [Recording data](https://irl2.github.io/nanover-docs/concepts/recording.html) page of the NanoVer documentation, but at this stage these details are unimportant. The bottom line is that recording both of these data streams allows NanoVer to replay the recorded trajectory on a server. \n",
    "\n",
    "In order to record our simulation, we need to import the `nanover.omni.record.record_from_server` function:\n"
   ]
  },
  {
   "cell_type": "code",
   "execution_count": 14,
   "metadata": {},
   "outputs": [],
   "source": [
    "from nanover.omni.record import record_from_server"
   ]
  },
  {
   "cell_type": "markdown",
   "metadata": {},
   "source": [
    "Next, we need to define the paths of the trajectory and state files that we want to write to."
   ]
  },
  {
   "cell_type": "code",
   "execution_count": 15,
   "metadata": {},
   "outputs": [],
   "source": [
    "traj_path = 'polyalanine_recording.traj'\n",
    "state_path = 'polyalanine_recording.state'"
   ]
  },
  {
   "cell_type": "markdown",
   "metadata": {},
   "source": [
    "Now we can set up our simulation and server as before, passing the `OmniRunner` to the `record_from_server` function **before** we start the simulation. We'll use the pre-prepared polyalanine NanoVer OpenMM XML again to define our system."
   ]
  },
  {
   "cell_type": "code",
   "execution_count": 16,
   "metadata": {},
   "outputs": [],
   "source": [
    "polyalanine_simulation = OpenMMSimulation.from_xml_path('openmm_files/17-ala.xml')\n",
    "imd_runner = OmniRunner.with_basic_server(polyalanine_simulation, name=\"polyalanine-omm-server\")\n",
    "\n",
    "# Pass the runner to the recording function\n",
    "record_from_server(f\"localhost:{imd_runner.app_server.port}\", traj_path, state_path)\n",
    "\n",
    "# Start the simulation\n",
    "imd_runner.next()"
   ]
  },
  {
   "cell_type": "markdown",
   "metadata": {},
   "source": [
    "Once we're finished with the simulation, we terminate the runner as usual."
   ]
  },
  {
   "cell_type": "code",
   "execution_count": 17,
   "metadata": {},
   "outputs": [],
   "source": [
    "imd_runner.close()"
   ]
  },
  {
   "cell_type": "markdown",
   "metadata": {},
   "source": [
    "Now we have our recorded simulation! "
   ]
  },
  {
   "cell_type": "markdown",
   "metadata": {},
   "source": [
    "## Replaying a recorded NanoVer simulation"
   ]
  },
  {
   "cell_type": "markdown",
   "metadata": {},
   "source": [
    "\n",
    "Having recorded a simulation using NanoVer's in-built functionality for recording, the recording can be passed to an `OmniRunner`, which can serve the recorded simulation, enabling multiple clients to connect to the server to visualise it. In order to do this, we must first import the `PlaybackSimulation` class:"
   ]
  },
  {
   "cell_type": "code",
   "execution_count": 18,
   "metadata": {},
   "outputs": [],
   "source": [
    "from nanover.omni.playback import PlaybackSimulation"
   ]
  },
  {
   "cell_type": "markdown",
   "metadata": {},
   "source": [
    "Now we can create an instance of the `PlaybackSimulation` class from the trajectory and state files created in the previous section for our polyalanine simulation, and serve it using an `OmniRunner`. The process is very similar to setting up a regular NanoVer OpenMM simulation from an XML file."
   ]
  },
  {
   "cell_type": "code",
   "execution_count": 19,
   "metadata": {},
   "outputs": [],
   "source": [
    "# Create the PlaybackSimulation object\n",
    "polyalanine_recording = PlaybackSimulation(name=\"polyalanine-recording\",\n",
    "                                           traj=traj_path,\n",
    "                                           state=state_path)\n",
    "\n",
    "# Pass the PlaybackSimulation to a runner and play the recording\n",
    "recording_runner = OmniRunner.with_basic_server(polyalanine_recording, name=\"polyalanine-recording-server\")\n",
    "recording_runner.next()"
   ]
  },
  {
   "cell_type": "markdown",
   "metadata": {},
   "source": [
    "And that's it! Now the recording is up and running on a NanoVer server, and can be visualised by connecting a client to this server.\n",
    "\n",
    "As ever, once we are finished with the server playing the recording, we should terminate the runner in the usual fashion."
   ]
  },
  {
   "cell_type": "code",
   "execution_count": 20,
   "metadata": {},
   "outputs": [],
   "source": [
    "recording_runner.close()"
   ]
  },
  {
   "cell_type": "markdown",
   "metadata": {},
   "source": [
    "## Next steps"
   ]
  },
  {
   "cell_type": "markdown",
   "metadata": {},
   "source": [
    "* Check out our [nanotube tutorial](openmm_nanotube.ipynb) to learn how to interact with an OpenMM simulation via a python client\n",
    "* Learn how to change the visual representation of a [protein-ligand system](openmm_neuraminidase.ipynb)\n",
    "* Learn how trajectories recorded directly with NanoVer can be [analysed using MDAnalysis](../mdanalysis/mdanalysis_nanover_recording.ipynb)"
   ]
  }
 ],
 "metadata": {
  "extensions": {
   "jupyter_dashboards": {
    "activeView": "grid_default",
    "version": 1,
    "views": {
     "grid_default": {
      "cellMargin": 10,
      "defaultCellHeight": 20,
      "maxColumns": 12,
      "name": "grid",
      "type": "grid"
     },
     "report_default": {
      "name": "report",
      "type": "report"
     }
    }
   }
  },
  "hide_input": false,
  "kernelspec": {
   "display_name": "Python 3 (ipykernel)",
   "language": "python",
   "name": "python3"
  },
  "language_info": {
   "codemirror_mode": {
    "name": "ipython",
    "version": 3
   },
   "file_extension": ".py",
   "mimetype": "text/x-python",
   "name": "python",
   "nbconvert_exporter": "python",
   "pygments_lexer": "ipython3",
   "version": "3.12.0"
  },
  "pycharm": {
   "stem_cell": {
    "cell_type": "raw",
    "metadata": {
     "collapsed": false
    },
    "source": []
   }
  },
  "toc": {
   "nav_menu": {},
   "number_sections": true,
   "sideBar": true,
   "skip_h1_title": false,
   "toc_cell": false,
   "toc_position": {},
   "toc_section_display": "block",
   "toc_window_display": false
  }
 },
 "nbformat": 4,
 "nbformat_minor": 4
}
