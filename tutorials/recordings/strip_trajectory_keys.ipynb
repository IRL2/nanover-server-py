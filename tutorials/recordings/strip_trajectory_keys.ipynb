{
 "cells": [
  {
   "cell_type": "markdown",
   "id": "e735a2b5-6035-48b6-98bd-62edfcfc856c",
   "metadata": {},
   "source": [
    "## Setup"
   ]
  },
  {
   "cell_type": "code",
   "execution_count": 1,
   "id": "53f549fa-95cd-4152-9577-2d18233ba2f8",
   "metadata": {},
   "outputs": [],
   "source": [
    "from pathlib import Path\n",
    "from nanover.recording.old.reading import buffer_to_frame_message, MessageRecordingReader\n",
    "from nanover.recording.old.writing import record_entries_to_file"
   ]
  },
  {
   "cell_type": "code",
   "execution_count": 2,
   "id": "12049988-de41-4b7f-aca8-462cd9ff09f8",
   "metadata": {},
   "outputs": [],
   "source": [
    "def remove_keys_from_frame(frame_response, keys):\n",
    "    for key in keys:\n",
    "        if key in frame_response.frame.values:\n",
    "            del frame_response.frame.values[key]\n",
    "        if key in frame_response.frame.arrays:\n",
    "            del frame_response.frame.arrays[key]\n",
    "    return frame_response"
   ]
  },
  {
   "cell_type": "code",
   "execution_count": 3,
   "id": "2369c448-454c-401a-99ab-056cd196173f",
   "metadata": {},
   "outputs": [],
   "source": [
    "def read_messages_from_trajectory(path):\n",
    "    with open(path, \"rb\") as io:\n",
    "        reader = MessageRecordingReader.from_io(io)\n",
    "        for entry in reader:\n",
    "            yield entry.timestamp, buffer_to_frame_message(entry.buffer)"
   ]
  },
  {
   "cell_type": "markdown",
   "id": "23cb7f21-5df0-43fc-b884-1935a7cef9aa",
   "metadata": {},
   "source": [
    "## Config"
   ]
  },
  {
   "cell_type": "code",
   "execution_count": 4,
   "id": "a047c1f3-e4d3-4164-b283-f950220e60d5",
   "metadata": {},
   "outputs": [
    {
     "name": "stdout",
     "output_type": "stream",
     "text": [
      "STRIP: particle.forces, particle.velocities \n",
      "INPUT: nanotube-example-recording.traj \n",
      "OUTPUT: nanotube-example-recording-filtered.traj\n"
     ]
    }
   ],
   "source": [
    "from nanover.trajectory.frame_data import PARTICLE_FORCES, PARTICLE_VELOCITIES\n",
    "keys_to_strip = { PARTICLE_FORCES, PARTICLE_VELOCITIES }\n",
    "\n",
    "INPUT_TRAJ_PATH = Path(\"nanotube-example-recording.traj\")\n",
    "OUTPUT_TRAJ_PATH = INPUT_TRAJ_PATH.parent / Path(INPUT_TRAJ_PATH.stem + \"-filtered.traj\")\n",
    "\n",
    "print(\"STRIP:\", \", \".join(keys_to_strip), \"\\nINPUT:\", INPUT_TRAJ_PATH, \"\\nOUTPUT:\", OUTPUT_TRAJ_PATH)"
   ]
  },
  {
   "cell_type": "markdown",
   "id": "204ae8d1-ae93-4961-ab66-a4dcb14544b5",
   "metadata": {},
   "source": [
    "## Run"
   ]
  },
  {
   "cell_type": "code",
   "execution_count": 5,
   "id": "767fca04-1859-4200-8f51-f9cdf89416cf",
   "metadata": {},
   "outputs": [],
   "source": [
    "# NBVAL_SKIP\n",
    "frames = read_messages_from_trajectory(INPUT_TRAJ_PATH)\n",
    "filtered = ((timestamp, remove_keys_from_frame(frame, keys_to_strip)) for (timestamp, frame) in frames)\n",
    "record_entries_to_file(OUTPUT_TRAJ_PATH, filtered)"
   ]
  },
  {
   "cell_type": "code",
   "execution_count": null,
   "id": "e74202c6-d02a-4dba-aadd-95b8cd3710c7",
   "metadata": {},
   "outputs": [],
   "source": []
  }
 ],
 "metadata": {
  "kernelspec": {
   "display_name": "Python 3 (ipykernel)",
   "language": "python",
   "name": "python3"
  },
  "language_info": {
   "codemirror_mode": {
    "name": "ipython",
    "version": 3
   },
   "file_extension": ".py",
   "mimetype": "text/x-python",
   "name": "python",
   "nbconvert_exporter": "python",
   "pygments_lexer": "ipython3",
   "version": "3.12.0"
  }
 },
 "nbformat": 4,
 "nbformat_minor": 5
}
