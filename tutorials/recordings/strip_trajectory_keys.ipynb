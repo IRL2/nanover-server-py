{
 "cells": [
  {
   "cell_type": "markdown",
   "id": "e735a2b5-6035-48b6-98bd-62edfcfc856c",
   "metadata": {},
   "source": [
    "## Setup"
   ]
  },
  {
   "cell_type": "code",
   "execution_count": 1,
   "id": "53f549fa-95cd-4152-9577-2d18233ba2f8",
   "metadata": {},
   "outputs": [],
   "source": [
    "from pathlib import Path\n",
    "from nanover.recording.reading import message_events_from_recording\n",
    "from nanover.recording.writing import record_messages"
   ]
  },
  {
   "cell_type": "code",
   "execution_count": 2,
   "id": "12049988-de41-4b7f-aca8-462cd9ff09f8",
   "metadata": {},
   "outputs": [],
   "source": [
    "def remove_keys_from_frame(frame, keys):\n",
    "    for key in keys:\n",
    "        frame.discard(key)\n",
    "    return frame"
   ]
  },
  {
   "cell_type": "markdown",
   "id": "23cb7f21-5df0-43fc-b884-1935a7cef9aa",
   "metadata": {},
   "source": [
    "## Config"
   ]
  },
  {
   "cell_type": "code",
   "execution_count": 4,
   "id": "a047c1f3-e4d3-4164-b283-f950220e60d5",
   "metadata": {},
   "outputs": [
    {
     "name": "stdout",
     "output_type": "stream",
     "text": [
      "STRIP: particle.forces, particle.velocities \n",
      "INPUT: nanotube-example-recording.traj \n",
      "OUTPUT: nanotube-example-recording-filtered.traj\n"
     ]
    }
   ],
   "source": [
    "from nanover.trajectory.frame_data import PARTICLE_FORCES, PARTICLE_VELOCITIES\n",
    "keys_to_strip = { PARTICLE_FORCES, PARTICLE_VELOCITIES }\n",
    "\n",
    "INPUT_PATH = Path(\"nanotube-example-recording.nanover.zip\")\n",
    "OUTPUT_PATH = Path(\"nanotube-example-recording--stripped.nanover.zip\")\n",
    "\n",
    "print(\"STRIP:\", \", \".join(keys_to_strip), \"\\nINPUT:\", INPUT_PATH, \"\\nOUTPUT:\", OUTPUT_PATH)"
   ]
  },
  {
   "cell_type": "markdown",
   "id": "204ae8d1-ae93-4961-ab66-a4dcb14544b5",
   "metadata": {},
   "source": [
    "## Run"
   ]
  },
  {
   "cell_type": "code",
   "execution_count": 5,
   "id": "767fca04-1859-4200-8f51-f9cdf89416cf",
   "metadata": {},
   "outputs": [],
   "source": [
    "# NBVAL_SKIP\n",
    "frames = message_events_from_recording(INPUT_PATH)\n",
    "filtered = ((timestamp, remove_keys_from_frame(frame, keys_to_strip)) for (timestamp, frame) in frames)\n",
    "record_messages(OUTPUT_PATH, filtered)"
   ]
  }
 ],
 "metadata": {
  "kernelspec": {
   "display_name": "Python 3 (ipykernel)",
   "language": "python",
   "name": "python3"
  },
  "language_info": {
   "codemirror_mode": {
    "name": "ipython",
    "version": 3
   },
   "file_extension": ".py",
   "mimetype": "text/x-python",
   "name": "python",
   "nbconvert_exporter": "python",
   "pygments_lexer": "ipython3",
   "version": "3.12.0"
  }
 },
 "nbformat": 4,
 "nbformat_minor": 5
}
