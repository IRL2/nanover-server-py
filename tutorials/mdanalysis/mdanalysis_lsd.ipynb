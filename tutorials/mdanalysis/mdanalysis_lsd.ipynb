{
 "cells": [
  {
   "cell_type": "markdown",
   "metadata": {},
   "source": [
    "# Visualizing Static Structures with MDAnalysis and NanoVer"
   ]
  },
  {
   "cell_type": "markdown",
   "metadata": {},
   "source": [
    "In this example, we will visualize LSD bound into 5-HT2B receptor with MDAnalysis (without dynamics). We'll explore setting up custom visualizations that will be synchronized between users in VR."
   ]
  },
  {
   "cell_type": "markdown",
   "metadata": {},
   "source": [
    "## Serving the structure as a NanoVer frame"
   ]
  },
  {
   "cell_type": "markdown",
   "metadata": {},
   "source": [
    "First, we're going to read in the system with MDAnalysis. MDAnalysis has to guess the bonds because there aren't any defined in the PDB file, so it'll take a while."
   ]
  },
  {
   "cell_type": "code",
   "metadata": {
    "ExecuteTime": {
     "end_time": "2025-10-16T10:46:30.694154Z",
     "start_time": "2025-10-16T10:46:30.261296Z"
    }
   },
   "source": [
    "import MDAnalysis as mda"
   ],
   "outputs": [],
   "execution_count": 1
  },
  {
   "cell_type": "code",
   "metadata": {
    "ExecuteTime": {
     "end_time": "2025-10-16T10:46:31.297800Z",
     "start_time": "2025-10-16T10:46:30.699067Z"
    }
   },
   "source": [
    "universe = mda.Universe(\n",
    "    'serotonine_receptor.pdb',\n",
    "    vdwradii={'Na': 0, 'Cl': 0},\n",
    "    to_guess=(\"bonds\",),\n",
    ")"
   ],
   "outputs": [],
   "execution_count": 2
  },
  {
   "cell_type": "markdown",
   "metadata": {},
   "source": "Next, we set up a NanoVer server and add the MDAnalysis universe as a static structure (single frame) \"simulation\":"
  },
  {
   "metadata": {},
   "cell_type": "code",
   "outputs": [],
   "execution_count": null,
   "source": [
    "from nanover.omni import OmniRunner\n",
    "from nanover.mdanalysis import UniverseSimulation"
   ]
  },
  {
   "metadata": {},
   "cell_type": "code",
   "outputs": [],
   "execution_count": null,
   "source": [
    "simulation = UniverseSimulation.from_universe(universe=universe)\n",
    "runner = OmniRunner.with_basic_server(simulation, port=0, name=\"my-server\")  # Let the OS choose a port for us\n",
    "runner.print_basic_info()"
   ]
  },
  {
   "cell_type": "markdown",
   "metadata": {},
   "source": [
    "Done! If you connect to the server from VR, you'll see something like this:\n",
    "\n",
    "<img src=\"images/lsd_ball_and_stick.png\" alt=\"LSD Ball and Stick\" style=\"width: 500px;\"/>g)\n"
   ]
  },
  {
   "cell_type": "markdown",
   "metadata": {},
   "source": [
    "# Let's make it look good"
   ]
  },
  {
   "cell_type": "markdown",
   "metadata": {},
   "source": [
    "The ball and stick representation is fine, but we can customize it right here from the notebook. First, we connect a client, which will ask the server to change how things look.\n",
    "\n",
    "**Note**: In future releases, the following will probably be simplified, and you'll be able to do it from within VR."
   ]
  },
  {
   "cell_type": "code",
   "metadata": {
    "ExecuteTime": {
     "end_time": "2025-10-16T10:46:31.389416Z",
     "start_time": "2025-10-16T10:46:31.387465Z"
    }
   },
   "source": "from nanover.websocket import NanoverImdClient",
   "outputs": [],
   "execution_count": 5
  },
  {
   "cell_type": "code",
   "metadata": {
    "ExecuteTime": {
     "end_time": "2025-10-16T10:46:33.494146Z",
     "start_time": "2025-10-16T10:46:31.396936Z"
    }
   },
   "source": "client = NanoverImdClient.from_runner(runner)",
   "outputs": [],
   "execution_count": 6
  },
  {
   "cell_type": "markdown",
   "metadata": {},
   "source": [
    "The first thing we'll do is hide the *root* layer, and slowly layer things back up.\n",
    "The `modify()` context allows us to make a bunch of changes, which will all be sent to everyone when we're done."
   ]
  },
  {
   "cell_type": "code",
   "metadata": {
    "ExecuteTime": {
     "end_time": "2025-10-16T10:46:33.548362Z",
     "start_time": "2025-10-16T10:46:33.545794Z"
    }
   },
   "source": [
    "root_selection = client.root_selection\n",
    "with root_selection.modify():\n",
    "    root_selection.hide = True"
   ],
   "outputs": [],
   "execution_count": 7
  },
  {
   "cell_type": "markdown",
   "metadata": {},
   "source": [
    "Now, let's set up some CPK colours for the main atoms"
   ]
  },
  {
   "cell_type": "code",
   "metadata": {
    "ExecuteTime": {
     "end_time": "2025-10-16T10:46:33.555949Z",
     "start_time": "2025-10-16T10:46:33.552330Z"
    }
   },
   "source": [
    "cpk_colours = {\n",
    "    'N': 'blue',\n",
    "    'P': '#dca523',\n",
    "    'C': '#c0c0c0',\n",
    "    'O': '#fc1c03',\n",
    "    'S': '#e9ce16'\n",
    "}"
   ],
   "outputs": [],
   "execution_count": 8
  },
  {
   "cell_type": "markdown",
   "metadata": {},
   "source": [
    "We define a utility method that converts from an MDAnalysis selection string to an array of integers that define a selection in NanoVer"
   ]
  },
  {
   "cell_type": "code",
   "metadata": {
    "ExecuteTime": {
     "end_time": "2025-10-16T10:46:33.562981Z",
     "start_time": "2025-10-16T10:46:33.559756Z"
    }
   },
   "source": [
    "def generate_mdanalysis_selection(selection: str, universe):\n",
    "    idx_array = universe.select_atoms(selection).indices\n",
    "    return map(int, idx_array)"
   ],
   "outputs": [],
   "execution_count": 9
  },
  {
   "cell_type": "markdown",
   "metadata": {},
   "source": [
    "Create a selection of anything that's a protein, and ignore hydrogens"
   ]
  },
  {
   "cell_type": "code",
   "metadata": {
    "ExecuteTime": {
     "end_time": "2025-10-16T10:46:33.573886Z",
     "start_time": "2025-10-16T10:46:33.566558Z"
    }
   },
   "source": [
    "protein = client.create_selection(\"Protein\", [])\n",
    "with protein.modify():\n",
    "    protein.set_particles(generate_mdanalysis_selection(\"protein and not type H\", universe))"
   ],
   "outputs": [],
   "execution_count": 10
  },
  {
   "cell_type": "markdown",
   "metadata": {},
   "source": [
    "Next, create a selection of the LSD (and other ligands)"
   ]
  },
  {
   "cell_type": "code",
   "metadata": {
    "ExecuteTime": {
     "end_time": "2025-10-16T10:46:33.581923Z",
     "start_time": "2025-10-16T10:46:33.578020Z"
    }
   },
   "source": [
    "# Select ligands\n",
    "ligands = client.create_selection(\"Ligands\", [])\n",
    "with ligands.modify():\n",
    "    ligands.set_particles(generate_mdanalysis_selection(\"not protein and not resname DPPC\", universe))"
   ],
   "outputs": [],
   "execution_count": 11
  },
  {
   "cell_type": "markdown",
   "metadata": {},
   "source": [
    "And we happen to know that DPPC refers to the lipids, so we grab that too"
   ]
  },
  {
   "cell_type": "code",
   "metadata": {
    "ExecuteTime": {
     "end_time": "2025-10-16T10:46:33.592335Z",
     "start_time": "2025-10-16T10:46:33.585902Z"
    }
   },
   "source": [
    "lipids = client.create_selection(\"Lipids\", [])\n",
    "with lipids.modify():\n",
    "    lipids.set_particles(generate_mdanalysis_selection(\"resname DPPC\", universe))"
   ],
   "outputs": [],
   "execution_count": 12
  },
  {
   "cell_type": "markdown",
   "metadata": {},
   "source": [
    "We define another useful function that generates colour gradients from matplotlib"
   ]
  },
  {
   "cell_type": "code",
   "metadata": {
    "ExecuteTime": {
     "end_time": "2025-10-16T10:46:33.729872Z",
     "start_time": "2025-10-16T10:46:33.596481Z"
    }
   },
   "source": [
    "import matplotlib.cm\n",
    "def get_matplotlib_gradient(name: str):\n",
    "    cmap = matplotlib.colormaps.get_cmap(name)\n",
    "    return list(list(cmap(x/7)) for x in range(0, 8, 1))"
   ],
   "outputs": [],
   "execution_count": 13
  },
  {
   "cell_type": "markdown",
   "metadata": {},
   "source": [
    "Now, we'll render the protein using our tetrahedral spline renderer, coloured with the lovely viridis colour scheme. \n",
    "We do this by editting the `renderer` settings, which is just a dictionary of settings."
   ]
  },
  {
   "cell_type": "code",
   "metadata": {
    "ExecuteTime": {
     "end_time": "2025-10-16T10:46:33.737470Z",
     "start_time": "2025-10-16T10:46:33.733571Z"
    }
   },
   "source": [
    "# Render the protein\n",
    "with protein.modify():\n",
    "    protein.renderer = {\n",
    "            'sequence': 'polypeptide',\n",
    "            'color': {\n",
    "                'type': 'residue index in entity',\n",
    "                'gradient': get_matplotlib_gradient('viridis')\n",
    "            },\n",
    "            'render': 'geometric spline'\n",
    "        }\n",
    "    protein.interaction_method = 'none'"
   ],
   "outputs": [],
   "execution_count": 14
  },
  {
   "cell_type": "markdown",
   "metadata": {},
   "source": [
    "Alternatively, you can colour by secondary structure:"
   ]
  },
  {
   "cell_type": "code",
   "metadata": {
    "ExecuteTime": {
     "end_time": "2025-10-16T10:46:33.744148Z",
     "start_time": "2025-10-16T10:46:33.740828Z"
    }
   },
   "source": [
    "with protein.modify():\n",
    "    protein.renderer = 'cartoon'\n",
    "    protein.interaction_method = 'none'"
   ],
   "outputs": [],
   "execution_count": 15
  },
  {
   "cell_type": "markdown",
   "metadata": {},
   "source": [
    "We'll add the ligands back in with CPK liquorice"
   ]
  },
  {
   "cell_type": "code",
   "metadata": {
    "ExecuteTime": {
     "end_time": "2025-10-16T10:46:33.750724Z",
     "start_time": "2025-10-16T10:46:33.747525Z"
    }
   },
   "source": [
    "with ligands.modify():\n",
    "    ligands.renderer = {\n",
    "            'color': {\n",
    "                'type': 'cpk',\n",
    "                'scheme': cpk_colours,\n",
    "            },\n",
    "            'scale': 0.1,\n",
    "            'render': 'liquorice'\n",
    "        }\n",
    "    ligands.interaction_method = 'none'"
   ],
   "outputs": [],
   "execution_count": 16
  },
  {
   "cell_type": "markdown",
   "metadata": {},
   "source": [
    "And the lipids with a scaled down liquorice"
   ]
  },
  {
   "cell_type": "code",
   "metadata": {
    "ExecuteTime": {
     "end_time": "2025-10-16T10:46:33.760887Z",
     "start_time": "2025-10-16T10:46:33.753718Z"
    }
   },
   "source": [
    "with lipids.modify():\n",
    "    lipids.renderer = {\n",
    "            'color': {\n",
    "                'type': 'cpk',\n",
    "                'scheme': cpk_colours,\n",
    "            },\n",
    "            'scale': 0.01,\n",
    "            'render': 'liquorice'\n",
    "        }\n",
    "    lipids.interaction_method = 'none'"
   ],
   "outputs": [],
   "execution_count": 17
  },
  {
   "cell_type": "markdown",
   "metadata": {},
   "source": [
    "You may find the lipids are a bit much - you can easily hide them. Just uncomment and run these lines:"
   ]
  },
  {
   "cell_type": "code",
   "metadata": {
    "ExecuteTime": {
     "end_time": "2025-10-16T10:46:33.766527Z",
     "start_time": "2025-10-16T10:46:33.764901Z"
    }
   },
   "source": [
    "# with lipids.modify():\n",
    "#     lipids.hide = True"
   ],
   "outputs": [],
   "execution_count": 18
  },
  {
   "cell_type": "markdown",
   "metadata": {},
   "source": [
    "## Visualization based on distance"
   ]
  },
  {
   "cell_type": "markdown",
   "metadata": {},
   "source": [
    "Finally, we'll render the sidechains near ligand"
   ]
  },
  {
   "cell_type": "code",
   "metadata": {
    "ExecuteTime": {
     "end_time": "2025-10-16T10:46:33.773697Z",
     "start_time": "2025-10-16T10:46:33.769654Z"
    }
   },
   "source": [
    "nearby = client.create_selection(\"Nearby\", [])"
   ],
   "outputs": [],
   "execution_count": 19
  },
  {
   "cell_type": "code",
   "metadata": {
    "ExecuteTime": {
     "end_time": "2025-10-16T10:46:33.789724Z",
     "start_time": "2025-10-16T10:46:33.777436Z"
    }
   },
   "source": [
    "with nearby.modify():\n",
    "    nearby.set_particles(generate_mdanalysis_selection(\"(protein and (not backbone or name CA)) and same resid as around 4 resname 7LD\", universe))"
   ],
   "outputs": [],
   "execution_count": 20
  },
  {
   "cell_type": "code",
   "metadata": {
    "ExecuteTime": {
     "end_time": "2025-10-16T10:46:33.798019Z",
     "start_time": "2025-10-16T10:46:33.795210Z"
    }
   },
   "source": [
    "with nearby.modify():\n",
    "    nearby.renderer = {\n",
    "            'color': {\n",
    "                'type': 'residue index in entity',\n",
    "                'gradient': get_matplotlib_gradient('viridis')\n",
    "            },\n",
    "            'scale': 0.05,\n",
    "            'render': 'cycles'\n",
    "        }\n",
    "    nearby.interaction_method = 'none'"
   ],
   "outputs": [],
   "execution_count": 21
  },
  {
   "cell_type": "code",
   "metadata": {
    "ExecuteTime": {
     "end_time": "2025-10-16T10:46:33.804579Z",
     "start_time": "2025-10-16T10:46:33.801242Z"
    }
   },
   "source": [
    "with nearby.modify():\n",
    "    nearby.renderer = {\n",
    "            'color': {\n",
    "                'type': 'cpk',\n",
    "                'scheme': cpk_colours,\n",
    "            },\n",
    "            'scale': 0.05,\n",
    "            'render': 'liquorice'\n",
    "        }\n",
    "    nearby.interaction_method = 'none'"
   ],
   "outputs": [],
   "execution_count": 22
  },
  {
   "cell_type": "markdown",
   "metadata": {},
   "source": [
    "Depending on which cells you ran, you'll have something that looks like this, much better! (maybe without the lipids)\n",
    "\n",
    "<img src=\"images/lsd_nanover.png\" style=\"width: 400px;  display: inline-block; vertical-align: top;\">\n",
    "<img src=\"images/lsd_nanover_option_2.png\" style=\"width: 305px;  display: inline-block; vertical-align: top;\">"
   ]
  },
  {
   "cell_type": "markdown",
   "metadata": {},
   "source": [
    "# Tidying Up"
   ]
  },
  {
   "cell_type": "code",
   "metadata": {
    "ExecuteTime": {
     "end_time": "2025-10-16T10:46:33.814381Z",
     "start_time": "2025-10-16T10:46:33.811074Z"
    }
   },
   "source": [
    "client.clear_selections()"
   ],
   "outputs": [],
   "execution_count": 23
  },
  {
   "cell_type": "code",
   "metadata": {
    "ExecuteTime": {
     "end_time": "2025-10-16T10:46:33.822086Z",
     "start_time": "2025-10-16T10:46:33.817642Z"
    }
   },
   "source": [
    "client.close()"
   ],
   "outputs": [],
   "execution_count": 24
  },
  {
   "cell_type": "code",
   "metadata": {
    "ExecuteTime": {
     "end_time": "2025-10-16T10:46:33.847190Z",
     "start_time": "2025-10-16T10:46:33.825532Z"
    }
   },
   "source": "runner.close()",
   "outputs": [],
   "execution_count": 25
  },
  {
   "cell_type": "markdown",
   "metadata": {},
   "source": [
    "# Next Steps\n",
    "\n",
    "* Build your own [VR trajectory viewer](./mdanalysis_trajectory.ipynb) with MDAnalysis and NanoVer\n",
    "* Dig into how [frames](../fundamentals/frame.ipynb) are constructed under the hood"
   ]
  }
 ],
 "metadata": {
  "kernelspec": {
   "display_name": "Python 3 (ipykernel)",
   "language": "python",
   "name": "python3"
  },
  "language_info": {
   "codemirror_mode": {
    "name": "ipython",
    "version": 3
   },
   "file_extension": ".py",
   "mimetype": "text/x-python",
   "name": "python",
   "nbconvert_exporter": "python",
   "pygments_lexer": "ipython3",
   "version": "3.12.0"
  },
  "pycharm": {
   "stem_cell": {
    "cell_type": "raw",
    "metadata": {
     "collapsed": false
    },
    "source": []
   }
  }
 },
 "nbformat": 4,
 "nbformat_minor": 4
}
