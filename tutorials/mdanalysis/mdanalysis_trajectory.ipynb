{
 "cells": [
  {
   "cell_type": "markdown",
   "metadata": {
    "collapsed": true,
    "jupyter": {
     "outputs_hidden": true
    },
    "pycharm": {
     "is_executing": false
    }
   },
   "source": [
    "## Creating a VR Trajectory Viewer with NanoVer and MDAnalysis\n"
   ]
  },
  {
   "cell_type": "markdown",
   "metadata": {},
   "source": [
    "In this notebook, we set up our own VR trajectory viewer from scratch using [MDAnalysis](https://www.mdanalysis.org/) and [NanoVer](https://irl2.github.io/nanover-docs/index.html), adding playback controls that can be controlled from VR using [NanoVer iMD-VR](https://irl2.github.io/nanover-docs/installation.html#installing-the-imd-vr-client)."
   ]
  },
  {
   "cell_type": "markdown",
   "metadata": {},
   "source": [
    "## Reading in the trajectory "
   ]
  },
  {
   "cell_type": "markdown",
   "metadata": {},
   "source": [
    "We've got a small trajectory of oseltamivir unbinding from neuraminidase, produced with iMD-VR. "
   ]
  },
  {
   "cell_type": "code",
   "metadata": {
    "ExecuteTime": {
     "end_time": "2025-09-19T10:00:16.431921Z",
     "start_time": "2025-09-19T10:00:15.585506Z"
    }
   },
   "source": [
    "import MDAnalysis as mda"
   ],
   "outputs": [],
   "execution_count": 1
  },
  {
   "cell_type": "code",
   "metadata": {
    "ExecuteTime": {
     "end_time": "2025-09-19T10:00:16.443036Z",
     "start_time": "2025-09-19T10:00:16.440016Z"
    }
   },
   "source": [
    "topology_file = 'files/3TI6_ose_wt.pdb'\n",
    "trajectory_file = 'files/ose_wt.dcd'"
   ],
   "outputs": [],
   "execution_count": 2
  },
  {
   "cell_type": "code",
   "metadata": {
    "ExecuteTime": {
     "end_time": "2025-09-19T10:00:16.902449Z",
     "start_time": "2025-09-19T10:00:16.448566Z"
    }
   },
   "source": "universe = mda.Universe(topology_file, trajectory_file, trajectory=True, to_guess=(\"bonds\",))",
   "outputs": [
    {
     "name": "stderr",
     "output_type": "stream",
     "text": [
      "C:\\Users\\ragzo\\anaconda3\\envs\\nanover-dev\\Lib\\site-packages\\MDAnalysis\\coordinates\\DCD.py:165: DeprecationWarning: DCDReader currently makes independent timesteps by copying self.ts while other readers update self.ts inplace. This behavior will be changed in 3.0 to be the same as other readers. Read more at https://github.com/MDAnalysis/mdanalysis/issues/3889 to learn if this change in behavior might affect you.\n",
      "  warnings.warn(\"DCDReader currently makes independent timesteps\"\n"
     ]
    }
   ],
   "execution_count": 3
  },
  {
   "cell_type": "code",
   "metadata": {
    "ExecuteTime": {
     "end_time": "2025-09-19T10:00:17.224506Z",
     "start_time": "2025-09-19T10:00:17.220105Z"
    }
   },
   "source": [
    "n_frames = universe.trajectory.n_frames\n",
    "n_frames"
   ],
   "outputs": [
    {
     "data": {
      "text/plain": [
       "24"
      ]
     },
     "execution_count": 4,
     "metadata": {},
     "output_type": "execute_result"
    }
   ],
   "execution_count": 4
  },
  {
   "cell_type": "markdown",
   "metadata": {},
   "source": [
    "## Setting up the Trajectory Server"
   ]
  },
  {
   "cell_type": "markdown",
   "metadata": {},
   "source": [
    "Now we've got the trajectory, let's serve it with NanoVer. We'll create the server, and then send frames one at a time"
   ]
  },
  {
   "cell_type": "code",
   "metadata": {
    "ExecuteTime": {
     "end_time": "2025-09-19T10:00:17.367653Z",
     "start_time": "2025-09-19T10:00:17.232730Z"
    }
   },
   "source": [
    "from nanover.app import NanoverImdApplication\n",
    "from nanover.mdanalysis import mdanalysis_to_frame_data"
   ],
   "outputs": [],
   "execution_count": 5
  },
  {
   "cell_type": "code",
   "metadata": {
    "ExecuteTime": {
     "end_time": "2025-09-19T10:00:17.457598Z",
     "start_time": "2025-09-19T10:00:17.376175Z"
    }
   },
   "source": "app_server = NanoverImdApplication.basic_server()",
   "outputs": [],
   "execution_count": 6
  },
  {
   "cell_type": "markdown",
   "metadata": {},
   "source": [
    "We just need to send the topology once, then the positions after that, so we define a couple of methods \n",
    "to help"
   ]
  },
  {
   "cell_type": "code",
   "metadata": {
    "ExecuteTime": {
     "end_time": "2025-09-19T10:00:17.468650Z",
     "start_time": "2025-09-19T10:00:17.465191Z"
    }
   },
   "source": [
    "def send_topology_frame():\n",
    "    # Convert the mdanalysis topology to a NanoVer frame\n",
    "    frame = mdanalysis_to_frame_data(universe, topology=True, positions=False)\n",
    "    app_server.frame_publisher.send_clear()\n",
    "    app_server.frame_publisher.send_frame(frame)"
   ],
   "outputs": [],
   "execution_count": 7
  },
  {
   "cell_type": "code",
   "metadata": {
    "ExecuteTime": {
     "end_time": "2025-09-19T10:00:17.482239Z",
     "start_time": "2025-09-19T10:00:17.479346Z"
    }
   },
   "source": [
    "def send_frame(index):\n",
    "    # Send the particle positions of the given trajectory index. \n",
    "    assert 0 <= index < universe.trajectory.n_frames, f'Frame index not in range [{0},{universe.trajectory.n_frames-1}]'\n",
    "    time_step = universe.trajectory[index]\n",
    "    frame = mdanalysis_to_frame_data(universe, topology=False, positions=True)\n",
    "    app_server.frame_publisher.send_frame(frame)"
   ],
   "outputs": [],
   "execution_count": 8
  },
  {
   "cell_type": "code",
   "metadata": {
    "ExecuteTime": {
     "end_time": "2025-09-19T10:00:17.521177Z",
     "start_time": "2025-09-19T10:00:17.491670Z"
    }
   },
   "source": [
    "send_topology_frame()"
   ],
   "outputs": [],
   "execution_count": 9
  },
  {
   "cell_type": "code",
   "metadata": {
    "ExecuteTime": {
     "end_time": "2025-09-19T10:00:17.535015Z",
     "start_time": "2025-09-19T10:00:17.528703Z"
    }
   },
   "source": [
    "send_frame(5)"
   ],
   "outputs": [],
   "execution_count": 10
  },
  {
   "cell_type": "markdown",
   "metadata": {},
   "source": [
    "If you send frames one at a time like this, you should see something like this in VR: \n",
    "\n",
    "![Manual Trajectory](./images/nanover_neuraminidase_trajectory_manual.gif)"
   ]
  },
  {
   "cell_type": "markdown",
   "metadata": {},
   "source": [
    "## Make it loop on it's own"
   ]
  },
  {
   "cell_type": "markdown",
   "metadata": {},
   "source": [
    "This is cool, but it's a bit annoying having to send frames manually, let's instead make it play by itself. "
   ]
  },
  {
   "cell_type": "code",
   "metadata": {
    "ExecuteTime": {
     "end_time": "2025-09-19T10:00:17.544489Z",
     "start_time": "2025-09-19T10:00:17.541477Z"
    }
   },
   "source": [
    "playback_fps = 15 # Frames per second"
   ],
   "outputs": [],
   "execution_count": 11
  },
  {
   "cell_type": "code",
   "metadata": {
    "ExecuteTime": {
     "end_time": "2025-09-19T10:00:17.555717Z",
     "start_time": "2025-09-19T10:00:17.553526Z"
    }
   },
   "source": [
    "playback_seconds = 10 # How long to play for, in seconds"
   ],
   "outputs": [],
   "execution_count": 12
  },
  {
   "cell_type": "code",
   "metadata": {
    "ExecuteTime": {
     "end_time": "2025-09-19T10:00:17.565038Z",
     "start_time": "2025-09-19T10:00:17.562620Z"
    }
   },
   "source": [
    "from datetime import datetime, timedelta\n",
    "import time"
   ],
   "outputs": [],
   "execution_count": 13
  },
  {
   "cell_type": "markdown",
   "metadata": {},
   "source": [
    "The following cell sends `playback_fps`  frames a second for `playback_seconds`"
   ]
  },
  {
   "cell_type": "code",
   "metadata": {
    "ExecuteTime": {
     "end_time": "2025-09-19T10:00:27.631685Z",
     "start_time": "2025-09-19T10:00:17.574557Z"
    }
   },
   "source": [
    "start_time = datetime.now()\n",
    "index = 0\n",
    "playback_time = timedelta(seconds=playback_seconds) # Represents time difference in seconds\n",
    "while datetime.now() - start_time < playback_time:\n",
    "    send_frame(index)\n",
    "    index = (index + 1) % universe.trajectory.n_frames\n",
    "    time.sleep( 1 / playback_fps) # Delay sending frames so we hit the desired FPS"
   ],
   "outputs": [],
   "execution_count": 14
  },
  {
   "cell_type": "markdown",
   "metadata": {},
   "source": [
    "This results in pretty smooth looping playback:\n",
    "\n",
    "![NanoVer looping trajectory](./images/nanover_neuraminidase_trajectory_loop.gif)"
   ]
  },
  {
   "cell_type": "markdown",
   "metadata": {},
   "source": [
    "## Making it even better"
   ]
  },
  {
   "cell_type": "markdown",
   "metadata": {},
   "source": [
    "We've now got something that can 'play' trajectories, but it would be good if we could leave it running, infinitely looping, \n",
    "and not block execution of other cells. It would also be nice to be able to pause, reset and step forward the trajectory. \n",
    "\n",
    "The following cell creates a small class for doing this. Given our `universe` and `frame_server` that we defined above, it sets up some logic for running playback on a background thread.\n",
    "\n",
    "**Note**: Creating classes and running background threads is quite complicated for a Jupyter Notebook, and is only intended as a learning example! If you decide to customize this further, it would be a good idea to move these ideas to their own python modules."
   ]
  },
  {
   "cell_type": "code",
   "metadata": {
    "ExecuteTime": {
     "end_time": "2025-09-19T10:00:27.646679Z",
     "start_time": "2025-09-19T10:00:27.638787Z"
    }
   },
   "source": [
    "from threading import RLock\n",
    "from concurrent import futures\n",
    "\n",
    "class TrajectoryPlayback:\n",
    "    \n",
    "    def __init__(self):        \n",
    "        \"\"\"\n",
    "        Initialise playback, setting things up.\n",
    "        \"\"\"\n",
    "        # Get a pool of threads (just one) that we can run the play back on\n",
    "        self.threads = futures.ThreadPoolExecutor(max_workers=1)\n",
    "        self._run_task = None\n",
    "        self._cancelled = False\n",
    "        self._cancel_lock = RLock()\n",
    "        self.frame_index = 0\n",
    "    \n",
    "    @property \n",
    "    def is_running(self):\n",
    "        # Fancy logic that just checks whether or not we're playing the trajectory in the background\n",
    "        return self._run_task is not None and not (self._run_task.cancelled() or self._run_task.done())\n",
    "\n",
    "    def play(self):\n",
    "        \"\"\"\n",
    "        Plays the trajectory in the background.\n",
    "        \"\"\"\n",
    "        # First, we have to cancel any existing playback, and start a new one.\n",
    "        with self._cancel_lock:\n",
    "            self.cancel_playback(wait=True)\n",
    "        self.run_playback()\n",
    "        \n",
    "    def step(self):\n",
    "        \"\"\"\n",
    "        Take a single step of the trajectory and stop. \n",
    "        \"\"\"\n",
    "        # The lock here ensures only one person can cancel at a time. \n",
    "        with self._cancel_lock:\n",
    "            self.cancel_playback(wait=True)\n",
    "            self._step_one_frame()\n",
    "\n",
    "    def pause(self):\n",
    "        \"\"\"\n",
    "        Pause the playback, by cancelling any current playback.\n",
    "        \"\"\"\n",
    "        with self._cancel_lock:\n",
    "            self.cancel_playback(wait=True)\n",
    "\n",
    "    def run_playback(self, block=False):\n",
    "        \"\"\"\n",
    "        Runs the trajectory playback. If block is False, it will run on a background thread.\n",
    "        \"\"\"\n",
    "        if self.is_running:\n",
    "            raise RuntimeError(\"The trajectory is already playing on a thread!\")\n",
    "        if block:\n",
    "            self._run()\n",
    "        else:\n",
    "            self._run_task = self.threads.submit(self._run)\n",
    "    \n",
    "    def _run(self):\n",
    "        while not self._cancelled:\n",
    "            self._step_one_frame()\n",
    "            time.sleep( 1 / playback_fps) # Delay sending frames so we hit the desired FPS\n",
    "        self._cancelled = False\n",
    "        \n",
    "    def _step_one_frame(self):\n",
    "        send_frame(self.frame_index)\n",
    "        self.frame_index = (self.frame_index + 1) % universe.trajectory.n_frames\n",
    "\n",
    "    def cancel_playback(self, wait=False):\n",
    "        \"\"\"\n",
    "        Cancel trajectory playback, if it's running. If wait is True, this method will wait until the playback stops \n",
    "        before returning.\n",
    "        \"\"\"\n",
    "        if self._run_task is None:\n",
    "            return\n",
    "\n",
    "        if self._cancelled:\n",
    "            return\n",
    "        self._cancelled = True\n",
    "        if wait:\n",
    "            self._run_task.result()\n",
    "            self._cancelled = False\n",
    "\n",
    "    def reset(self):\n",
    "        self.frame_index = 0\n"
   ],
   "outputs": [],
   "execution_count": 15
  },
  {
   "cell_type": "markdown",
   "metadata": {},
   "source": [
    "We've defined our class, now we have to instantiate it: "
   ]
  },
  {
   "cell_type": "code",
   "metadata": {
    "ExecuteTime": {
     "end_time": "2025-09-19T10:00:27.668191Z",
     "start_time": "2025-09-19T10:00:27.665191Z"
    }
   },
   "source": [
    "trajectory_player = TrajectoryPlayback()"
   ],
   "outputs": [],
   "execution_count": 16
  },
  {
   "cell_type": "markdown",
   "metadata": {},
   "source": [
    "Try running these cells and see what happens in VR"
   ]
  },
  {
   "cell_type": "code",
   "metadata": {
    "ExecuteTime": {
     "end_time": "2025-09-19T10:00:27.690838Z",
     "start_time": "2025-09-19T10:00:27.680838Z"
    }
   },
   "source": [
    "trajectory_player.play()"
   ],
   "outputs": [],
   "execution_count": 17
  },
  {
   "cell_type": "code",
   "metadata": {
    "ExecuteTime": {
     "end_time": "2025-09-19T10:00:27.757021Z",
     "start_time": "2025-09-19T10:00:27.704651Z"
    }
   },
   "source": [
    "trajectory_player.cancel_playback(wait=True)"
   ],
   "outputs": [],
   "execution_count": 18
  },
  {
   "cell_type": "code",
   "metadata": {
    "ExecuteTime": {
     "end_time": "2025-09-19T10:00:27.777386Z",
     "start_time": "2025-09-19T10:00:27.770371Z"
    }
   },
   "source": [
    "trajectory_player.play()"
   ],
   "outputs": [],
   "execution_count": 19
  },
  {
   "cell_type": "code",
   "metadata": {
    "ExecuteTime": {
     "end_time": "2025-09-19T10:00:27.846245Z",
     "start_time": "2025-09-19T10:00:27.793902Z"
    }
   },
   "source": [
    "trajectory_player.pause()"
   ],
   "outputs": [],
   "execution_count": 20
  },
  {
   "cell_type": "code",
   "metadata": {
    "ExecuteTime": {
     "end_time": "2025-09-19T10:00:27.860573Z",
     "start_time": "2025-09-19T10:00:27.855530Z"
    }
   },
   "source": [
    "trajectory_player.play()"
   ],
   "outputs": [],
   "execution_count": 21
  },
  {
   "cell_type": "code",
   "metadata": {
    "ExecuteTime": {
     "end_time": "2025-09-19T10:00:27.875610Z",
     "start_time": "2025-09-19T10:00:27.872724Z"
    }
   },
   "source": [
    "trajectory_player.reset()"
   ],
   "outputs": [],
   "execution_count": 22
  },
  {
   "cell_type": "code",
   "metadata": {
    "ExecuteTime": {
     "end_time": "2025-09-19T10:00:27.933316Z",
     "start_time": "2025-09-19T10:00:27.888795Z"
    }
   },
   "source": [
    "trajectory_player.step()"
   ],
   "outputs": [],
   "execution_count": 23
  },
  {
   "cell_type": "code",
   "metadata": {
    "ExecuteTime": {
     "end_time": "2025-09-19T10:00:27.947400Z",
     "start_time": "2025-09-19T10:00:27.940395Z"
    }
   },
   "source": [
    "trajectory_player.step()"
   ],
   "outputs": [],
   "execution_count": 24
  },
  {
   "cell_type": "markdown",
   "metadata": {},
   "source": [
    "## Control it from VR "
   ]
  },
  {
   "cell_type": "markdown",
   "metadata": {},
   "source": [
    "This is nearly there! Now let's just wire up some commands, so the VR buttons for pause, play and step will control our server. Since these are standard commands used by other applications, we store their names: "
   ]
  },
  {
   "cell_type": "code",
   "metadata": {
    "ExecuteTime": {
     "end_time": "2025-09-19T10:00:27.960760Z",
     "start_time": "2025-09-19T10:00:27.957763Z"
    }
   },
   "source": "from nanover.trajectory import keys",
   "outputs": [],
   "execution_count": 25
  },
  {
   "cell_type": "code",
   "metadata": {
    "ExecuteTime": {
     "end_time": "2025-09-19T10:00:27.979235Z",
     "start_time": "2025-09-19T10:00:27.975111Z"
    }
   },
   "source": "print(keys.PLAY_COMMAND, keys.RESET_COMMAND, keys.STEP_COMMAND, keys.PAUSE_COMMAND)",
   "outputs": [
    {
     "name": "stdout",
     "output_type": "stream",
     "text": [
      "playback/play playback/reset playback/step playback/pause\n"
     ]
    }
   ],
   "execution_count": 26
  },
  {
   "cell_type": "markdown",
   "metadata": {},
   "source": [
    "Now we tell the server that we want our `play`, `pause`, `step` and `reset` methods to be called whenever those commands are run by a client."
   ]
  },
  {
   "cell_type": "code",
   "metadata": {
    "ExecuteTime": {
     "end_time": "2025-09-19T10:00:28.003367Z",
     "start_time": "2025-09-19T10:00:27.999498Z"
    }
   },
   "source": [
    "app_server.register_command(keys.PLAY_COMMAND, trajectory_player.play)\n",
    "app_server.register_command(keys.PAUSE_COMMAND, trajectory_player.pause)\n",
    "app_server.register_command(keys.RESET_COMMAND, trajectory_player.reset)\n",
    "app_server.register_command(keys.STEP_COMMAND, trajectory_player.step)"
   ],
   "outputs": [],
   "execution_count": 27
  },
  {
   "cell_type": "markdown",
   "metadata": {},
   "source": [
    "Now it can be controlled from VR in the NanoVer iMD-VR app!"
   ]
  },
  {
   "cell_type": "markdown",
   "metadata": {},
   "source": [
    "## Making it Pretty "
   ]
  },
  {
   "cell_type": "markdown",
   "metadata": {},
   "source": [
    "Let's change how it looks. We've covered this in more detail in the [neuraminidase iMD](../ase/openmm_neuraminidase.ipynb) and [graphene](../ase/openmm_graphene.ipynb) examples.\n",
    "\n",
    "**Note**: A lot of this will probably be made simpler in upcoming releases"
   ]
  },
  {
   "cell_type": "code",
   "metadata": {
    "ExecuteTime": {
     "end_time": "2025-09-19T10:00:30.050390Z",
     "start_time": "2025-09-19T10:00:28.015254Z"
    }
   },
   "source": [
    "from nanover.websocket import NanoverImdClient\n",
    "client = NanoverImdClient.from_app_server(app_server)\n",
    "client.wait_until_first_frame();"
   ],
   "outputs": [],
   "execution_count": 28
  },
  {
   "cell_type": "code",
   "metadata": {
    "ExecuteTime": {
     "end_time": "2025-09-19T10:00:30.224750Z",
     "start_time": "2025-09-19T10:00:30.057928Z"
    }
   },
   "source": [
    "import matplotlib.cm\n",
    "\n",
    "def get_matplotlib_gradient(name: str):\n",
    "    cmap = matplotlib.colormaps[name]\n",
    "    return list(list(cmap(x/7)) for x in range(0, 8, 1))"
   ],
   "outputs": [],
   "execution_count": 29
  },
  {
   "cell_type": "markdown",
   "metadata": {},
   "source": [
    "Check out the MDAnalysis documentation for [information about creating selections](https://userguide.mdanalysis.org/stable/selections.html)"
   ]
  },
  {
   "cell_type": "code",
   "metadata": {
    "ExecuteTime": {
     "end_time": "2025-09-19T10:00:30.236765Z",
     "start_time": "2025-09-19T10:00:30.233761Z"
    }
   },
   "source": [
    "from nanover.mdanalysis import frame_data_to_mdanalysis\n",
    "def generate_mdanalysis_selection(selection: str):\n",
    "    universe = frame_data_to_mdanalysis(client.current_frame)\n",
    "    idx_array = universe.select_atoms(selection).indices\n",
    "    return map(int, idx_array)"
   ],
   "outputs": [],
   "execution_count": 30
  },
  {
   "cell_type": "code",
   "metadata": {
    "ExecuteTime": {
     "end_time": "2025-09-19T10:00:30.249906Z",
     "start_time": "2025-09-19T10:00:30.246441Z"
    }
   },
   "source": [
    "# Hide default rendering\n",
    "root_selection = client.root_selection\n",
    "with root_selection.modify():\n",
    "    root_selection.hide = True\n",
    "    root_selection.interaction_method = 'none'"
   ],
   "outputs": [],
   "execution_count": 31
  },
  {
   "cell_type": "code",
   "metadata": {
    "ExecuteTime": {
     "end_time": "2025-09-19T10:00:30.277154Z",
     "start_time": "2025-09-19T10:00:30.259065Z"
    }
   },
   "source": [
    "# Create selection for the protein\n",
    "protein = client.create_selection(\"Protein\", [])\n",
    "with protein.modify():\n",
    "    protein.set_particles(generate_mdanalysis_selection(\"protein and not type H\"))"
   ],
   "outputs": [],
   "execution_count": 32
  },
  {
   "cell_type": "code",
   "metadata": {
    "ExecuteTime": {
     "end_time": "2025-09-19T10:00:30.288346Z",
     "start_time": "2025-09-19T10:00:30.284237Z"
    }
   },
   "source": [
    "# Set the rendering of this selection\n",
    "with protein.modify():\n",
    "    protein.renderer = {\n",
    "            'sequence': 'polypeptide',\n",
    "            'color': {\n",
    "                'type': 'residue index in entity',\n",
    "                'gradient': get_matplotlib_gradient('viridis')\n",
    "            },\n",
    "            'render': 'geometric spline',\n",
    "            'scale': 0.2\n",
    "        }"
   ],
   "outputs": [],
   "execution_count": 33
  },
  {
   "cell_type": "code",
   "metadata": {
    "ExecuteTime": {
     "end_time": "2025-09-19T10:00:30.312491Z",
     "start_time": "2025-09-19T10:00:30.296351Z"
    }
   },
   "source": [
    "# Create selection for the ligand\n",
    "ligand = client.create_selection(\"Ligand\", [])\n",
    "with ligand.modify():\n",
    "    ligand.set_particles(generate_mdanalysis_selection(\"resname OSE\"))"
   ],
   "outputs": [],
   "execution_count": 34
  },
  {
   "cell_type": "code",
   "metadata": {
    "ExecuteTime": {
     "end_time": "2025-09-19T10:02:46.178086Z",
     "start_time": "2025-09-19T10:02:46.174623Z"
    }
   },
   "source": [
    "# Set the rendering of this selection\n",
    "with ligand.modify():\n",
    "    ligand.renderer = {\n",
    "            'scale': 0.1,\n",
    "            'render': 'liquorice',\n",
    "            'color': 'cpk',\n",
    "        }"
   ],
   "outputs": [],
   "execution_count": 35
  },
  {
   "cell_type": "markdown",
   "metadata": {},
   "source": [
    "## Tidying Up"
   ]
  },
  {
   "cell_type": "code",
   "metadata": {
    "ExecuteTime": {
     "end_time": "2025-09-12T15:57:49.787629Z",
     "start_time": "2025-09-12T15:57:49.646939Z"
    }
   },
   "source": [
    "trajectory_player.cancel_playback()\n",
    "client.close()\n",
    "app_server.close()"
   ],
   "outputs": [],
   "execution_count": 36
  },
  {
   "cell_type": "markdown",
   "metadata": {},
   "source": [
    "# Next Steps"
   ]
  },
  {
   "cell_type": "markdown",
   "metadata": {},
   "source": [
    "* Understand how [frames](../fundamentals/frame.ipynb) are constructed. \n",
    "* See a detailed example of setting up custom [commands](../fundamentals/commands_and_state.ipynb)."
   ]
  }
 ],
 "metadata": {
  "kernelspec": {
   "display_name": "Python 3 (ipykernel)",
   "language": "python",
   "name": "python3"
  },
  "language_info": {
   "codemirror_mode": {
    "name": "ipython",
    "version": 3
   },
   "file_extension": ".py",
   "mimetype": "text/x-python",
   "name": "python",
   "nbconvert_exporter": "python",
   "pygments_lexer": "ipython3",
   "version": "3.12.0"
  }
 },
 "nbformat": 4,
 "nbformat_minor": 4
}
