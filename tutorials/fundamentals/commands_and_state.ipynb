{
 "cells": [
  {
   "cell_type": "markdown",
   "metadata": {},
   "source": [
    "# Commands and State Synchronization in NanoVer"
   ]
  },
  {
   "cell_type": "markdown",
   "metadata": {},
   "source": [
    "This notebook explores the concepts of commands and state synchronization in NanoVer. These concepts are critical for the function of a multi-user application: \n",
    "* **_Commands_** enable clients connecting to the server to run functions on the server\n",
    "* Synchronisation of the system's **_shared state_** relays any changes made to the server to all connected clients\n",
    "\n",
    "The implementations of these concepts in NanoVer provide the foundations for interactive multi-user applications (e.g. iMD-VR). \n",
    "\n",
    "\n",
    "In this tutorial, you'll learn:\n",
    "* What a **_command_** is\n",
    "* How to set up custom commands on a NanoVer server\n",
    "* What the **_shared state_** is\n",
    "* How to set shared variables and objects between clients via a NanoVer server"
   ]
  },
  {
   "cell_type": "markdown",
   "metadata": {},
   "source": "## **Commands**"
  },
  {
   "cell_type": "markdown",
   "metadata": {},
   "source": [
    "### What is a command?"
   ]
  },
  {
   "cell_type": "markdown",
   "metadata": {},
   "source": [
    "In NanoVer, a **_command_** is a function on the server that can be run by a client. These can be used to customize a server,\n",
    "or create entirely new applications. They are used in lots of places. For example, telling the simulation to pause, play, reset and step uses them! "
   ]
  },
  {
   "cell_type": "markdown",
   "metadata": {},
   "source": [
    "Let's create a NanoVer server. All servers and applications that derive from a `NanoverServer` have the ability to run commands.\n",
    "\n",
    "**NOTE**: One such server is the `OmniRunner`, which we use to perform iMD simulations in NanoVer. For the sake of generality, we will use this simple `NanoverServer` base class to demonstrate how to construct commands, but everything below illustrates how commands work internally within the `OmniRunner`!"
   ]
  },
  {
   "cell_type": "code",
   "metadata": {
    "ExecuteTime": {
     "end_time": "2024-10-24T14:22:53.551425Z",
     "start_time": "2024-10-24T14:22:53.514885Z"
    }
   },
   "source": [
    "from nanover.core import NanoverServer\n",
    "server = NanoverServer(address='localhost', port=0)"
   ],
   "outputs": [],
   "execution_count": 1
  },
  {
   "cell_type": "markdown",
   "metadata": {},
   "source": [
    "### A Basic Command"
   ]
  },
  {
   "cell_type": "markdown",
   "metadata": {},
   "source": [
    "Let's set up a very simple command by defining the function that the command will execute: it just prints 'Hello World!'"
   ]
  },
  {
   "cell_type": "code",
   "metadata": {
    "ExecuteTime": {
     "end_time": "2024-10-24T14:22:53.554999Z",
     "start_time": "2024-10-24T14:22:53.553459Z"
    }
   },
   "source": [
    "def hello_world():\n",
    "    print('Hello World!')"
   ],
   "outputs": [],
   "execution_count": 2
  },
  {
   "cell_type": "markdown",
   "metadata": {},
   "source": [
    "To register it, we have to provide a unique name for the command, which will be used by clients. In this case. we choose the name of the command to be 'hello'"
   ]
  },
  {
   "cell_type": "code",
   "metadata": {
    "ExecuteTime": {
     "end_time": "2024-10-24T14:22:54.603298Z",
     "start_time": "2024-10-24T14:22:54.601085Z"
    }
   },
   "source": [
    "server.register_command('hello', hello_world)"
   ],
   "outputs": [],
   "execution_count": 3
  },
  {
   "cell_type": "markdown",
   "metadata": {},
   "source": [
    "Now let's connect a client to the server."
   ]
  },
  {
   "cell_type": "code",
   "metadata": {
    "ExecuteTime": {
     "end_time": "2024-10-24T14:22:55.618032Z",
     "start_time": "2024-10-24T14:22:55.615956Z"
    }
   },
   "source": [
    "from nanover.core import NanoverClient"
   ],
   "outputs": [],
   "execution_count": 4
  },
  {
   "cell_type": "code",
   "metadata": {
    "ExecuteTime": {
     "end_time": "2024-10-24T14:22:56.498579Z",
     "start_time": "2024-10-24T14:22:56.491385Z"
    }
   },
   "source": [
    "client = NanoverClient.insecure_channel(address=server.address, port=server.port)"
   ],
   "outputs": [],
   "execution_count": 5
  },
  {
   "cell_type": "markdown",
   "metadata": {},
   "source": [
    "We can ask what commands are available on the server."
   ]
  },
  {
   "cell_type": "code",
   "metadata": {
    "ExecuteTime": {
     "end_time": "2024-10-24T14:22:58.599461Z",
     "start_time": "2024-10-24T14:22:58.593705Z"
    }
   },
   "source": "client.update_available_commands()",
   "outputs": [
    {
     "data": {
      "text/plain": [
       "{'hello': <nanover.command.command_info.CommandInfo at 0x1048f23c0>}"
      ]
     },
     "execution_count": 6,
     "metadata": {},
     "output_type": "execute_result"
    }
   ],
   "execution_count": 6
  },
  {
   "cell_type": "markdown",
   "metadata": {},
   "source": [
    "This tells us that our 'hello' command is registered on the server and can be run by clients. Let's run it! "
   ]
  },
  {
   "cell_type": "code",
   "metadata": {
    "ExecuteTime": {
     "end_time": "2024-10-24T14:23:00.002360Z",
     "start_time": "2024-10-24T14:22:59.998083Z"
    }
   },
   "source": [
    "client.run_command('hello')"
   ],
   "outputs": [
    {
     "data": {
      "text/plain": [
       "{}"
      ]
     },
     "execution_count": 7,
     "metadata": {},
     "output_type": "execute_result"
    }
   ],
   "execution_count": 7
  },
  {
   "cell_type": "markdown",
   "metadata": {},
   "source": [
    "You'll notice that the output of the command was printed in the cell where the server was defined (see above), and it returned an empty dictionary after the cell where we ran the command. This leads us nicely onto more advanced commands..."
   ]
  },
  {
   "cell_type": "markdown",
   "metadata": {},
   "source": [
    "### Taking Arguments and Returning Results"
   ]
  },
  {
   "cell_type": "markdown",
   "metadata": {},
   "source": "A command is expected to have the following signature structure:"
  },
  {
   "cell_type": "code",
   "metadata": {
    "ExecuteTime": {
     "end_time": "2024-10-24T14:23:02.080514Z",
     "start_time": "2024-10-24T14:23:02.077946Z"
    }
   },
   "source": [
    "from typing import Dict\n",
    "def command(**kwargs) -> Dict[str, object]:\n",
    "    pass"
   ],
   "outputs": [],
   "execution_count": 8
  },
  {
   "cell_type": "markdown",
   "metadata": {},
   "source": "So this means it can define keyword arguments, and can return a dictionary of objects with string keys. For practical reasons of transmitting over the wire, the dictionary must only contain simple objects, such as numbers, booleans, strings and lists and dictionaries of these things. This is because it is internally converted to a [protobuf Struct](https://protobuf.dev/reference/java/api-docs/com/google/protobuf/Struct.html#:~:text=%60Struct%60%20represents%20a%20structured%20data,is%20represented%20as%20an%20object.), which is similar to a JSON file."
  },
  {
   "cell_type": "markdown",
   "metadata": {},
   "source": "Let's make a more complicated example:"
  },
  {
   "cell_type": "code",
   "metadata": {
    "ExecuteTime": {
     "end_time": "2024-10-24T14:23:03.726538Z",
     "start_time": "2024-10-24T14:23:03.724122Z"
    }
   },
   "source": [
    "import math"
   ],
   "outputs": [],
   "execution_count": 9
  },
  {
   "cell_type": "code",
   "metadata": {
    "ExecuteTime": {
     "end_time": "2024-10-24T14:23:04.611942Z",
     "start_time": "2024-10-24T14:23:04.609208Z"
    }
   },
   "source": [
    "def pythagoras(a=1, b=1):\n",
    "    c = math.sqrt(a**2 + b**2)\n",
    "    return {'c': c}"
   ],
   "outputs": [],
   "execution_count": 10
  },
  {
   "cell_type": "code",
   "metadata": {
    "ExecuteTime": {
     "end_time": "2024-10-24T14:23:08.581921Z",
     "start_time": "2024-10-24T14:23:08.579576Z"
    }
   },
   "source": "server.register_command('pythagoras', pythagoras)",
   "outputs": [],
   "execution_count": 11
  },
  {
   "cell_type": "markdown",
   "metadata": {},
   "source": "Let's run this new command - we could update the commands on the client (as per the basic example), but we already know it's been registered"
  },
  {
   "cell_type": "code",
   "metadata": {
    "ExecuteTime": {
     "end_time": "2024-10-24T14:23:10.374176Z",
     "start_time": "2024-10-24T14:23:10.370360Z"
    }
   },
   "source": [
    "client.run_command('pythagoras')"
   ],
   "outputs": [
    {
     "data": {
      "text/plain": [
       "{'c': 1.4142135623730951}"
      ]
     },
     "execution_count": 12,
     "metadata": {},
     "output_type": "execute_result"
    }
   ],
   "execution_count": 12
  },
  {
   "cell_type": "markdown",
   "metadata": {},
   "source": "This time, we receive a dictionary of results, as defined in the method. Let's run the command again, this time passing it some arguments:"
  },
  {
   "cell_type": "code",
   "metadata": {
    "ExecuteTime": {
     "end_time": "2024-10-24T14:23:12.485885Z",
     "start_time": "2024-10-24T14:23:12.482230Z"
    }
   },
   "source": [
    "client.run_command('pythagoras', a=3, b=4)"
   ],
   "outputs": [
    {
     "data": {
      "text/plain": [
       "{'c': 5.0}"
      ]
     },
     "execution_count": 13,
     "metadata": {},
     "output_type": "execute_result"
    }
   ],
   "execution_count": 13
  },
  {
   "cell_type": "markdown",
   "metadata": {},
   "source": [
    "Verifying this result is left as an exercise. \n",
    "\n",
    "What happens if we send incorrect arguments? Let's try running the command again, this time passing the argument `c`"
   ]
  },
  {
   "cell_type": "code",
   "metadata": {
    "ExecuteTime": {
     "end_time": "2024-10-24T14:23:14.789012Z",
     "start_time": "2024-10-24T14:23:14.785287Z"
    }
   },
   "source": [
    "import grpc\n",
    "try:\n",
    "    client.run_command('pythagoras', c=2)\n",
    "except grpc.RpcError as e:\n",
    "    print(e.details())"
   ],
   "outputs": [
    {
     "name": "stdout",
     "output_type": "stream",
     "text": [
      "Exception calling application: pythagoras() got an unexpected keyword argument 'c'\n"
     ]
    }
   ],
   "execution_count": 14
  },
  {
   "cell_type": "markdown",
   "metadata": {},
   "source": [
    "Cool! Even if the client was in a different language, on a different computer, we can see why we messed up!"
   ]
  },
  {
   "cell_type": "markdown",
   "metadata": {},
   "source": "In defining the `pythagoras` function, we defined some default arguments. It is also possible to define default arguments when registering the command. Let's remove our previous definition, and add it with some defaults. This can be useful if you want to set default behaviour for some method that isn't directly under your control."
  },
  {
   "cell_type": "code",
   "metadata": {
    "ExecuteTime": {
     "end_time": "2024-10-24T14:23:18.849497Z",
     "start_time": "2024-10-24T14:23:18.847514Z"
    }
   },
   "source": [
    "server.unregister_command('pythagoras')\n",
    "server.register_command('pythagoras', pythagoras, {'a':2,'b':2})"
   ],
   "outputs": [],
   "execution_count": 15
  },
  {
   "cell_type": "code",
   "metadata": {
    "ExecuteTime": {
     "end_time": "2024-10-24T14:23:25.534508Z",
     "start_time": "2024-10-24T14:23:25.530849Z"
    }
   },
   "source": [
    "client.run_command('pythagoras')"
   ],
   "outputs": [
    {
     "data": {
      "text/plain": [
       "{'c': 2.8284271247461903}"
      ]
     },
     "execution_count": 16,
     "metadata": {},
     "output_type": "execute_result"
    }
   ],
   "execution_count": 16
  },
  {
   "cell_type": "markdown",
   "metadata": {},
   "source": "Defining default arguments this way also gives the client some information about what the command accepts:"
  },
  {
   "cell_type": "code",
   "metadata": {
    "ExecuteTime": {
     "end_time": "2024-10-24T14:23:27.627391Z",
     "start_time": "2024-10-24T14:23:27.622864Z"
    }
   },
   "source": [
    "client.update_available_commands()\n",
    "client.available_commands['pythagoras'].arguments"
   ],
   "outputs": [
    {
     "data": {
      "text/plain": [
       "{'a': 2.0, 'b': 2.0}"
      ]
     },
     "execution_count": 17,
     "metadata": {},
     "output_type": "execute_result"
    }
   ],
   "execution_count": 17
  },
  {
   "cell_type": "code",
   "metadata": {
    "ExecuteTime": {
     "end_time": "2024-10-24T14:23:34.347811Z",
     "start_time": "2024-10-24T14:23:34.344567Z"
    }
   },
   "source": [
    "client.close()\n",
    "server.close()"
   ],
   "outputs": [],
   "execution_count": 18
  },
  {
   "cell_type": "markdown",
   "metadata": {},
   "source": [
    "### Using commands to drive an application"
   ]
  },
  {
   "cell_type": "markdown",
   "metadata": {},
   "source": [
    "Commands become powerful when they are used to *change* something on the server, making the server interactive. \n",
    "\n",
    "The [trajectory viewer](../mdanalysis/mdanalysis_trajectory.ipynb) example demonstrates this. "
   ]
  },
  {
   "cell_type": "markdown",
   "metadata": {},
   "source": "## State Synchronisation: the **Shared State** dictionary"
  },
  {
   "cell_type": "markdown",
   "metadata": {},
   "source": [
    "NanoVer uses a client-server model, which means clients do not talk to eachother directly. \n",
    "\n",
    "Howerver, it is often important to synchronise information across multiple clients, for example the position of the simulation in the VR space, or the current state of one's avatar (e.g. if you're in a menu).\n",
    "\n",
    "We achieve this in NanoVer via a **_shared state_** dictionary (often referred to simply as the _shared state_) that clients can update. Whenever a client makes a change to this dictionary, the changes are sent to any clients that are listening. "
   ]
  },
  {
   "metadata": {},
   "cell_type": "markdown",
   "source": [
    "We're going to demonstrate how the shared state works by creating a server, connecting multiple clients to it and seeing what happens when the shared state is altered by the clients.\n",
    "\n",
    "To start, let's define a server and connect a client to it."
   ]
  },
  {
   "cell_type": "code",
   "metadata": {
    "ExecuteTime": {
     "end_time": "2024-10-24T14:40:21.570014Z",
     "start_time": "2024-10-24T14:40:21.563768Z"
    }
   },
   "source": [
    "server = NanoverServer(address='localhost', port=0)"
   ],
   "outputs": [],
   "execution_count": 19
  },
  {
   "cell_type": "code",
   "metadata": {
    "ExecuteTime": {
     "end_time": "2024-10-24T14:40:22.536926Z",
     "start_time": "2024-10-24T14:40:22.533807Z"
    }
   },
   "source": [
    "client = NanoverClient.insecure_channel(address='localhost', port=server.port)"
   ],
   "outputs": [],
   "execution_count": 20
  },
  {
   "cell_type": "markdown",
   "metadata": {},
   "source": [
    "The following command makes the client listen to any changes on the shared state dictionary."
   ]
  },
  {
   "cell_type": "code",
   "metadata": {
    "ExecuteTime": {
     "end_time": "2024-10-24T14:40:26.583757Z",
     "start_time": "2024-10-24T14:40:26.578722Z"
    }
   },
   "source": [
    "client.subscribe_all_state_updates()"
   ],
   "outputs": [],
   "execution_count": 21
  },
  {
   "cell_type": "markdown",
   "metadata": {},
   "source": "We can look at the shared state by calling `copy_state()`. At first, this dictionary is empty:"
  },
  {
   "cell_type": "code",
   "metadata": {
    "ExecuteTime": {
     "end_time": "2024-10-24T14:40:34.239048Z",
     "start_time": "2024-10-24T14:40:34.235792Z"
    }
   },
   "source": [
    "client.copy_state()"
   ],
   "outputs": [
    {
     "data": {
      "text/plain": [
       "{}"
      ]
     },
     "execution_count": 22,
     "metadata": {},
     "output_type": "execute_result"
    }
   ],
   "execution_count": 22
  },
  {
   "cell_type": "markdown",
   "metadata": {},
   "source": "Let's connect a second client to the server."
  },
  {
   "cell_type": "code",
   "metadata": {
    "ExecuteTime": {
     "end_time": "2024-10-24T14:41:25.418234Z",
     "start_time": "2024-10-24T14:41:25.415500Z"
    }
   },
   "source": [
    "second_client = NanoverClient.insecure_channel(address='localhost', port=server.port)"
   ],
   "outputs": [],
   "execution_count": 23
  },
  {
   "cell_type": "code",
   "metadata": {
    "ExecuteTime": {
     "end_time": "2024-10-24T14:41:27.246274Z",
     "start_time": "2024-10-24T14:41:27.242634Z"
    }
   },
   "source": [
    "second_client.subscribe_all_state_updates()"
   ],
   "outputs": [],
   "execution_count": 24
  },
  {
   "cell_type": "markdown",
   "metadata": {},
   "source": "Now, the first client will make a change to the dictionary, and we'll see that both clients will get the update."
  },
  {
   "cell_type": "code",
   "metadata": {
    "ExecuteTime": {
     "end_time": "2024-10-24T14:41:46.993676Z",
     "start_time": "2024-10-24T14:41:46.991986Z"
    }
   },
   "source": [
    "from nanover.state.state_dictionary import DictionaryChange"
   ],
   "outputs": [],
   "execution_count": 25
  },
  {
   "cell_type": "markdown",
   "metadata": {},
   "source": [
    "We can add or update keys, and we can remove a list of keys. In what follows, we set a key `a` to the value 2, and do not remove any keys (since there aren't any)"
   ]
  },
  {
   "cell_type": "code",
   "metadata": {
    "ExecuteTime": {
     "end_time": "2024-10-24T14:42:02.545260Z",
     "start_time": "2024-10-24T14:42:02.542905Z"
    }
   },
   "source": [
    "updates = {'a': 2}\n",
    "key_removals = []"
   ],
   "outputs": [],
   "execution_count": 26
  },
  {
   "cell_type": "code",
   "metadata": {
    "ExecuteTime": {
     "end_time": "2024-10-24T14:42:06.891541Z",
     "start_time": "2024-10-24T14:42:06.889287Z"
    }
   },
   "source": [
    "changes = DictionaryChange(updates=updates,removals=key_removals)"
   ],
   "outputs": [],
   "execution_count": 27
  },
  {
   "cell_type": "code",
   "metadata": {
    "ExecuteTime": {
     "end_time": "2024-10-24T14:42:13.212363Z",
     "start_time": "2024-10-24T14:42:13.208224Z"
    }
   },
   "source": [
    "client.attempt_update_state(changes)"
   ],
   "outputs": [
    {
     "data": {
      "text/plain": [
       "True"
      ]
     },
     "execution_count": 28,
     "metadata": {},
     "output_type": "execute_result"
    }
   ],
   "execution_count": 28
  },
  {
   "cell_type": "markdown",
   "metadata": {},
   "source": "We have successfully updated the shared state from the first client. Now we'll call `copy_state()` from both clients, and see what happens:"
  },
  {
   "cell_type": "code",
   "metadata": {
    "ExecuteTime": {
     "end_time": "2024-10-24T14:43:41.812088Z",
     "start_time": "2024-10-24T14:43:41.809924Z"
    }
   },
   "source": [
    "client.copy_state()"
   ],
   "outputs": [
    {
     "data": {
      "text/plain": [
       "{'a': 2.0}"
      ]
     },
     "execution_count": 29,
     "metadata": {},
     "output_type": "execute_result"
    }
   ],
   "execution_count": 29
  },
  {
   "cell_type": "code",
   "metadata": {
    "ExecuteTime": {
     "end_time": "2024-10-24T14:43:45.204424Z",
     "start_time": "2024-10-24T14:43:45.201821Z"
    }
   },
   "source": [
    "second_client.copy_state()"
   ],
   "outputs": [
    {
     "data": {
      "text/plain": [
       "{'a': 2.0}"
      ]
     },
     "execution_count": 30,
     "metadata": {},
     "output_type": "execute_result"
    }
   ],
   "execution_count": 30
  },
  {
   "metadata": {},
   "cell_type": "markdown",
   "source": "We can see that the shared state has been updated with the new value, according to both clients."
  },
  {
   "cell_type": "markdown",
   "metadata": {},
   "source": [
    "The DictionaryChange object took a second argument - keys to remove. We can use that to remove things from the shared state."
   ]
  },
  {
   "cell_type": "code",
   "metadata": {
    "ExecuteTime": {
     "end_time": "2024-10-24T14:44:57.230325Z",
     "start_time": "2024-10-24T14:44:57.226120Z"
    }
   },
   "source": [
    "changes = DictionaryChange({}, ['a'])\n",
    "second_client.attempt_update_state(changes)"
   ],
   "outputs": [
    {
     "data": {
      "text/plain": [
       "True"
      ]
     },
     "execution_count": 31,
     "metadata": {},
     "output_type": "execute_result"
    }
   ],
   "execution_count": 31
  },
  {
   "cell_type": "markdown",
   "metadata": {},
   "source": "Now, the dictionary is empty. We can check this from both clients:"
  },
  {
   "cell_type": "code",
   "metadata": {
    "ExecuteTime": {
     "end_time": "2024-10-24T14:46:34.489735Z",
     "start_time": "2024-10-24T14:46:34.486832Z"
    }
   },
   "source": [
    "client.copy_state()"
   ],
   "outputs": [
    {
     "data": {
      "text/plain": [
       "{}"
      ]
     },
     "execution_count": 32,
     "metadata": {},
     "output_type": "execute_result"
    }
   ],
   "execution_count": 32
  },
  {
   "cell_type": "code",
   "metadata": {
    "ExecuteTime": {
     "end_time": "2024-10-24T14:46:36.695907Z",
     "start_time": "2024-10-24T14:46:36.693266Z"
    }
   },
   "source": [
    "second_client.copy_state()"
   ],
   "outputs": [
    {
     "data": {
      "text/plain": [
       "{}"
      ]
     },
     "execution_count": 33,
     "metadata": {},
     "output_type": "execute_result"
    }
   ],
   "execution_count": 33
  },
  {
   "cell_type": "markdown",
   "metadata": {},
   "source": [
    "What if both clients try to update at the same time, or what if I don't want someone else to mess with something?\n",
    "We handle this by _locking the key_ while changes are made, so only one client can edit fields at a time:"
   ]
  },
  {
   "cell_type": "code",
   "metadata": {
    "ExecuteTime": {
     "end_time": "2024-10-24T14:49:41.203456Z",
     "start_time": "2024-10-24T14:49:41.199805Z"
    }
   },
   "source": [
    "# We aquire a lock on the key 'a' for 10 seconds.\n",
    "got_lock = client.attempt_update_locks({'a': 10})\n",
    "print(f'Client has a lock: {got_lock}')\n",
    "# We attempt to update the locked key from the second client.\n",
    "successfully_updated = second_client.attempt_update_state(changes)\n",
    "print(f'Second client updated state: {successfully_updated}')"
   ],
   "outputs": [
    {
     "name": "stdout",
     "output_type": "stream",
     "text": [
      "Client has a lock: True\n",
      "Second client updated state: False\n"
     ]
    }
   ],
   "execution_count": 34
  },
  {
   "cell_type": "markdown",
   "metadata": {},
   "source": [
    "Here, the second client was unable to update the shared state because the first client had locked the shared state.\n",
    "\n",
    "The dictionary accepts anything that can be represented as a protobuf Struct, so you can set up complicated things:"
   ]
  },
  {
   "cell_type": "code",
   "metadata": {
    "ExecuteTime": {
     "end_time": "2024-10-24T14:49:46.925095Z",
     "start_time": "2024-10-24T14:49:46.920489Z"
    }
   },
   "source": [
    "changes = DictionaryChange({\n",
    "    'party':{'pokemon':['charmander','squirtle','bulbasaur','pikachu']},\n",
    "    'battle':{\n",
    "        'name':'charmander',\n",
    "        'type':'fire',\n",
    "        'level': 7,\n",
    "        'is_my_favourite': True,\n",
    "        'abilities':['scratch', 'growl']\n",
    "    }\n",
    "}, [])\n",
    "second_client.attempt_update_state(changes)"
   ],
   "outputs": [
    {
     "data": {
      "text/plain": [
       "True"
      ]
     },
     "execution_count": 35,
     "metadata": {},
     "output_type": "execute_result"
    }
   ],
   "execution_count": 35
  },
  {
   "cell_type": "code",
   "metadata": {
    "ExecuteTime": {
     "end_time": "2024-10-24T14:49:52.530504Z",
     "start_time": "2024-10-24T14:49:52.527826Z"
    }
   },
   "source": [
    "import pprint # pretty print!\n",
    "pprint.pprint(client.copy_state())"
   ],
   "outputs": [
    {
     "name": "stdout",
     "output_type": "stream",
     "text": [
      "{'battle': {'abilities': ['scratch', 'growl'],\n",
      "            'is_my_favourite': True,\n",
      "            'level': 7.0,\n",
      "            'name': 'charmander',\n",
      "            'type': 'fire'},\n",
      " 'party': {'pokemon': ['charmander', 'squirtle', 'bulbasaur', 'pikachu']}}\n"
     ]
    }
   ],
   "execution_count": 36
  },
  {
   "cell_type": "markdown",
   "metadata": {},
   "source": [
    "## Tidying Up"
   ]
  },
  {
   "metadata": {},
   "cell_type": "markdown",
   "source": "As ever, once we're finished we should shut down the clients and the server by calling `close()` on them:"
  },
  {
   "cell_type": "code",
   "metadata": {
    "ExecuteTime": {
     "end_time": "2024-10-24T14:51:26.468468Z",
     "start_time": "2024-10-24T14:51:26.462290Z"
    }
   },
   "source": [
    "client.close()\n",
    "second_client.close()\n",
    "server.close()"
   ],
   "outputs": [],
   "execution_count": 37
  },
  {
   "cell_type": "markdown",
   "metadata": {},
   "source": [
    "# Next \n",
    "\n"
   ]
  },
  {
   "cell_type": "markdown",
   "metadata": {},
   "source": [
    "In this notebook, we have learned about **commands** and the **shared state**, two fundamental concepts in NanoVer. Here are some good next steps:\n",
    "* See practical examples of commands in the [trajectory viewer](../mdanalysis/trajectory_viewer.ipynb)\n",
    "* Learn more about how [servers](servers.ipynb) are constructed. \n",
    "* Look at the [C# client code](https://github.com/IRL2/NarupaUnityPlugin/blob/main/Grpc/GrpcClient.cs) to learn how to run commands from a VR application."
   ]
  },
  {
   "cell_type": "code",
   "execution_count": null,
   "metadata": {},
   "outputs": [],
   "source": []
  }
 ],
 "metadata": {
  "kernelspec": {
   "display_name": "Python 3 (ipykernel)",
   "language": "python",
   "name": "python3"
  },
  "language_info": {
   "codemirror_mode": {
    "name": "ipython",
    "version": 3
   },
   "file_extension": ".py",
   "mimetype": "text/x-python",
   "name": "python",
   "nbconvert_exporter": "python",
   "pygments_lexer": "ipython3",
   "version": "3.12.0"
  }
 },
 "nbformat": 4,
 "nbformat_minor": 4
}
