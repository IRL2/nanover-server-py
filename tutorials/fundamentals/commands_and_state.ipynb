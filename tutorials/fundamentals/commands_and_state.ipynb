{
 "cells": [
  {
   "cell_type": "markdown",
   "metadata": {},
   "source": [
    "# Commands and State Synchronization in NanoVer"
   ]
  },
  {
   "cell_type": "markdown",
   "metadata": {},
   "source": [
    "This notebook explores the concepts of commands and state synchronization in NanoVer. These concepts are critical for the function of a multi-user application: \n",
    "* **_Commands_** enable clients connecting to the server to run functions on the server\n",
    "* Synchronisation of the system's **_shared state_** relays any changes made to the server to all connected clients\n",
    "\n",
    "The implementations of these concepts in NanoVer provide the foundations for interactive multi-user applications (e.g. iMD-VR). \n",
    "\n",
    "\n",
    "In this tutorial, you'll learn:\n",
    "* What a **_command_** is\n",
    "* How to set up custom commands on a NanoVer server\n",
    "* What the **_shared state_** is\n",
    "* How to set shared variables and objects between clients via a NanoVer server"
   ]
  },
  {
   "cell_type": "markdown",
   "metadata": {},
   "source": [
    "## **Commands**"
   ]
  },
  {
   "cell_type": "markdown",
   "metadata": {},
   "source": [
    "### What is a command?"
   ]
  },
  {
   "cell_type": "markdown",
   "metadata": {},
   "source": [
    "In NanoVer, a **_command_** is a function on the server that can be run by a client. These can be used to customize a server,\n",
    "or create entirely new applications. They are used in lots of places. For example, telling the simulation to pause, play, reset and step uses them! "
   ]
  },
  {
   "cell_type": "markdown",
   "metadata": {},
   "source": [
    "Let's create a NanoVer server. All servers and applications that derive from a `NanoverServer` have the ability to run commands.\n",
    "\n",
    "**NOTE**: One such server is the `OmniRunner`, which we use to perform iMD simulations in NanoVer. For the sake of generality, we will use this simple `NanoverServer` base class to demonstrate how to construct commands, but everything below illustrates how commands work internally within the `OmniRunner`!"
   ]
  },
  {
   "cell_type": "code",
   "metadata": {
    "ExecuteTime": {
     "end_time": "2025-09-12T16:25:34.450768Z",
     "start_time": "2025-09-12T16:25:34.296701Z"
    }
   },
   "source": [
    "from nanover.app import NanoverImdApplication\n",
    "app_server = NanoverImdApplication.basic_server()"
   ],
   "outputs": [
    {
     "name": "stdout",
     "output_type": "stream",
     "text": [
      "Hello World!\n"
     ]
    }
   ],
   "execution_count": 1
  },
  {
   "cell_type": "markdown",
   "metadata": {},
   "source": [
    "### A Basic Command"
   ]
  },
  {
   "cell_type": "markdown",
   "metadata": {},
   "source": [
    "Let's set up a very simple command by defining the function that the command will execute: it just prints 'Hello World!'"
   ]
  },
  {
   "cell_type": "code",
   "metadata": {
    "ExecuteTime": {
     "end_time": "2025-09-12T16:25:34.576244Z",
     "start_time": "2025-09-12T16:25:34.572431Z"
    }
   },
   "source": [
    "def hello_world():\n",
    "    print('Hello World!')"
   ],
   "outputs": [],
   "execution_count": 2
  },
  {
   "cell_type": "markdown",
   "metadata": {},
   "source": [
    "To register it, we have to provide a unique name for the command, which will be used by clients. In this case. we choose the name of the command to be 'hello'"
   ]
  },
  {
   "cell_type": "code",
   "metadata": {
    "ExecuteTime": {
     "end_time": "2025-09-12T16:25:34.590467Z",
     "start_time": "2025-09-12T16:25:34.585245Z"
    }
   },
   "source": "app_server.register_command('hello', hello_world)",
   "outputs": [],
   "execution_count": 3
  },
  {
   "cell_type": "markdown",
   "metadata": {},
   "source": [
    "Now let's connect a client to the server."
   ]
  },
  {
   "cell_type": "code",
   "metadata": {
    "ExecuteTime": {
     "end_time": "2025-09-12T16:25:34.603784Z",
     "start_time": "2025-09-12T16:25:34.601460Z"
    }
   },
   "source": "from nanover.websocket import NanoverImdClient",
   "outputs": [],
   "execution_count": 4
  },
  {
   "cell_type": "code",
   "metadata": {
    "ExecuteTime": {
     "end_time": "2025-09-12T16:25:36.666367Z",
     "start_time": "2025-09-12T16:25:34.613028Z"
    }
   },
   "source": "client = NanoverImdClient.from_app_server(app_server)",
   "outputs": [],
   "execution_count": 5
  },
  {
   "cell_type": "markdown",
   "metadata": {},
   "source": [
    "We can ask what commands are available on the server."
   ]
  },
  {
   "cell_type": "code",
   "metadata": {
    "ExecuteTime": {
     "end_time": "2025-09-12T16:25:36.777329Z",
     "start_time": "2025-09-12T16:25:36.671163Z"
    }
   },
   "source": [
    "client.update_available_commands()"
   ],
   "outputs": [
    {
     "data": {
      "text/plain": [
       "{'commands/list': {}, 'multiuser/radially-orient-origins': {}, 'hello': {}}"
      ]
     },
     "execution_count": 6,
     "metadata": {},
     "output_type": "execute_result"
    }
   ],
   "execution_count": 6
  },
  {
   "cell_type": "markdown",
   "metadata": {},
   "source": [
    "This tells us that our 'hello' command is registered on the server and can be run by clients. Let's run it! "
   ]
  },
  {
   "cell_type": "code",
   "metadata": {
    "ExecuteTime": {
     "end_time": "2025-09-12T16:25:36.904831Z",
     "start_time": "2025-09-12T16:25:36.799942Z"
    }
   },
   "source": "client.run_command_blocking('hello')",
   "outputs": [],
   "execution_count": 7
  },
  {
   "cell_type": "markdown",
   "metadata": {},
   "source": [
    "You'll notice that the output of the command was printed in the cell where the server was defined (see above), and it returned an empty dictionary after the cell where we ran the command. This leads us nicely onto more advanced commands..."
   ]
  },
  {
   "cell_type": "markdown",
   "metadata": {},
   "source": [
    "### Taking Arguments and Returning Results"
   ]
  },
  {
   "cell_type": "markdown",
   "metadata": {},
   "source": [
    "A command is expected to have the following signature structure:"
   ]
  },
  {
   "cell_type": "code",
   "metadata": {
    "ExecuteTime": {
     "end_time": "2025-09-12T16:25:36.931200Z",
     "start_time": "2025-09-12T16:25:36.928712Z"
    }
   },
   "source": [
    "from typing import Dict\n",
    "def command(**kwargs) -> dict[str, object]:\n",
    "    pass"
   ],
   "outputs": [],
   "execution_count": 8
  },
  {
   "cell_type": "markdown",
   "metadata": {},
   "source": [
    "So this means it can define keyword arguments, and can return a dictionary of objects with string keys. For practical reasons of transmitting over the wire, the dictionary must only contain simple objects, such as numbers, booleans, strings and lists and dictionaries of these things. This is because it is internally converted to a [protobuf Struct](https://protobuf.dev/reference/java/api-docs/com/google/protobuf/Struct.html#:~:text=%60Struct%60%20represents%20a%20structured%20data,is%20represented%20as%20an%20object.), which is similar to a JSON file."
   ]
  },
  {
   "cell_type": "markdown",
   "metadata": {},
   "source": [
    "Let's make a more complicated example:"
   ]
  },
  {
   "cell_type": "code",
   "metadata": {
    "ExecuteTime": {
     "end_time": "2025-09-12T16:25:36.951817Z",
     "start_time": "2025-09-12T16:25:36.941885Z"
    }
   },
   "source": [
    "import math"
   ],
   "outputs": [],
   "execution_count": 9
  },
  {
   "cell_type": "code",
   "metadata": {
    "ExecuteTime": {
     "end_time": "2025-09-12T16:25:36.960724Z",
     "start_time": "2025-09-12T16:25:36.956821Z"
    }
   },
   "source": [
    "def pythagoras(a=1, b=1):\n",
    "    c = math.sqrt(a**2 + b**2)\n",
    "    return {'c': c}"
   ],
   "outputs": [],
   "execution_count": 10
  },
  {
   "cell_type": "code",
   "metadata": {
    "ExecuteTime": {
     "end_time": "2025-09-12T16:25:36.973509Z",
     "start_time": "2025-09-12T16:25:36.970106Z"
    }
   },
   "source": "app_server.register_command('pythagoras', pythagoras)",
   "outputs": [],
   "execution_count": 11
  },
  {
   "cell_type": "markdown",
   "metadata": {},
   "source": [
    "Let's run this new command - we could update the commands on the client (as per the basic example), but we already know it's been registered"
   ]
  },
  {
   "cell_type": "code",
   "metadata": {
    "ExecuteTime": {
     "end_time": "2025-09-12T16:25:37.086333Z",
     "start_time": "2025-09-12T16:25:36.983676Z"
    }
   },
   "source": "client.run_command_blocking('pythagoras')",
   "outputs": [
    {
     "data": {
      "text/plain": [
       "{'c': 1.4142135623730951}"
      ]
     },
     "execution_count": 12,
     "metadata": {},
     "output_type": "execute_result"
    }
   ],
   "execution_count": 12
  },
  {
   "cell_type": "markdown",
   "metadata": {},
   "source": [
    "This time, we receive a dictionary of results, as defined in the method. Let's run the command again, this time passing it some arguments:"
   ]
  },
  {
   "cell_type": "code",
   "metadata": {
    "ExecuteTime": {
     "end_time": "2025-09-12T16:25:37.225977Z",
     "start_time": "2025-09-12T16:25:37.113241Z"
    }
   },
   "source": "client.run_command_blocking('pythagoras', a=3, b=4)",
   "outputs": [
    {
     "data": {
      "text/plain": [
       "{'c': 5.0}"
      ]
     },
     "execution_count": 13,
     "metadata": {},
     "output_type": "execute_result"
    }
   ],
   "execution_count": 13
  },
  {
   "cell_type": "markdown",
   "metadata": {},
   "source": [
    "Verifying this result is left as an exercise. \n",
    "\n",
    "What happens if we send incorrect arguments? Let's try running the command again, this time passing the argument `c`"
   ]
  },
  {
   "cell_type": "code",
   "metadata": {
    "ExecuteTime": {
     "end_time": "2025-09-12T16:25:37.350416Z",
     "start_time": "2025-09-12T16:25:37.247791Z"
    }
   },
   "source": [
    "try:\n",
    "    client.run_command_blocking('pythagoras', c=2)\n",
    "except RuntimeError as e:\n",
    "    print(e)"
   ],
   "outputs": [
    {
     "name": "stdout",
     "output_type": "stream",
     "text": [
      "pythagoras() got an unexpected keyword argument 'c'\n"
     ]
    }
   ],
   "execution_count": 14
  },
  {
   "cell_type": "markdown",
   "metadata": {},
   "source": [
    "Cool! Even if the client was in a different language, on a different computer, we can see why we messed up!"
   ]
  },
  {
   "cell_type": "markdown",
   "metadata": {},
   "source": [
    "In defining the `pythagoras` function, we defined some default arguments. It is also possible to define default arguments when registering the command. Let's remove our previous definition, and add it with some defaults. This can be useful if you want to set default behaviour for some method that isn't directly under your control."
   ]
  },
  {
   "cell_type": "code",
   "metadata": {
    "ExecuteTime": {
     "end_time": "2025-09-12T16:25:37.366595Z",
     "start_time": "2025-09-12T16:25:37.363431Z"
    }
   },
   "source": [
    "app_server.unregister_command('pythagoras')\n",
    "app_server.register_command('pythagoras', pythagoras, {'a':2,'b':2})"
   ],
   "outputs": [],
   "execution_count": 15
  },
  {
   "cell_type": "code",
   "metadata": {
    "ExecuteTime": {
     "end_time": "2025-09-12T16:25:37.383349Z",
     "start_time": "2025-09-12T16:25:37.378500Z"
    }
   },
   "source": [
    "client.run_command('pythagoras')"
   ],
   "outputs": [],
   "execution_count": 16
  },
  {
   "cell_type": "markdown",
   "metadata": {},
   "source": [
    "Defining default arguments this way also gives the client some information about what the command accepts:"
   ]
  },
  {
   "cell_type": "code",
   "metadata": {
    "ExecuteTime": {
     "end_time": "2025-09-12T16:25:37.492190Z",
     "start_time": "2025-09-12T16:25:37.387354Z"
    }
   },
   "source": "client.update_available_commands()",
   "outputs": [
    {
     "data": {
      "text/plain": [
       "{'commands/list': {},\n",
       " 'multiuser/radially-orient-origins': {},\n",
       " 'hello': {},\n",
       " 'pythagoras': {'a': 2.0, 'b': 2.0}}"
      ]
     },
     "execution_count": 17,
     "metadata": {},
     "output_type": "execute_result"
    }
   ],
   "execution_count": 17
  },
  {
   "cell_type": "code",
   "metadata": {
    "ExecuteTime": {
     "end_time": "2025-09-12T16:25:37.936775Z",
     "start_time": "2025-09-12T16:25:37.523278Z"
    }
   },
   "source": [
    "client.close()\n",
    "app_server.close()"
   ],
   "outputs": [],
   "execution_count": 18
  },
  {
   "cell_type": "markdown",
   "metadata": {},
   "source": [
    "### Using commands to drive an application"
   ]
  },
  {
   "cell_type": "markdown",
   "metadata": {},
   "source": [
    "Commands become powerful when they are used to *change* something on the server, making the server interactive. \n",
    "\n",
    "The [trajectory viewer](../mdanalysis/mdanalysis_trajectory.ipynb) example demonstrates this. "
   ]
  },
  {
   "cell_type": "markdown",
   "metadata": {},
   "source": [
    "## State Synchronisation: the **Shared State** dictionary"
   ]
  },
  {
   "cell_type": "markdown",
   "metadata": {},
   "source": [
    "NanoVer uses a client-server model, which means clients do not talk to eachother directly. \n",
    "\n",
    "Howerver, it is often important to synchronise information across multiple clients, for example the position of the simulation in the VR space, or the current state of one's avatar (e.g. if you're in a menu).\n",
    "\n",
    "We achieve this in NanoVer via a **_shared state_** dictionary (often referred to simply as the _shared state_) that clients can update. Whenever a client makes a change to this dictionary, the changes are sent to any clients that are listening. "
   ]
  },
  {
   "cell_type": "markdown",
   "metadata": {},
   "source": [
    "We're going to demonstrate how the shared state works by creating a server, connecting multiple clients to it and seeing what happens when the shared state is altered by the clients.\n",
    "\n",
    "To start, let's define a server and connect a client to it."
   ]
  },
  {
   "cell_type": "code",
   "metadata": {
    "ExecuteTime": {
     "end_time": "2025-09-12T16:25:37.981866Z",
     "start_time": "2025-09-12T16:25:37.945607Z"
    }
   },
   "source": "app_server = NanoverImdApplication.basic_server()",
   "outputs": [],
   "execution_count": 19
  },
  {
   "cell_type": "code",
   "metadata": {
    "ExecuteTime": {
     "end_time": "2025-09-12T16:25:40.072863Z",
     "start_time": "2025-09-12T16:25:37.993246Z"
    }
   },
   "source": "client = NanoverImdClient.from_app_server(app_server)",
   "outputs": [],
   "execution_count": 20
  },
  {
   "cell_type": "markdown",
   "metadata": {},
   "source": [
    "We can look at the shared state by calling `copy_state()`. At first, this dictionary is empty:"
   ]
  },
  {
   "cell_type": "code",
   "metadata": {
    "ExecuteTime": {
     "end_time": "2025-09-12T16:25:40.083389Z",
     "start_time": "2025-09-12T16:25:40.080267Z"
    }
   },
   "source": "client.copy_state()",
   "outputs": [
    {
     "data": {
      "text/plain": [
       "{'imd.velocity_reset_available': False}"
      ]
     },
     "execution_count": 21,
     "metadata": {},
     "output_type": "execute_result"
    }
   ],
   "execution_count": 21
  },
  {
   "cell_type": "markdown",
   "metadata": {},
   "source": [
    "Let's connect a second client to the server."
   ]
  },
  {
   "cell_type": "code",
   "metadata": {
    "ExecuteTime": {
     "end_time": "2025-09-12T16:25:42.186838Z",
     "start_time": "2025-09-12T16:25:40.096158Z"
    }
   },
   "source": "second_client = NanoverImdClient.from_app_server(app_server)",
   "outputs": [],
   "execution_count": 22
  },
  {
   "cell_type": "markdown",
   "metadata": {},
   "source": [
    "Now, the first client will make a change to the dictionary, and we'll see that both clients will get the update."
   ]
  },
  {
   "cell_type": "code",
   "metadata": {
    "ExecuteTime": {
     "end_time": "2025-09-12T16:25:42.196129Z",
     "start_time": "2025-09-12T16:25:42.193841Z"
    }
   },
   "source": [
    "from nanover.state.state_dictionary import DictionaryChange"
   ],
   "outputs": [],
   "execution_count": 23
  },
  {
   "cell_type": "markdown",
   "metadata": {},
   "source": [
    "We can add or update keys, and we can remove a list of keys. In what follows, we set a key `a` to the value 2, and do not remove any keys (since there aren't any)"
   ]
  },
  {
   "cell_type": "code",
   "metadata": {
    "ExecuteTime": {
     "end_time": "2025-09-12T16:25:42.216910Z",
     "start_time": "2025-09-12T16:25:42.209892Z"
    }
   },
   "source": [
    "updates = {'a': 2}\n",
    "key_removals = []"
   ],
   "outputs": [],
   "execution_count": 24
  },
  {
   "cell_type": "code",
   "metadata": {
    "ExecuteTime": {
     "end_time": "2025-09-12T16:25:42.233339Z",
     "start_time": "2025-09-12T16:25:42.230187Z"
    }
   },
   "source": [
    "changes = DictionaryChange(updates=updates,removals=key_removals)"
   ],
   "outputs": [],
   "execution_count": 25
  },
  {
   "cell_type": "code",
   "metadata": {
    "ExecuteTime": {
     "end_time": "2025-09-12T16:25:42.244982Z",
     "start_time": "2025-09-12T16:25:42.241978Z"
    }
   },
   "source": "client.update_state(changes)",
   "outputs": [],
   "execution_count": 26
  },
  {
   "cell_type": "markdown",
   "metadata": {},
   "source": [
    "We have successfully updated the shared state from the first client. Now we'll call `copy_state()` from both clients, and see what happens:"
   ]
  },
  {
   "cell_type": "code",
   "metadata": {
    "ExecuteTime": {
     "end_time": "2025-09-12T16:25:42.261406Z",
     "start_time": "2025-09-12T16:25:42.257792Z"
    }
   },
   "source": "client.copy_state()",
   "outputs": [
    {
     "data": {
      "text/plain": [
       "{'imd.velocity_reset_available': False, 'a': 2}"
      ]
     },
     "execution_count": 27,
     "metadata": {},
     "output_type": "execute_result"
    }
   ],
   "execution_count": 27
  },
  {
   "cell_type": "code",
   "metadata": {
    "ExecuteTime": {
     "end_time": "2025-09-12T16:25:42.274147Z",
     "start_time": "2025-09-12T16:25:42.270901Z"
    }
   },
   "source": "second_client.copy_state()",
   "outputs": [
    {
     "data": {
      "text/plain": [
       "{'imd.velocity_reset_available': False, 'a': 2}"
      ]
     },
     "execution_count": 28,
     "metadata": {},
     "output_type": "execute_result"
    }
   ],
   "execution_count": 28
  },
  {
   "cell_type": "markdown",
   "metadata": {},
   "source": [
    "We can see that the shared state has been updated with the new value, according to both clients."
   ]
  },
  {
   "cell_type": "markdown",
   "metadata": {},
   "source": [
    "The DictionaryChange object took a second argument - keys to remove. We can use that to remove things from the shared state."
   ]
  },
  {
   "cell_type": "code",
   "metadata": {
    "ExecuteTime": {
     "end_time": "2025-09-12T16:25:42.302446Z",
     "start_time": "2025-09-12T16:25:42.298577Z"
    }
   },
   "source": [
    "changes = DictionaryChange({}, ['a'])\n",
    "second_client.update_state(changes)"
   ],
   "outputs": [],
   "execution_count": 29
  },
  {
   "cell_type": "markdown",
   "metadata": {},
   "source": [
    "Now, the dictionary is empty. We can check this from both clients:"
   ]
  },
  {
   "cell_type": "code",
   "metadata": {
    "ExecuteTime": {
     "end_time": "2025-09-12T16:25:42.317127Z",
     "start_time": "2025-09-12T16:25:42.313458Z"
    }
   },
   "source": [
    "client.copy_state()"
   ],
   "outputs": [
    {
     "data": {
      "text/plain": [
       "{'imd.velocity_reset_available': False}"
      ]
     },
     "execution_count": 30,
     "metadata": {},
     "output_type": "execute_result"
    }
   ],
   "execution_count": 30
  },
  {
   "cell_type": "code",
   "metadata": {
    "ExecuteTime": {
     "end_time": "2025-09-12T16:25:42.330643Z",
     "start_time": "2025-09-12T16:25:42.327305Z"
    }
   },
   "source": [
    "second_client.copy_state()"
   ],
   "outputs": [
    {
     "data": {
      "text/plain": [
       "{'imd.velocity_reset_available': False}"
      ]
     },
     "execution_count": 31,
     "metadata": {},
     "output_type": "execute_result"
    }
   ],
   "execution_count": 31
  },
  {
   "cell_type": "markdown",
   "metadata": {},
   "source": "The dictionary accepts anything that can be represented as a protobuf Struct, so you can set up complicated things:"
  },
  {
   "cell_type": "code",
   "metadata": {
    "ExecuteTime": {
     "end_time": "2025-09-12T16:25:42.349383Z",
     "start_time": "2025-09-12T16:25:42.345934Z"
    }
   },
   "source": [
    "changes = DictionaryChange({\n",
    "    'party':{'pokemon':['charmander','squirtle','bulbasaur','pikachu']},\n",
    "    'battle':{\n",
    "        'name':'charmander',\n",
    "        'type':'fire',\n",
    "        'level': 7,\n",
    "        'is_my_favourite': True,\n",
    "        'abilities':['scratch', 'growl']\n",
    "    }\n",
    "}, [])\n",
    "second_client.update_state(changes)"
   ],
   "outputs": [],
   "execution_count": 32
  },
  {
   "cell_type": "code",
   "metadata": {
    "ExecuteTime": {
     "end_time": "2025-09-12T16:25:42.359387Z",
     "start_time": "2025-09-12T16:25:42.355386Z"
    }
   },
   "source": [
    "import pprint # pretty print!\n",
    "pprint.pprint(client.copy_state())"
   ],
   "outputs": [
    {
     "name": "stdout",
     "output_type": "stream",
     "text": [
      "{'battle': {'abilities': ['scratch', 'growl'],\n",
      "            'is_my_favourite': True,\n",
      "            'level': 7,\n",
      "            'name': 'charmander',\n",
      "            'type': 'fire'},\n",
      " 'imd.velocity_reset_available': False,\n",
      " 'party': {'pokemon': ['charmander', 'squirtle', 'bulbasaur', 'pikachu']}}\n"
     ]
    }
   ],
   "execution_count": 33
  },
  {
   "cell_type": "markdown",
   "metadata": {},
   "source": [
    "## Tidying Up"
   ]
  },
  {
   "cell_type": "markdown",
   "metadata": {},
   "source": [
    "As ever, once we're finished we should shut down the clients and the server by calling `close()` on them:"
   ]
  },
  {
   "cell_type": "code",
   "metadata": {
    "ExecuteTime": {
     "end_time": "2025-09-12T16:25:42.486381Z",
     "start_time": "2025-09-12T16:25:42.386097Z"
    }
   },
   "source": [
    "client.close()\n",
    "second_client.close()\n",
    "app_server.close()"
   ],
   "outputs": [],
   "execution_count": 34
  },
  {
   "cell_type": "markdown",
   "metadata": {},
   "source": [
    "# Next \n",
    "\n"
   ]
  },
  {
   "cell_type": "markdown",
   "metadata": {},
   "source": [
    "In this notebook, we have learned about **commands** and the **shared state**, two fundamental concepts in NanoVer. Here are some good next steps:\n",
    "* See practical examples of commands in the [trajectory viewer](../mdanalysis/mdanalysis_trajectory.ipynb)\n",
    "* Learn more about how [servers](servers.ipynb) are constructed."
   ]
  },
  {
   "cell_type": "code",
   "metadata": {
    "ExecuteTime": {
     "end_time": "2025-09-12T16:25:42.498376Z",
     "start_time": "2025-09-12T16:25:42.492865Z"
    }
   },
   "source": [],
   "outputs": [],
   "execution_count": null
  }
 ],
 "metadata": {
  "kernelspec": {
   "display_name": "Python 3 (ipykernel)",
   "language": "python",
   "name": "python3"
  },
  "language_info": {
   "codemirror_mode": {
    "name": "ipython",
    "version": 3
   },
   "file_extension": ".py",
   "mimetype": "text/x-python",
   "name": "python",
   "nbconvert_exporter": "python",
   "pygments_lexer": "ipython3",
   "version": "3.12.0"
  }
 },
 "nbformat": 4,
 "nbformat_minor": 4
}
