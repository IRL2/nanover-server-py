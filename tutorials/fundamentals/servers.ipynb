{
 "cells": [
  {
   "cell_type": "markdown",
   "metadata": {},
   "source": [
    "# NanoVer Servers"
   ]
  },
  {
   "cell_type": "markdown",
   "metadata": {},
   "source": [
    "In this notebook, we explore the concept of a **NanoVer server**. \n",
    "\n",
    "The aim of this notebook is to provide more technical information on this key element of NanoVer, intended for those interested in the inner workings of NanoVer and/or developing custom NanoVer applications. \n",
    "\n",
    "This gets into some of the nuts and bolts of how NanoVer works under the hood, including some gRPC details. While understanding gRPC is not necessary, it [will help](http://grpc.io).\n",
    "\n",
    "Before diving into this notebook, make sure you've checked out the tutorials in this directory that explain:\n",
    "* [Commands and state](./commands_and_state.ipynb)\n",
    "* [Frames](./frame.ipynb)\n",
    "\n",
    "These tutorials explore concepts that are essential for understanding how NanoVer servers work, and we recommend completing these tutorials _before_ tackling the current tutorial."
   ]
  },
  {
   "cell_type": "markdown",
   "metadata": {},
   "source": [
    "## The NanoVer Server Architecture"
   ]
  },
  {
   "cell_type": "markdown",
   "metadata": {},
   "source": [
    "NanoVer uses a **client-server model**. This means we have some stuff running on a **server**, and some stuff running on a **client**, and they talk to each other via a **network**. It's exactly how most apps you run on your phone work, and websites. Here's a schematic that demonstrates how everything is connected:\n",
    "\n",
    "![NanoVer Client Server](./images/nanover_client_server.png)\n",
    "\n",
    "In NanoVer, the **server** is in charge of setting up, managing and running simulations and models. For example, this could be trajectory serving, or serving an interactive molecular dynamics simulation. \n",
    "\n",
    "The **client** is any application that connects to the server. We generally have two types of client:\n",
    "* VR clients, for viewing and manipulating simulations in VR\n",
    "* Python clients, for experimentation and testing\n",
    "\n",
    "However, our framework is flexible enough that we could have other types of clients, such as web apps."
   ]
  },
  {
   "cell_type": "markdown",
   "metadata": {},
   "source": [
    "### gRPC"
   ]
  },
  {
   "cell_type": "markdown",
   "metadata": {},
   "source": [
    "NanoVer clients and servers talk to each other over the network using the **[gRPC](https://grpc.io)** communication protocol. gRPC provides simple and reliable mechanisms for clients to make requests of the server, including asking for a continuous streams of realtime data (such as particle positions, in the case of NanoVer iMD-VR). gRPC handles all the details of sending data over the network, allowing us to focus on building the application. \n",
    "\n",
    "gRPC was chosen for the following features:\n",
    "* Wide language support, especially python and C#\n",
    "* Explicit support for data streaming\n",
    "* Efficient data packing with protobuf"
   ]
  },
  {
   "cell_type": "markdown",
   "metadata": {},
   "source": [
    "### gRPC Services"
   ]
  },
  {
   "cell_type": "markdown",
   "metadata": {},
   "source": [
    "In gRPC, we define \"services\" that explicitly define a set of requests that clients can make of the server. Applications may support multiple services together. \n",
    "\n",
    "For example, the NanoVer iMD server uses:\n",
    "* a frame service (providing a stream of updates to simulation frames)\n",
    "* a state service (providing a stream of updates to a shared data store and the means to make changes)\n",
    "* a command service (providing arbitrary commands defined by the server at runtime): \n",
    "\n",
    "![NanoVer IMD Application](./images/nanover_imd_server.png)\n",
    "\n",
    "In the above image, we left out the Command service as implicit. \n",
    " \n",
    "Let's look at the Command Service (see the [commands notebook](./commands_and_state.ipynb)), which is used in NanoVer to run arbitrary commands. The definition is written in a protobuf file.\n",
    "\n",
    "```proto\n",
    "package nanover.protocol.command;\n",
    "\n",
    "service Command {\n",
    "\n",
    "    /* Get a list of all the commands available on this service */\n",
    "    rpc GetCommands (GetCommandsRequest) returns (GetCommandsReply) {}\n",
    "\n",
    "    /* Runs a command on the service */\n",
    "    rpc RunCommand (CommandMessage) returns (CommandReply) {}\n",
    "}\n",
    "\n",
    "message GetCommandsRequest {\n",
    "\n",
    "}\n",
    "\n",
    "message GetCommandsReply{\n",
    "    repeated CommandMessage commands = 1;\n",
    "}\n",
    "\n",
    "message CommandReply {\n",
    "    google.protobuf.Struct result = 1;\n",
    "}\n",
    "\n",
    "message CommandMessage {\n",
    "    string name = 1;\n",
    "    google.protobuf.Struct arguments = 2;\n",
    "}\n",
    "```\n"
   ]
  },
  {
   "cell_type": "markdown",
   "metadata": {},
   "source": [
    "So we've defined a service called `Command`, which has two methods: \n",
    "\n",
    "* `RunCommand` - takes a `CommandMessage`, consisting of a `name` and a dictionary-like [protobuf Struct](https://protobuf.dev/reference/java/api-docs/com/google/protobuf/Struct.html#:~:text=%60Struct%60%20represents%20a%20structured%20data,is%20represented%20as%20an%20object.) (a JSON-style dictionary) of `arguments`, and returns a `CommandReply`, which is contains a dictionary of results. \n",
    "* `GetCommands` - takes a `GetCommandsRequest`, which is an empty message, and returns as `GetCommandsReply` which is a list (`repeated`) of `CommandMessages`. The `CommandMessage`, in turn, consists of a `name`, which tells us the name of the command, and a protobuf Struct of default `arguments`. \n"
   ]
  },
  {
   "cell_type": "markdown",
   "metadata": {},
   "source": [
    "To build a server, we take these service definitions and write the code that actually does what this specification says it should do. Then for clients, we just *call* these functions, knowing that they will produce the results we need. "
   ]
  },
  {
   "cell_type": "markdown",
   "metadata": {},
   "source": [
    "## The Server Stack"
   ]
  },
  {
   "cell_type": "markdown",
   "metadata": {},
   "source": [
    "NanoVer servers are just a collection of these GRPC services, with some bells and whistles attached."
   ]
  },
  {
   "cell_type": "markdown",
   "metadata": {},
   "source": [
    "The NanoVer libraries have a lot of servers lying around:"
   ]
  },
  {
   "cell_type": "code",
   "execution_count": 1,
   "metadata": {},
   "outputs": [],
   "source": [
    "from nanover.app import NanoverApplicationServer, NanoverImdApplication\n",
    "from nanover.core import NanoverServer, GrpcServer\n",
    "from nanover.trajectory import FrameServer"
   ]
  },
  {
   "cell_type": "markdown",
   "metadata": {},
   "source": [
    "What do these all do? What should we be using?\n",
    "\n",
    "In what follows, we'll work our way up to high-level application servers, starting from the bottom of the stack with the simplest server"
   ]
  },
  {
   "cell_type": "markdown",
   "metadata": {},
   "source": [
    "# TLDR"
   ]
  },
  {
   "cell_type": "markdown",
   "metadata": {},
   "source": [
    "If you aren't streaming NanoVer frames, the State and Command services and LAN discovery are available with [NanoverApplicationServer](https://irl2.github.io/nanover-docs/python/nanover.app.app_server.html)\n",
    "\n",
    "If you want to stream NanoVer frames without realtime interaction, e.g. trajectory viewing, use [NanoverFrameApplication](https://irl2.github.io/nanover-docs/python/nanover.app.frame_app.html).\n",
    "\n",
    "If you want to support interactive molecular dynamics, use [NanoverImdApplication](https://irl2.github.io/nanover-docs/python/nanover.app.imd_app.html)."
   ]
  },
  {
   "cell_type": "markdown",
   "metadata": {},
   "source": [
    "### gRPC Server"
   ]
  },
  {
   "cell_type": "markdown",
   "metadata": {},
   "source": [
    "All the NanoVer servers are based on the GrpcServer, which handles all the network capabilities for all services attached to it."
   ]
  },
  {
   "cell_type": "code",
   "execution_count": 2,
   "metadata": {},
   "outputs": [
    {
     "name": "stdout",
     "output_type": "stream",
     "text": [
      "hi!\n"
     ]
    }
   ],
   "source": [
    "grpc_server = GrpcServer(address='localhost', port=0)"
   ]
  },
  {
   "cell_type": "markdown",
   "metadata": {},
   "source": [
    "By itself, this server doesn't do much other than set up the underlying [gRPC server](http://grpc.io) with a few little helpers:"
   ]
  },
  {
   "cell_type": "code",
   "execution_count": 3,
   "metadata": {},
   "outputs": [
    {
     "name": "stdout",
     "output_type": "stream",
     "text": [
      "\n",
      "    A base class for running GRPC servers that handles the starting and closing\n",
      "    of the underlying server.\n",
      "\n",
      "    :param address: The IP address at which to run the server.\n",
      "    :param port: The port on which to run the server.\n",
      "\n",
      "    \n"
     ]
    }
   ],
   "source": [
    "print(grpc_server.__doc__)"
   ]
  },
  {
   "cell_type": "code",
   "execution_count": 4,
   "metadata": {},
   "outputs": [
    {
     "data": {
      "text/plain": [
       "['add_service',\n",
       " 'address',\n",
       " 'address_and_port',\n",
       " 'close',\n",
       " 'logger',\n",
       " 'port',\n",
       " 'server',\n",
       " 'setup_services']"
      ]
     },
     "execution_count": 4,
     "metadata": {},
     "output_type": "execute_result"
    }
   ],
   "source": [
    "[x for x in dir(grpc_server) if not x.startswith('_')]"
   ]
  },
  {
   "cell_type": "markdown",
   "metadata": {},
   "source": [
    "Mainly, it provides a method to gracefully close, access to the address and port the server is running on, and the ability to set up new gRPC services. "
   ]
  },
  {
   "cell_type": "markdown",
   "metadata": {},
   "source": [
    "If you just want to run a python gRPC server with a couple of little helpers, this is the one for you."
   ]
  },
  {
   "cell_type": "markdown",
   "metadata": {},
   "source": [
    "In practice, NanoVer servers always want **_commands and state synchronisation_**, so let's add those. "
   ]
  },
  {
   "cell_type": "code",
   "execution_count": 5,
   "metadata": {},
   "outputs": [],
   "source": [
    "from nanover.core.command_service import CommandService\n",
    "from nanover.state.state_service import StateService\n",
    "\n",
    "command_service = CommandService()\n",
    "state_service = StateService()"
   ]
  },
  {
   "cell_type": "markdown",
   "metadata": {},
   "source": [
    "These are the python implementations of the Command and State services. If we add them to the server, it will gain the ability to run commands and synchronise state. For more information, see the [commands and state](./commands_and_state.ipynb) notebook."
   ]
  },
  {
   "cell_type": "code",
   "execution_count": 6,
   "metadata": {},
   "outputs": [],
   "source": [
    "grpc_server.add_service(command_service)\n",
    "grpc_server.add_service(state_service)"
   ]
  },
  {
   "cell_type": "code",
   "execution_count": 7,
   "metadata": {},
   "outputs": [],
   "source": [
    "def hello():\n",
    "    print('hi!')\n",
    "\n",
    "command_service.register_command('hello', hello)"
   ]
  },
  {
   "cell_type": "markdown",
   "metadata": {},
   "source": [
    "Let's check that worked (remember that the output of the command is printed immediately after the cell in which the server was defined)"
   ]
  },
  {
   "cell_type": "code",
   "execution_count": 8,
   "metadata": {},
   "outputs": [],
   "source": [
    "from nanover.core import NanoverClient\n",
    "\n",
    "with NanoverClient.insecure_channel(address=grpc_server.address, port=grpc_server.port) as client:\n",
    "    client.run_command('hello')"
   ]
  },
  {
   "cell_type": "markdown",
   "metadata": {},
   "source": [
    "Cool! We've just created a functioning NanoVer server! If you wanted to write your own GRPC services, you could add them with the same methodology, adding them to the server with `add_service`."
   ]
  },
  {
   "cell_type": "code",
   "execution_count": 9,
   "metadata": {},
   "outputs": [],
   "source": [
    "grpc_server.close()"
   ]
  },
  {
   "cell_type": "markdown",
   "metadata": {},
   "source": [
    "### NanoVer Server"
   ]
  },
  {
   "cell_type": "markdown",
   "metadata": {},
   "source": [
    "Since we almost always want commands and state synchronisation, we've created the NanoVer Server object that does exactly that, so you don't have to type the above. "
   ]
  },
  {
   "cell_type": "code",
   "execution_count": 10,
   "metadata": {},
   "outputs": [
    {
     "name": "stdout",
     "output_type": "stream",
     "text": [
      "hi!\n"
     ]
    }
   ],
   "source": [
    "nanover_server = NanoverServer(address='localhost', port=0)"
   ]
  },
  {
   "cell_type": "code",
   "execution_count": 11,
   "metadata": {},
   "outputs": [
    {
     "name": "stdout",
     "output_type": "stream",
     "text": [
      "\n",
      "    A base for NanoVer gRPC servers. Sets up a gRPC server, and automatically\n",
      "    attaches a :class:`CommandService` and  :class:`StateService` enabling the running of arbitrary commands\n",
      "    and synchronisation of state.\n",
      "    \n"
     ]
    }
   ],
   "source": [
    "print(nanover_server.__doc__)"
   ]
  },
  {
   "cell_type": "code",
   "execution_count": 12,
   "metadata": {},
   "outputs": [],
   "source": [
    "nanover_server.register_command('nanover_hello', hello)"
   ]
  },
  {
   "cell_type": "code",
   "execution_count": 13,
   "metadata": {},
   "outputs": [],
   "source": [
    "with NanoverClient.insecure_channel(address=nanover_server.address, port=nanover_server.port) as client:\n",
    "    client.run_command('nanover_hello')"
   ]
  },
  {
   "cell_type": "markdown",
   "metadata": {},
   "source": [
    "That's the NanoVer server. It's just a GRPC server with the command and state service added. "
   ]
  },
  {
   "cell_type": "markdown",
   "metadata": {},
   "source": [
    "### Frame Server"
   ]
  },
  {
   "cell_type": "markdown",
   "metadata": {},
   "source": [
    "Most NanoVer applications want to transmit some sort of simulation data, i.e. **_frames_**, to clients. For that, we need the frame publishing service. Let's add that to our server:"
   ]
  },
  {
   "cell_type": "code",
   "execution_count": 14,
   "metadata": {},
   "outputs": [],
   "source": [
    "from nanover.trajectory import FramePublisher\n",
    "from nanover.trajectory import FrameData"
   ]
  },
  {
   "cell_type": "code",
   "execution_count": 15,
   "metadata": {},
   "outputs": [],
   "source": [
    "frame_publisher = FramePublisher()"
   ]
  },
  {
   "cell_type": "code",
   "execution_count": 16,
   "metadata": {},
   "outputs": [],
   "source": [
    "nanover_server.add_service(frame_publisher)"
   ]
  },
  {
   "cell_type": "code",
   "execution_count": 17,
   "metadata": {},
   "outputs": [],
   "source": [
    "frame = FrameData()\n",
    "frame.values['hello'] = 'hello'\n",
    "frame_publisher.send_frame(0, frame)"
   ]
  },
  {
   "cell_type": "markdown",
   "metadata": {},
   "source": [
    "Let's check that we can connect and receive frames. The `NanoverImdClient` class is a python client that knows how to receive frames."
   ]
  },
  {
   "cell_type": "code",
   "execution_count": 18,
   "metadata": {},
   "outputs": [
    {
     "name": "stdout",
     "output_type": "stream",
     "text": [
      "values {\n",
      "  key: \"system.simulation.counter\"\n",
      "  value {\n",
      "    number_value: 0\n",
      "  }\n",
      "}\n",
      "values {\n",
      "  key: \"server.timestamp\"\n",
      "  value {\n",
      "    number_value: 2441747.14\n",
      "  }\n",
      "}\n",
      "values {\n",
      "  key: \"hello\"\n",
      "  value {\n",
      "    string_value: \"hello\"\n",
      "  }\n",
      "}\n",
      "\n"
     ]
    }
   ],
   "source": [
    "from nanover.app import NanoverImdClient\n",
    "import time \n",
    "\n",
    "with NanoverImdClient.connect_to_single_server(address=nanover_server.address, port=nanover_server.port) as client:\n",
    "    client.subscribe_to_frames()\n",
    "    client.wait_until_first_frame()\n",
    "    print(client.first_frame)"
   ]
  },
  {
   "cell_type": "code",
   "execution_count": 19,
   "metadata": {},
   "outputs": [],
   "source": [
    "nanover_server.close()"
   ]
  },
  {
   "cell_type": "markdown",
   "metadata": {},
   "source": [
    "This is now a functioning frame server! If we wanted, we could connect to this from VR (if we sent something that looked like a molecule). See the [frames](./frames.ipynb) example notebook for more details on setting up NanoVer frames."
   ]
  },
  {
   "cell_type": "markdown",
   "metadata": {},
   "source": [
    "Since this is common functionality, we wrap this in the `FrameServer`. Similarly, we do the same for multiplayer and IMD with the `MultiplayerServer` and `ImdServer`:"
   ]
  },
  {
   "cell_type": "code",
   "execution_count": null,
   "metadata": {},
   "outputs": [],
   "source": []
  },
  {
   "cell_type": "code",
   "execution_count": 20,
   "metadata": {},
   "outputs": [],
   "source": [
    "frame_server = FrameServer(address='localhost', port=0)"
   ]
  },
  {
   "cell_type": "code",
   "execution_count": 21,
   "metadata": {},
   "outputs": [],
   "source": [
    "frame_server.send_frame(0, frame)"
   ]
  },
  {
   "cell_type": "code",
   "execution_count": 22,
   "metadata": {},
   "outputs": [
    {
     "name": "stdout",
     "output_type": "stream",
     "text": [
      "values {\n",
      "  key: \"system.simulation.counter\"\n",
      "  value {\n",
      "    number_value: 0\n",
      "  }\n",
      "}\n",
      "values {\n",
      "  key: \"server.timestamp\"\n",
      "  value {\n",
      "    number_value: 2441747.203\n",
      "  }\n",
      "}\n",
      "values {\n",
      "  key: \"hello\"\n",
      "  value {\n",
      "    string_value: \"hello\"\n",
      "  }\n",
      "}\n",
      "\n"
     ]
    }
   ],
   "source": [
    "with NanoverImdClient.connect_to_single_server(address=frame_server.address, port=frame_server.port) as client:\n",
    "    client.subscribe_to_frames()\n",
    "    client.wait_until_first_frame()\n",
    "    print(client.first_frame)"
   ]
  },
  {
   "cell_type": "markdown",
   "metadata": {},
   "source": [
    "### Multi-user"
   ]
  },
  {
   "cell_type": "markdown",
   "metadata": {},
   "source": [
    "The server itself is multiplayer agnostic--it provides the ability for clients to coordinate data via the State Service, but it doesn't understand how they are doing it. Clients subscribe to updates from the State Service, and send their own value updates:"
   ]
  },
  {
   "cell_type": "code",
   "execution_count": 23,
   "metadata": {},
   "outputs": [
    {
     "name": "stdout",
     "output_type": "stream",
     "text": [
      "{'a': 2.0}\n"
     ]
    }
   ],
   "source": [
    "with NanoverImdClient.connect_to_single_server(address=frame_server.address, port=frame_server.port) as client:\n",
    "    client.set_shared_value('a', 2)\n",
    "    with NanoverImdClient.connect_to_single_server(address=frame_server.address, port=frame_server.port) as second_client:\n",
    "        second_client.subscribe_multiplayer()\n",
    "        time.sleep(0.05) # Wait for messages to be received.\n",
    "        print(second_client.latest_multiplayer_values)"
   ]
  },
  {
   "cell_type": "markdown",
   "metadata": {},
   "source": [
    "### Discovery (advertising and finding services on a network)"
   ]
  },
  {
   "cell_type": "markdown",
   "metadata": {},
   "source": [
    "This is good if we know the address and port to connect to, but can we make it so we can autoconnect, or find it on the network?\n",
    "\n",
    "Yes! We can manually set up a Discovery server, so our server can be found on the local network."
   ]
  },
  {
   "cell_type": "code",
   "execution_count": 24,
   "metadata": {},
   "outputs": [],
   "source": [
    "from nanover.essd import DiscoveryServer, ServiceHub, DiscoveryClient"
   ]
  },
  {
   "cell_type": "code",
   "execution_count": 25,
   "metadata": {},
   "outputs": [],
   "source": [
    "discovery_server = DiscoveryServer()"
   ]
  },
  {
   "cell_type": "markdown",
   "metadata": {},
   "source": [
    "We define the service hub, specifying what services are available and which port they are running at."
   ]
  },
  {
   "cell_type": "code",
   "execution_count": 26,
   "metadata": {},
   "outputs": [],
   "source": [
    "service_hub = ServiceHub(name=\"My Frame Server\", address=frame_server.address)\n",
    "service_hub.add_service(\"trajectory\", frame_server.port)\n",
    "service_hub.add_service(\"multiplayer\",frame_server.port)"
   ]
  },
  {
   "cell_type": "code",
   "execution_count": 27,
   "metadata": {},
   "outputs": [],
   "source": [
    "# NBVAL_RAISES_EXCEPTION\n",
    "discovery_server.register_service(service_hub)"
   ]
  },
  {
   "cell_type": "markdown",
   "metadata": {},
   "source": [
    "The discovery server will now be broadcasting the existence of the server! Let's search for it:"
   ]
  },
  {
   "cell_type": "code",
   "execution_count": 28,
   "metadata": {},
   "outputs": [],
   "source": [
    "discovery_client = DiscoveryClient()"
   ]
  },
  {
   "cell_type": "code",
   "execution_count": 29,
   "metadata": {},
   "outputs": [
    {
     "name": "stdout",
     "output_type": "stream",
     "text": [
      "[ServiceHub(**{'name': 'My Frame Server', 'address': '127.0.0.1', 'id': 'adaea2a6-ffb5-44c9-9178-5fb9e553fca2', 'essd_version': '1.0.0', 'services': {'trajectory': 55402, 'multiplayer': 55402}})]\n"
     ]
    }
   ],
   "source": [
    "import pprint # pretty print\n",
    "pprint.pprint(list(discovery_client.search_for_services(search_time=1.0)))"
   ]
  },
  {
   "cell_type": "markdown",
   "metadata": {},
   "source": [
    "You may find some other servers that are running on the network, but hopefully your server was found! It is always useful to give your server a specific name, to make it easier for clients to find."
   ]
  },
  {
   "cell_type": "markdown",
   "metadata": {},
   "source": [
    "Now we can use the client's autoconnect functionality (note this may produce unexpected results if you've got multiple servers on the network):"
   ]
  },
  {
   "cell_type": "code",
   "execution_count": 30,
   "metadata": {},
   "outputs": [
    {
     "name": "stdout",
     "output_type": "stream",
     "text": [
      "None\n"
     ]
    }
   ],
   "source": [
    "# NBVAL_RAISES_EXCEPTION\n",
    "with NanoverImdClient.autoconnect() as client:\n",
    "    client.subscribe_to_frames()\n",
    "    print(client.first_frame)"
   ]
  },
  {
   "cell_type": "code",
   "execution_count": 31,
   "metadata": {},
   "outputs": [],
   "source": [
    "frame_server.close()\n",
    "discovery_server.close()\n",
    "discovery_client.close()"
   ]
  },
  {
   "cell_type": "markdown",
   "metadata": {},
   "source": [
    "## The Application Servers"
   ]
  },
  {
   "cell_type": "markdown",
   "metadata": {},
   "source": [
    "Phew, that was quite a lot of work! Luckily, we have a handy wrapper that does all of that for you, the `NanoverApplicationServer`."
   ]
  },
  {
   "cell_type": "code",
   "execution_count": 32,
   "metadata": {},
   "outputs": [
    {
     "name": "stdout",
     "output_type": "stream",
     "text": [
      "\n",
      "    Provides a convenient NanoVer server for typical applications, with local\n",
      "    area network discovery provided by ESSD, multiplayer configuration and a\n",
      "    command service.\n",
      "\n",
      "    Use this a base for building specific applications by inheriting from it\n",
      "    and attaching additional services.\n",
      "    \n"
     ]
    }
   ],
   "source": [
    "print(NanoverApplicationServer.__doc__)"
   ]
  },
  {
   "cell_type": "markdown",
   "metadata": {},
   "source": [
    "The `NanoverFrameApplication` and `NanoverImdApplication` classes inherit from the `NanoverApplicationServer`. The former adds frame support, while the latter adds both frame support and IMD support. Let's try it out."
   ]
  },
  {
   "cell_type": "code",
   "execution_count": 33,
   "metadata": {},
   "outputs": [],
   "source": [
    "imd_app = NanoverImdApplication.basic_server(name=\"My First NanoVer Imd App\", port=0)"
   ]
  },
  {
   "cell_type": "code",
   "execution_count": 34,
   "metadata": {},
   "outputs": [
    {
     "data": {
      "text/plain": [
       "['DEFAULT_SERVER_NAME',\n",
       " 'add_service',\n",
       " 'address',\n",
       " 'basic_server',\n",
       " 'close',\n",
       " 'discovery',\n",
       " 'frame_publisher',\n",
       " 'imd',\n",
       " 'name',\n",
       " 'port',\n",
       " 'running_discovery',\n",
       " 'server']"
      ]
     },
     "execution_count": 34,
     "metadata": {},
     "output_type": "execute_result"
    }
   ],
   "source": [
    "[x for x in dir(imd_app) if not x.startswith('_')]"
   ]
  },
  {
   "cell_type": "markdown",
   "metadata": {},
   "source": [
    "If you were writing your own interactive molecular dynamics application, this is all you need. You can send frames, and you'll receive interactions that you can apply to your MD:\n",
    "\n",
    "Below, we simulate a client connecting, receiving a frame and sending an (empty) interaction."
   ]
  },
  {
   "cell_type": "code",
   "execution_count": 35,
   "metadata": {},
   "outputs": [],
   "source": [
    "imd_app.frame_publisher.send_frame(0, frame)"
   ]
  },
  {
   "cell_type": "code",
   "execution_count": 36,
   "metadata": {},
   "outputs": [
    {
     "name": "stdout",
     "output_type": "stream",
     "text": [
      "Active interactions: {'interaction.d30206cf-cab5-46af-89de-5746967733aa': <ParticleInteraction position:[0. 0. 0.] particles:[] reset_velocities:False scale:1.0 mass_weighted:True max_force:20000.0 type:gaussian other:{}>}\n",
      "Frame Received: values {\n",
      "  key: \"system.simulation.counter\"\n",
      "  value {\n",
      "    number_value: 0\n",
      "  }\n",
      "}\n",
      "values {\n",
      "  key: \"server.timestamp\"\n",
      "  value {\n",
      "    number_value: 2441749.421\n",
      "  }\n",
      "}\n",
      "values {\n",
      "  key: \"hello\"\n",
      "  value {\n",
      "    string_value: \"hello\"\n",
      "  }\n",
      "}\n",
      "\n"
     ]
    }
   ],
   "source": [
    "from nanover.imd.particle_interaction import ParticleInteraction \n",
    "\n",
    "with NanoverImdClient.connect_to_single_server(port=imd_app.port) as client:\n",
    "    client.subscribe_to_frames()\n",
    "    interaction_id = client.start_interaction()\n",
    "    client.update_interaction(interaction_id, ParticleInteraction())\n",
    "    time.sleep(0.05)\n",
    "    print(f'Active interactions: {imd_app.imd.active_interactions}')\n",
    "    print(f'Frame Received: {client.first_frame}')"
   ]
  },
  {
   "cell_type": "code",
   "execution_count": 37,
   "metadata": {},
   "outputs": [],
   "source": [
    "imd_app.close()"
   ]
  },
  {
   "cell_type": "markdown",
   "metadata": {},
   "source": [
    "## Summary "
   ]
  },
  {
   "cell_type": "markdown",
   "metadata": {},
   "source": [
    "In this notebook we've gone from the basic GRPC server all the way up to a full interactive molecular dynamics server with multiplayer, commands, and discovery. "
   ]
  },
  {
   "cell_type": "markdown",
   "metadata": {},
   "source": [
    "The final example is how applications in NanoVer are actually built. For example, this is a sketch of how our NanoVer ASE server works:\n",
    "\n",
    "![NanoVer ASE](./images/nanover-ase.png)\n",
    "\n",
    "With these examples, combining frames, multiplayer and commands, you can build all sorts of things."
   ]
  },
  {
   "cell_type": "markdown",
   "metadata": {},
   "source": [
    "## Next Steps\n",
    "\n",
    "* If you haven't done so already, see more examples of [commands and state synchronisation](./commands_and_state.ipynb).\n",
    "* See an example of building a [trajectory viewing application](../mdanalysis/mdanalysis_trajectory.ipynb)."
   ]
  },
  {
   "cell_type": "code",
   "execution_count": null,
   "metadata": {},
   "outputs": [],
   "source": []
  }
 ],
 "metadata": {
  "kernelspec": {
   "display_name": "Python 3 (ipykernel)",
   "language": "python",
   "name": "python3"
  },
  "language_info": {
   "codemirror_mode": {
    "name": "ipython",
    "version": 3
   },
   "file_extension": ".py",
   "mimetype": "text/x-python",
   "name": "python",
   "nbconvert_exporter": "python",
   "pygments_lexer": "ipython3",
   "version": "3.12.0"
  }
 },
 "nbformat": 4,
 "nbformat_minor": 4
}
